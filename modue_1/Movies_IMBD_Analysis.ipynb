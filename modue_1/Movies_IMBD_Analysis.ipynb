{
 "cells": [
  {
   "cell_type": "code",
   "execution_count": 117,
   "metadata": {
    "_cell_guid": "b1076dfc-b9ad-4769-8c92-a6c4dae69d19",
    "_uuid": "8f2839f25d086af736a60e9eeb907d3b93b6e0e5",
    "colab": {},
    "colab_type": "code",
    "id": "U2D2gTdJVp90"
   },
   "outputs": [],
   "source": [
    "import numpy as np\n",
    "import pandas as pd\n",
    "import seaborn as sns\n",
    "import matplotlib.pyplot as plt\n",
    "from collections import Counter\n",
    "from itertools import combinations"
   ]
  },
  {
   "cell_type": "code",
   "execution_count": 118,
   "metadata": {
    "_cell_guid": "79c7e3d0-c299-4dcb-8224-4455121ee9b0",
    "_uuid": "d629ff2d2480ee46fbb7e2d37f6b5fab8052498a",
    "colab": {},
    "colab_type": "code",
    "id": "oyGfxL3eVp9-",
    "scrolled": true
   },
   "outputs": [
    {
     "data": {
      "text/html": [
       "<div>\n",
       "<style scoped>\n",
       "    .dataframe tbody tr th:only-of-type {\n",
       "        vertical-align: middle;\n",
       "    }\n",
       "\n",
       "    .dataframe tbody tr th {\n",
       "        vertical-align: top;\n",
       "    }\n",
       "\n",
       "    .dataframe thead th {\n",
       "        text-align: right;\n",
       "    }\n",
       "</style>\n",
       "<table border=\"1\" class=\"dataframe\">\n",
       "  <thead>\n",
       "    <tr style=\"text-align: right;\">\n",
       "      <th></th>\n",
       "      <th>imdb_id</th>\n",
       "      <th>budget</th>\n",
       "      <th>revenue</th>\n",
       "      <th>original_title</th>\n",
       "      <th>cast</th>\n",
       "      <th>director</th>\n",
       "      <th>tagline</th>\n",
       "      <th>overview</th>\n",
       "      <th>runtime</th>\n",
       "      <th>genres</th>\n",
       "      <th>production_companies</th>\n",
       "      <th>release_date</th>\n",
       "      <th>vote_average</th>\n",
       "      <th>release_year</th>\n",
       "    </tr>\n",
       "  </thead>\n",
       "  <tbody>\n",
       "    <tr>\n",
       "      <th>684</th>\n",
       "      <td>tt0800240</td>\n",
       "      <td>25000000</td>\n",
       "      <td>17741298</td>\n",
       "      <td>Deception</td>\n",
       "      <td>Hugh Jackman|Ewan McGregor|Michelle Williams|B...</td>\n",
       "      <td>Marcel Langenegger</td>\n",
       "      <td>When you're in this world, no one is who they ...</td>\n",
       "      <td>As a corporate auditor who works in a number o...</td>\n",
       "      <td>107</td>\n",
       "      <td>Drama|Thriller|Crime|Mystery</td>\n",
       "      <td>Rifkin-Eberts|Dune Entertainment III|Seed Prod...</td>\n",
       "      <td>4/24/2008</td>\n",
       "      <td>5.8</td>\n",
       "      <td>2008</td>\n",
       "    </tr>\n",
       "    <tr>\n",
       "      <th>1675</th>\n",
       "      <td>tt0465234</td>\n",
       "      <td>130000000</td>\n",
       "      <td>457363168</td>\n",
       "      <td>National Treasure: Book of Secrets</td>\n",
       "      <td>Nicolas Cage|Jon Voight|Harvey Keitel|Ed Harri...</td>\n",
       "      <td>Jon Turteltaub</td>\n",
       "      <td>The Greatest Adventure History Has Ever Revealed</td>\n",
       "      <td>Benjamin Franklin Gates and Dr. Abigail Chase ...</td>\n",
       "      <td>124</td>\n",
       "      <td>Action|Adventure|Mystery|Thriller</td>\n",
       "      <td>Jerry Bruckheimer Films|Saturn Films|Walt Disn...</td>\n",
       "      <td>12/13/2007</td>\n",
       "      <td>6.0</td>\n",
       "      <td>2007</td>\n",
       "    </tr>\n",
       "    <tr>\n",
       "      <th>1686</th>\n",
       "      <td>tt0822854</td>\n",
       "      <td>61000000</td>\n",
       "      <td>95696996</td>\n",
       "      <td>Shooter</td>\n",
       "      <td>Mark Wahlberg|Michael PeÃ±a|Danny Glover|Kate ...</td>\n",
       "      <td>Antoine Fuqua</td>\n",
       "      <td>Yesterday was about honor. Today is about just...</td>\n",
       "      <td>A marksman living in exile is coaxed back into...</td>\n",
       "      <td>124</td>\n",
       "      <td>Action|Drama|Mystery|Thriller|Crime</td>\n",
       "      <td>Paramount Pictures|Di Bonaventura Pictures|Gro...</td>\n",
       "      <td>3/22/2007</td>\n",
       "      <td>6.9</td>\n",
       "      <td>2007</td>\n",
       "    </tr>\n",
       "    <tr>\n",
       "      <th>1312</th>\n",
       "      <td>tt0330373</td>\n",
       "      <td>150000000</td>\n",
       "      <td>895921036</td>\n",
       "      <td>Harry Potter and the Goblet of Fire</td>\n",
       "      <td>Daniel Radcliffe|Rupert Grint|Emma Watson|Ralp...</td>\n",
       "      <td>Mike Newell</td>\n",
       "      <td>Dark And Difficult Times Lie Ahead.</td>\n",
       "      <td>Harry starts his fourth year at Hogwarts, comp...</td>\n",
       "      <td>157</td>\n",
       "      <td>Adventure|Fantasy|Family</td>\n",
       "      <td>Patalex IV Productions Limited|Warner Bros.|He...</td>\n",
       "      <td>11/5/2005</td>\n",
       "      <td>7.3</td>\n",
       "      <td>2005</td>\n",
       "    </tr>\n",
       "    <tr>\n",
       "      <th>758</th>\n",
       "      <td>tt1568911</td>\n",
       "      <td>66000000</td>\n",
       "      <td>177584879</td>\n",
       "      <td>War Horse</td>\n",
       "      <td>Tom Hiddleston|Benedict Cumberbatch|Toby Kebbe...</td>\n",
       "      <td>Steven Spielberg</td>\n",
       "      <td>Separated by War. Tested by Battle. Bound by F...</td>\n",
       "      <td>Follows a young man named Albert and his horse...</td>\n",
       "      <td>146</td>\n",
       "      <td>Drama|War</td>\n",
       "      <td>DreamWorks SKG|Amblin Entertainment|Reliance E...</td>\n",
       "      <td>12/25/2011</td>\n",
       "      <td>6.9</td>\n",
       "      <td>2011</td>\n",
       "    </tr>\n",
       "  </tbody>\n",
       "</table>\n",
       "</div>"
      ],
      "text/plain": [
       "        imdb_id     budget    revenue                       original_title  \\\n",
       "684   tt0800240   25000000   17741298                            Deception   \n",
       "1675  tt0465234  130000000  457363168   National Treasure: Book of Secrets   \n",
       "1686  tt0822854   61000000   95696996                              Shooter   \n",
       "1312  tt0330373  150000000  895921036  Harry Potter and the Goblet of Fire   \n",
       "758   tt1568911   66000000  177584879                            War Horse   \n",
       "\n",
       "                                                   cast            director  \\\n",
       "684   Hugh Jackman|Ewan McGregor|Michelle Williams|B...  Marcel Langenegger   \n",
       "1675  Nicolas Cage|Jon Voight|Harvey Keitel|Ed Harri...      Jon Turteltaub   \n",
       "1686  Mark Wahlberg|Michael PeÃ±a|Danny Glover|Kate ...       Antoine Fuqua   \n",
       "1312  Daniel Radcliffe|Rupert Grint|Emma Watson|Ralp...         Mike Newell   \n",
       "758   Tom Hiddleston|Benedict Cumberbatch|Toby Kebbe...    Steven Spielberg   \n",
       "\n",
       "                                                tagline  \\\n",
       "684   When you're in this world, no one is who they ...   \n",
       "1675   The Greatest Adventure History Has Ever Revealed   \n",
       "1686  Yesterday was about honor. Today is about just...   \n",
       "1312                Dark And Difficult Times Lie Ahead.   \n",
       "758   Separated by War. Tested by Battle. Bound by F...   \n",
       "\n",
       "                                               overview  runtime  \\\n",
       "684   As a corporate auditor who works in a number o...      107   \n",
       "1675  Benjamin Franklin Gates and Dr. Abigail Chase ...      124   \n",
       "1686  A marksman living in exile is coaxed back into...      124   \n",
       "1312  Harry starts his fourth year at Hogwarts, comp...      157   \n",
       "758   Follows a young man named Albert and his horse...      146   \n",
       "\n",
       "                                   genres  \\\n",
       "684          Drama|Thriller|Crime|Mystery   \n",
       "1675    Action|Adventure|Mystery|Thriller   \n",
       "1686  Action|Drama|Mystery|Thriller|Crime   \n",
       "1312             Adventure|Fantasy|Family   \n",
       "758                             Drama|War   \n",
       "\n",
       "                                   production_companies release_date  \\\n",
       "684   Rifkin-Eberts|Dune Entertainment III|Seed Prod...    4/24/2008   \n",
       "1675  Jerry Bruckheimer Films|Saturn Films|Walt Disn...   12/13/2007   \n",
       "1686  Paramount Pictures|Di Bonaventura Pictures|Gro...    3/22/2007   \n",
       "1312  Patalex IV Productions Limited|Warner Bros.|He...    11/5/2005   \n",
       "758   DreamWorks SKG|Amblin Entertainment|Reliance E...   12/25/2011   \n",
       "\n",
       "      vote_average  release_year  \n",
       "684            5.8          2008  \n",
       "1675           6.0          2007  \n",
       "1686           6.9          2007  \n",
       "1312           7.3          2005  \n",
       "758            6.9          2011  "
      ]
     },
     "execution_count": 118,
     "metadata": {},
     "output_type": "execute_result"
    }
   ],
   "source": [
    "data = pd.read_csv('movie_bd_v5.csv')\n",
    "data.sample(5)"
   ]
  },
  {
   "cell_type": "code",
   "execution_count": 119,
   "metadata": {
    "colab": {},
    "colab_type": "code",
    "id": "CoYUnagMVp-C"
   },
   "outputs": [
    {
     "data": {
      "text/html": [
       "<div>\n",
       "<style scoped>\n",
       "    .dataframe tbody tr th:only-of-type {\n",
       "        vertical-align: middle;\n",
       "    }\n",
       "\n",
       "    .dataframe tbody tr th {\n",
       "        vertical-align: top;\n",
       "    }\n",
       "\n",
       "    .dataframe thead th {\n",
       "        text-align: right;\n",
       "    }\n",
       "</style>\n",
       "<table border=\"1\" class=\"dataframe\">\n",
       "  <thead>\n",
       "    <tr style=\"text-align: right;\">\n",
       "      <th></th>\n",
       "      <th>budget</th>\n",
       "      <th>revenue</th>\n",
       "      <th>runtime</th>\n",
       "      <th>vote_average</th>\n",
       "      <th>release_year</th>\n",
       "    </tr>\n",
       "  </thead>\n",
       "  <tbody>\n",
       "    <tr>\n",
       "      <th>count</th>\n",
       "      <td>1.889000e+03</td>\n",
       "      <td>1.889000e+03</td>\n",
       "      <td>1889.000000</td>\n",
       "      <td>1889.000000</td>\n",
       "      <td>1889.000000</td>\n",
       "    </tr>\n",
       "    <tr>\n",
       "      <th>mean</th>\n",
       "      <td>5.431083e+07</td>\n",
       "      <td>1.553653e+08</td>\n",
       "      <td>109.658549</td>\n",
       "      <td>6.140762</td>\n",
       "      <td>2007.860773</td>\n",
       "    </tr>\n",
       "    <tr>\n",
       "      <th>std</th>\n",
       "      <td>4.858721e+07</td>\n",
       "      <td>2.146698e+08</td>\n",
       "      <td>18.017041</td>\n",
       "      <td>0.764763</td>\n",
       "      <td>4.468841</td>\n",
       "    </tr>\n",
       "    <tr>\n",
       "      <th>min</th>\n",
       "      <td>5.000000e+06</td>\n",
       "      <td>2.033165e+06</td>\n",
       "      <td>63.000000</td>\n",
       "      <td>3.300000</td>\n",
       "      <td>2000.000000</td>\n",
       "    </tr>\n",
       "    <tr>\n",
       "      <th>25%</th>\n",
       "      <td>2.000000e+07</td>\n",
       "      <td>3.456058e+07</td>\n",
       "      <td>97.000000</td>\n",
       "      <td>5.600000</td>\n",
       "      <td>2004.000000</td>\n",
       "    </tr>\n",
       "    <tr>\n",
       "      <th>50%</th>\n",
       "      <td>3.800000e+07</td>\n",
       "      <td>8.361541e+07</td>\n",
       "      <td>107.000000</td>\n",
       "      <td>6.100000</td>\n",
       "      <td>2008.000000</td>\n",
       "    </tr>\n",
       "    <tr>\n",
       "      <th>75%</th>\n",
       "      <td>7.200000e+07</td>\n",
       "      <td>1.782626e+08</td>\n",
       "      <td>120.000000</td>\n",
       "      <td>6.600000</td>\n",
       "      <td>2012.000000</td>\n",
       "    </tr>\n",
       "    <tr>\n",
       "      <th>max</th>\n",
       "      <td>3.800000e+08</td>\n",
       "      <td>2.781506e+09</td>\n",
       "      <td>214.000000</td>\n",
       "      <td>8.100000</td>\n",
       "      <td>2015.000000</td>\n",
       "    </tr>\n",
       "  </tbody>\n",
       "</table>\n",
       "</div>"
      ],
      "text/plain": [
       "             budget       revenue      runtime  vote_average  release_year\n",
       "count  1.889000e+03  1.889000e+03  1889.000000   1889.000000   1889.000000\n",
       "mean   5.431083e+07  1.553653e+08   109.658549      6.140762   2007.860773\n",
       "std    4.858721e+07  2.146698e+08    18.017041      0.764763      4.468841\n",
       "min    5.000000e+06  2.033165e+06    63.000000      3.300000   2000.000000\n",
       "25%    2.000000e+07  3.456058e+07    97.000000      5.600000   2004.000000\n",
       "50%    3.800000e+07  8.361541e+07   107.000000      6.100000   2008.000000\n",
       "75%    7.200000e+07  1.782626e+08   120.000000      6.600000   2012.000000\n",
       "max    3.800000e+08  2.781506e+09   214.000000      8.100000   2015.000000"
      ]
     },
     "execution_count": 119,
     "metadata": {},
     "output_type": "execute_result"
    }
   ],
   "source": [
    "data.describe()"
   ]
  },
  {
   "cell_type": "markdown",
   "metadata": {
    "colab_type": "text",
    "id": "DTIt7ezGVp-G"
   },
   "source": [
    "# Предобработка / Data Preprocessing"
   ]
  },
  {
   "cell_type": "code",
   "execution_count": 120,
   "metadata": {
    "colab": {},
    "colab_type": "code",
    "id": "jNb40DwKVp-H",
    "scrolled": true
   },
   "outputs": [],
   "source": [
    "answers = {}  # A dictionary for answers is created"
   ]
  },
  {
   "cell_type": "code",
   "execution_count": 121,
   "metadata": {},
   "outputs": [],
   "source": [
    "# String format of cells which may contain several names is\n",
    "# changed to list.\n",
    "data['genres'] = data['genres'].apply(lambda x: x.split('|'))\n",
    "data['cast'] = data['cast'].apply(lambda x: x.split('|'))\n",
    "data['director'] = data['director'].apply(lambda x: x.split('|'))\n",
    "data['production_companies'] = data['production_companies'].apply(\n",
    "    lambda x: x.split('|'))\n",
    "\n",
    "# Release date is given in string format, hence it is changed\n",
    "# to datetime format.\n",
    "data['release_date'] = pd.to_datetime(data['release_date'])\n",
    "\n",
    "# Actors in cast column are sorted in alphabetical order\n",
    "# to apply combinations function next.\n",
    "# This is required since combinations function treats\n",
    "# elements as unique based on their position, not on their value.\n",
    "data['cast'] = data['cast'].apply(lambda x: sorted(x))"
   ]
  },
  {
   "cell_type": "code",
   "execution_count": 122,
   "metadata": {},
   "outputs": [],
   "source": [
    "# Several new columns are created for further analysis.\n",
    "data['profit'] = data['revenue'] - data['budget']\n",
    "data['release_month'] = pd.DatetimeIndex(data['release_date']).month\n",
    "data['title_length'] = data['original_title'].apply(lambda x: len(x))\n",
    "data['overview_length'] = data['overview'].apply(lambda x: len(x.split()))\n",
    "data['pairs'] = data['cast'].apply(lambda x: list(combinations(x, 2)))"
   ]
  },
  {
   "cell_type": "code",
   "execution_count": 123,
   "metadata": {
    "scrolled": false
   },
   "outputs": [
    {
     "data": {
      "text/html": [
       "<div>\n",
       "<style scoped>\n",
       "    .dataframe tbody tr th:only-of-type {\n",
       "        vertical-align: middle;\n",
       "    }\n",
       "\n",
       "    .dataframe tbody tr th {\n",
       "        vertical-align: top;\n",
       "    }\n",
       "\n",
       "    .dataframe thead th {\n",
       "        text-align: right;\n",
       "    }\n",
       "</style>\n",
       "<table border=\"1\" class=\"dataframe\">\n",
       "  <thead>\n",
       "    <tr style=\"text-align: right;\">\n",
       "      <th></th>\n",
       "      <th>imdb_id</th>\n",
       "      <th>budget</th>\n",
       "      <th>revenue</th>\n",
       "      <th>original_title</th>\n",
       "      <th>cast</th>\n",
       "      <th>director</th>\n",
       "      <th>tagline</th>\n",
       "      <th>overview</th>\n",
       "      <th>runtime</th>\n",
       "      <th>genres</th>\n",
       "      <th>production_companies</th>\n",
       "      <th>release_date</th>\n",
       "      <th>vote_average</th>\n",
       "      <th>release_year</th>\n",
       "      <th>profit</th>\n",
       "      <th>release_month</th>\n",
       "      <th>title_length</th>\n",
       "      <th>overview_length</th>\n",
       "      <th>pairs</th>\n",
       "    </tr>\n",
       "  </thead>\n",
       "  <tbody>\n",
       "    <tr>\n",
       "      <th>491</th>\n",
       "      <td>tt1320239</td>\n",
       "      <td>10000000</td>\n",
       "      <td>4349187</td>\n",
       "      <td>Burke &amp; Hare</td>\n",
       "      <td>[Andy Serkis, Isla Fisher, Simon Pegg, Tim Cur...</td>\n",
       "      <td>[John Landis]</td>\n",
       "      <td>No Job Too Small. No Body Too Big. No Question...</td>\n",
       "      <td>Two 19th-century opportunists (Simon Pegg, And...</td>\n",
       "      <td>91</td>\n",
       "      <td>[Comedy, Thriller]</td>\n",
       "      <td>[Ealing Studios, Fragile Films, Quickfire Film...</td>\n",
       "      <td>2010-10-29</td>\n",
       "      <td>6.0</td>\n",
       "      <td>2010</td>\n",
       "      <td>-5650813</td>\n",
       "      <td>10</td>\n",
       "      <td>12</td>\n",
       "      <td>25</td>\n",
       "      <td>[(Andy Serkis, Isla Fisher), (Andy Serkis, Sim...</td>\n",
       "    </tr>\n",
       "    <tr>\n",
       "      <th>1781</th>\n",
       "      <td>tt0841046</td>\n",
       "      <td>35000000</td>\n",
       "      <td>18317151</td>\n",
       "      <td>Walk Hard: The Dewey Cox Story</td>\n",
       "      <td>[Jenna Fischer, John C. Reilly, Kristen Wiig, ...</td>\n",
       "      <td>[Jake Kasdan]</td>\n",
       "      <td>Life made him tough. Love made him strong. Mus...</td>\n",
       "      <td>Singer Dewey Cox overcomes adversity to become...</td>\n",
       "      <td>96</td>\n",
       "      <td>[Comedy, Music]</td>\n",
       "      <td>[Columbia Pictures Corporation, Apatow Product...</td>\n",
       "      <td>2007-12-21</td>\n",
       "      <td>6.5</td>\n",
       "      <td>2007</td>\n",
       "      <td>-16682849</td>\n",
       "      <td>12</td>\n",
       "      <td>30</td>\n",
       "      <td>10</td>\n",
       "      <td>[(Jenna Fischer, John C. Reilly), (Jenna Fisch...</td>\n",
       "    </tr>\n",
       "    <tr>\n",
       "      <th>269</th>\n",
       "      <td>tt1114740</td>\n",
       "      <td>26000000</td>\n",
       "      <td>183293131</td>\n",
       "      <td>Paul Blart: Mall Cop</td>\n",
       "      <td>[Jayma Mays, Keir O'Donnell, Kevin James, Rain...</td>\n",
       "      <td>[Steve Carr]</td>\n",
       "      <td>Safety Never Takes A Holiday.</td>\n",
       "      <td>Mild-mannered Paul Blart (Kevin James) has alw...</td>\n",
       "      <td>91</td>\n",
       "      <td>[Action, Adventure, Comedy, Family]</td>\n",
       "      <td>[Columbia Pictures, Happy Madison Productions,...</td>\n",
       "      <td>2009-01-15</td>\n",
       "      <td>5.4</td>\n",
       "      <td>2009</td>\n",
       "      <td>157293131</td>\n",
       "      <td>1</td>\n",
       "      <td>20</td>\n",
       "      <td>75</td>\n",
       "      <td>[(Jayma Mays, Keir O'Donnell), (Jayma Mays, Ke...</td>\n",
       "    </tr>\n",
       "    <tr>\n",
       "      <th>665</th>\n",
       "      <td>tt0852713</td>\n",
       "      <td>25000000</td>\n",
       "      <td>70442940</td>\n",
       "      <td>The House Bunny</td>\n",
       "      <td>[Anna Faris, Emma Stone, Kat Dennings, Kathari...</td>\n",
       "      <td>[Fred Wolf]</td>\n",
       "      <td>For the girls of ZETA house college life was n...</td>\n",
       "      <td>Shelley is living a carefree life until a riva...</td>\n",
       "      <td>97</td>\n",
       "      <td>[Romance, Comedy]</td>\n",
       "      <td>[Columbia Pictures, Happy Madison Productions,...</td>\n",
       "      <td>2008-08-22</td>\n",
       "      <td>5.6</td>\n",
       "      <td>2008</td>\n",
       "      <td>45442940</td>\n",
       "      <td>8</td>\n",
       "      <td>15</td>\n",
       "      <td>108</td>\n",
       "      <td>[(Anna Faris, Emma Stone), (Anna Faris, Kat De...</td>\n",
       "    </tr>\n",
       "    <tr>\n",
       "      <th>1587</th>\n",
       "      <td>tt0356634</td>\n",
       "      <td>50000000</td>\n",
       "      <td>200804534</td>\n",
       "      <td>Garfield</td>\n",
       "      <td>[Bill Murray, Breckin Meyer, Evan Arnold, Jenn...</td>\n",
       "      <td>[Peter Hewitt]</td>\n",
       "      <td>Get ready for frisky business.</td>\n",
       "      <td>Garfield, the fat, lazy, lasagna lover, has ev...</td>\n",
       "      <td>80</td>\n",
       "      <td>[Animation, Comedy, Family]</td>\n",
       "      <td>[Twentieth Century Fox Film Corporation, Davis...</td>\n",
       "      <td>2004-06-10</td>\n",
       "      <td>5.2</td>\n",
       "      <td>2004</td>\n",
       "      <td>150804534</td>\n",
       "      <td>6</td>\n",
       "      <td>8</td>\n",
       "      <td>49</td>\n",
       "      <td>[(Bill Murray, Breckin Meyer), (Bill Murray, E...</td>\n",
       "    </tr>\n",
       "  </tbody>\n",
       "</table>\n",
       "</div>"
      ],
      "text/plain": [
       "        imdb_id    budget    revenue                  original_title  \\\n",
       "491   tt1320239  10000000    4349187                    Burke & Hare   \n",
       "1781  tt0841046  35000000   18317151  Walk Hard: The Dewey Cox Story   \n",
       "269   tt1114740  26000000  183293131            Paul Blart: Mall Cop   \n",
       "665   tt0852713  25000000   70442940                 The House Bunny   \n",
       "1587  tt0356634  50000000  200804534                        Garfield   \n",
       "\n",
       "                                                   cast        director  \\\n",
       "491   [Andy Serkis, Isla Fisher, Simon Pegg, Tim Cur...   [John Landis]   \n",
       "1781  [Jenna Fischer, John C. Reilly, Kristen Wiig, ...   [Jake Kasdan]   \n",
       "269   [Jayma Mays, Keir O'Donnell, Kevin James, Rain...    [Steve Carr]   \n",
       "665   [Anna Faris, Emma Stone, Kat Dennings, Kathari...     [Fred Wolf]   \n",
       "1587  [Bill Murray, Breckin Meyer, Evan Arnold, Jenn...  [Peter Hewitt]   \n",
       "\n",
       "                                                tagline  \\\n",
       "491   No Job Too Small. No Body Too Big. No Question...   \n",
       "1781  Life made him tough. Love made him strong. Mus...   \n",
       "269                       Safety Never Takes A Holiday.   \n",
       "665   For the girls of ZETA house college life was n...   \n",
       "1587                     Get ready for frisky business.   \n",
       "\n",
       "                                               overview  runtime  \\\n",
       "491   Two 19th-century opportunists (Simon Pegg, And...       91   \n",
       "1781  Singer Dewey Cox overcomes adversity to become...       96   \n",
       "269   Mild-mannered Paul Blart (Kevin James) has alw...       91   \n",
       "665   Shelley is living a carefree life until a riva...       97   \n",
       "1587  Garfield, the fat, lazy, lasagna lover, has ev...       80   \n",
       "\n",
       "                                   genres  \\\n",
       "491                    [Comedy, Thriller]   \n",
       "1781                      [Comedy, Music]   \n",
       "269   [Action, Adventure, Comedy, Family]   \n",
       "665                     [Romance, Comedy]   \n",
       "1587          [Animation, Comedy, Family]   \n",
       "\n",
       "                                   production_companies release_date  \\\n",
       "491   [Ealing Studios, Fragile Films, Quickfire Film...   2010-10-29   \n",
       "1781  [Columbia Pictures Corporation, Apatow Product...   2007-12-21   \n",
       "269   [Columbia Pictures, Happy Madison Productions,...   2009-01-15   \n",
       "665   [Columbia Pictures, Happy Madison Productions,...   2008-08-22   \n",
       "1587  [Twentieth Century Fox Film Corporation, Davis...   2004-06-10   \n",
       "\n",
       "      vote_average  release_year     profit  release_month  title_length  \\\n",
       "491            6.0          2010   -5650813             10            12   \n",
       "1781           6.5          2007  -16682849             12            30   \n",
       "269            5.4          2009  157293131              1            20   \n",
       "665            5.6          2008   45442940              8            15   \n",
       "1587           5.2          2004  150804534              6             8   \n",
       "\n",
       "      overview_length                                              pairs  \n",
       "491                25  [(Andy Serkis, Isla Fisher), (Andy Serkis, Sim...  \n",
       "1781               10  [(Jenna Fischer, John C. Reilly), (Jenna Fisch...  \n",
       "269                75  [(Jayma Mays, Keir O'Donnell), (Jayma Mays, Ke...  \n",
       "665               108  [(Anna Faris, Emma Stone), (Anna Faris, Kat De...  \n",
       "1587               49  [(Bill Murray, Breckin Meyer), (Bill Murray, E...  "
      ]
     },
     "execution_count": 123,
     "metadata": {},
     "output_type": "execute_result"
    }
   ],
   "source": [
    "data.sample(5)  # sample of the updated dataset with amended and new columns"
   ]
  },
  {
   "cell_type": "code",
   "execution_count": 124,
   "metadata": {},
   "outputs": [
    {
     "name": "stdout",
     "output_type": "stream",
     "text": [
      "<class 'pandas.core.frame.DataFrame'>\n",
      "RangeIndex: 1889 entries, 0 to 1888\n",
      "Data columns (total 19 columns):\n",
      " #   Column                Non-Null Count  Dtype         \n",
      "---  ------                --------------  -----         \n",
      " 0   imdb_id               1889 non-null   object        \n",
      " 1   budget                1889 non-null   int64         \n",
      " 2   revenue               1889 non-null   int64         \n",
      " 3   original_title        1889 non-null   object        \n",
      " 4   cast                  1889 non-null   object        \n",
      " 5   director              1889 non-null   object        \n",
      " 6   tagline               1889 non-null   object        \n",
      " 7   overview              1889 non-null   object        \n",
      " 8   runtime               1889 non-null   int64         \n",
      " 9   genres                1889 non-null   object        \n",
      " 10  production_companies  1889 non-null   object        \n",
      " 11  release_date          1889 non-null   datetime64[ns]\n",
      " 12  vote_average          1889 non-null   float64       \n",
      " 13  release_year          1889 non-null   int64         \n",
      " 14  profit                1889 non-null   int64         \n",
      " 15  release_month         1889 non-null   int64         \n",
      " 16  title_length          1889 non-null   int64         \n",
      " 17  overview_length       1889 non-null   int64         \n",
      " 18  pairs                 1889 non-null   object        \n",
      "dtypes: datetime64[ns](1), float64(1), int64(8), object(9)\n",
      "memory usage: 280.5+ KB\n"
     ]
    }
   ],
   "source": [
    "data.info()"
   ]
  },
  {
   "cell_type": "markdown",
   "metadata": {
    "colab_type": "text",
    "id": "YxZaH-nPVp-L"
   },
   "source": [
    "# 1. У какого фильма из списка самый большой бюджет?\n",
    "### Which movie has the biggest budget?"
   ]
  },
  {
   "cell_type": "code",
   "execution_count": 125,
   "metadata": {
    "colab": {},
    "colab_type": "code",
    "id": "uVnXAY5RVp-O",
    "scrolled": true
   },
   "outputs": [],
   "source": [
    "answers['1'] = 'Pirates of the Caribbean: On Stranger Tides (tt1298650)'"
   ]
  },
  {
   "cell_type": "code",
   "execution_count": 126,
   "metadata": {
    "colab": {},
    "colab_type": "code",
    "id": "OGaoQI7rVp-X"
   },
   "outputs": [
    {
     "data": {
      "text/html": [
       "<div>\n",
       "<style scoped>\n",
       "    .dataframe tbody tr th:only-of-type {\n",
       "        vertical-align: middle;\n",
       "    }\n",
       "\n",
       "    .dataframe tbody tr th {\n",
       "        vertical-align: top;\n",
       "    }\n",
       "\n",
       "    .dataframe thead th {\n",
       "        text-align: right;\n",
       "    }\n",
       "</style>\n",
       "<table border=\"1\" class=\"dataframe\">\n",
       "  <thead>\n",
       "    <tr style=\"text-align: right;\">\n",
       "      <th></th>\n",
       "      <th>imdb_id</th>\n",
       "      <th>budget</th>\n",
       "      <th>revenue</th>\n",
       "      <th>original_title</th>\n",
       "      <th>cast</th>\n",
       "      <th>director</th>\n",
       "      <th>tagline</th>\n",
       "      <th>overview</th>\n",
       "      <th>runtime</th>\n",
       "      <th>genres</th>\n",
       "      <th>production_companies</th>\n",
       "      <th>release_date</th>\n",
       "      <th>vote_average</th>\n",
       "      <th>release_year</th>\n",
       "      <th>profit</th>\n",
       "      <th>release_month</th>\n",
       "      <th>title_length</th>\n",
       "      <th>overview_length</th>\n",
       "      <th>pairs</th>\n",
       "    </tr>\n",
       "  </thead>\n",
       "  <tbody>\n",
       "    <tr>\n",
       "      <th>723</th>\n",
       "      <td>tt1298650</td>\n",
       "      <td>380000000</td>\n",
       "      <td>1021683000</td>\n",
       "      <td>Pirates of the Caribbean: On Stranger Tides</td>\n",
       "      <td>[Geoffrey Rush, Ian McShane, Johnny Depp, Kevi...</td>\n",
       "      <td>[Rob Marshall]</td>\n",
       "      <td>Live Forever Or Die Trying.</td>\n",
       "      <td>Captain Jack Sparrow crosses paths with a woma...</td>\n",
       "      <td>136</td>\n",
       "      <td>[Adventure, Action, Fantasy]</td>\n",
       "      <td>[Walt Disney Pictures, Jerry Bruckheimer Films...</td>\n",
       "      <td>2011-05-11</td>\n",
       "      <td>6.3</td>\n",
       "      <td>2011</td>\n",
       "      <td>641683000</td>\n",
       "      <td>5</td>\n",
       "      <td>43</td>\n",
       "      <td>75</td>\n",
       "      <td>[(Geoffrey Rush, Ian McShane), (Geoffrey Rush,...</td>\n",
       "    </tr>\n",
       "  </tbody>\n",
       "</table>\n",
       "</div>"
      ],
      "text/plain": [
       "       imdb_id     budget     revenue  \\\n",
       "723  tt1298650  380000000  1021683000   \n",
       "\n",
       "                                  original_title  \\\n",
       "723  Pirates of the Caribbean: On Stranger Tides   \n",
       "\n",
       "                                                  cast        director  \\\n",
       "723  [Geoffrey Rush, Ian McShane, Johnny Depp, Kevi...  [Rob Marshall]   \n",
       "\n",
       "                         tagline  \\\n",
       "723  Live Forever Or Die Trying.   \n",
       "\n",
       "                                              overview  runtime  \\\n",
       "723  Captain Jack Sparrow crosses paths with a woma...      136   \n",
       "\n",
       "                           genres  \\\n",
       "723  [Adventure, Action, Fantasy]   \n",
       "\n",
       "                                  production_companies release_date  \\\n",
       "723  [Walt Disney Pictures, Jerry Bruckheimer Films...   2011-05-11   \n",
       "\n",
       "     vote_average  release_year     profit  release_month  title_length  \\\n",
       "723           6.3          2011  641683000              5            43   \n",
       "\n",
       "     overview_length                                              pairs  \n",
       "723               75  [(Geoffrey Rush, Ian McShane), (Geoffrey Rush,...  "
      ]
     },
     "execution_count": 126,
     "metadata": {},
     "output_type": "execute_result"
    }
   ],
   "source": [
    "data[data.budget == data.budget.max()]"
   ]
  },
  {
   "cell_type": "markdown",
   "metadata": {
    "colab_type": "text",
    "id": "FNRbbI3vVp-c"
   },
   "source": [
    "# 2. Какой из фильмов самый длительный (в минутах)?\n",
    "### Which movie is the longest (in munites)?"
   ]
  },
  {
   "cell_type": "code",
   "execution_count": 127,
   "metadata": {
    "colab": {},
    "colab_type": "code",
    "id": "vHAoEXNTVp-d"
   },
   "outputs": [],
   "source": [
    "answers['2'] = 'Gods and Generals (tt0279111)'"
   ]
  },
  {
   "cell_type": "code",
   "execution_count": 128,
   "metadata": {
    "colab": {},
    "colab_type": "code",
    "id": "ot-VX2XrVp-g"
   },
   "outputs": [
    {
     "data": {
      "text/html": [
       "<div>\n",
       "<style scoped>\n",
       "    .dataframe tbody tr th:only-of-type {\n",
       "        vertical-align: middle;\n",
       "    }\n",
       "\n",
       "    .dataframe tbody tr th {\n",
       "        vertical-align: top;\n",
       "    }\n",
       "\n",
       "    .dataframe thead th {\n",
       "        text-align: right;\n",
       "    }\n",
       "</style>\n",
       "<table border=\"1\" class=\"dataframe\">\n",
       "  <thead>\n",
       "    <tr style=\"text-align: right;\">\n",
       "      <th></th>\n",
       "      <th>imdb_id</th>\n",
       "      <th>budget</th>\n",
       "      <th>revenue</th>\n",
       "      <th>original_title</th>\n",
       "      <th>cast</th>\n",
       "      <th>director</th>\n",
       "      <th>tagline</th>\n",
       "      <th>overview</th>\n",
       "      <th>runtime</th>\n",
       "      <th>genres</th>\n",
       "      <th>production_companies</th>\n",
       "      <th>release_date</th>\n",
       "      <th>vote_average</th>\n",
       "      <th>release_year</th>\n",
       "      <th>profit</th>\n",
       "      <th>release_month</th>\n",
       "      <th>title_length</th>\n",
       "      <th>overview_length</th>\n",
       "      <th>pairs</th>\n",
       "    </tr>\n",
       "  </thead>\n",
       "  <tbody>\n",
       "    <tr>\n",
       "      <th>1157</th>\n",
       "      <td>tt0279111</td>\n",
       "      <td>56000000</td>\n",
       "      <td>12923936</td>\n",
       "      <td>Gods and Generals</td>\n",
       "      <td>[C. Thomas Howell, Jeff Daniels, Kevin Conway,...</td>\n",
       "      <td>[Ronald F. Maxwell]</td>\n",
       "      <td>The nations heart was touched by...</td>\n",
       "      <td>The film centers mostly around the personal an...</td>\n",
       "      <td>214</td>\n",
       "      <td>[Drama, History, War]</td>\n",
       "      <td>[Turner Pictures, Antietam Filmworks]</td>\n",
       "      <td>2003-02-21</td>\n",
       "      <td>5.8</td>\n",
       "      <td>2003</td>\n",
       "      <td>-43076064</td>\n",
       "      <td>2</td>\n",
       "      <td>17</td>\n",
       "      <td>48</td>\n",
       "      <td>[(C. Thomas Howell, Jeff Daniels), (C. Thomas ...</td>\n",
       "    </tr>\n",
       "  </tbody>\n",
       "</table>\n",
       "</div>"
      ],
      "text/plain": [
       "        imdb_id    budget   revenue     original_title  \\\n",
       "1157  tt0279111  56000000  12923936  Gods and Generals   \n",
       "\n",
       "                                                   cast             director  \\\n",
       "1157  [C. Thomas Howell, Jeff Daniels, Kevin Conway,...  [Ronald F. Maxwell]   \n",
       "\n",
       "                                  tagline  \\\n",
       "1157  The nations heart was touched by...   \n",
       "\n",
       "                                               overview  runtime  \\\n",
       "1157  The film centers mostly around the personal an...      214   \n",
       "\n",
       "                     genres                   production_companies  \\\n",
       "1157  [Drama, History, War]  [Turner Pictures, Antietam Filmworks]   \n",
       "\n",
       "     release_date  vote_average  release_year    profit  release_month  \\\n",
       "1157   2003-02-21           5.8          2003 -43076064              2   \n",
       "\n",
       "      title_length  overview_length  \\\n",
       "1157            17               48   \n",
       "\n",
       "                                                  pairs  \n",
       "1157  [(C. Thomas Howell, Jeff Daniels), (C. Thomas ...  "
      ]
     },
     "execution_count": 128,
     "metadata": {},
     "output_type": "execute_result"
    }
   ],
   "source": [
    "data[data.runtime == data.runtime.max()]"
   ]
  },
  {
   "cell_type": "markdown",
   "metadata": {
    "colab_type": "text",
    "id": "bapLlpW8Vp-k"
   },
   "source": [
    "# 3. Какой из фильмов самый короткий (в минутах)?\n",
    "### Which movie is the shortest (in minutes)?"
   ]
  },
  {
   "cell_type": "code",
   "execution_count": 129,
   "metadata": {},
   "outputs": [],
   "source": [
    "answers['3'] = 'Winnie the Pooh (tt1449283)'"
   ]
  },
  {
   "cell_type": "code",
   "execution_count": 130,
   "metadata": {
    "colab": {},
    "colab_type": "code",
    "id": "YBxaSHuAVp-l",
    "scrolled": true
   },
   "outputs": [
    {
     "data": {
      "text/html": [
       "<div>\n",
       "<style scoped>\n",
       "    .dataframe tbody tr th:only-of-type {\n",
       "        vertical-align: middle;\n",
       "    }\n",
       "\n",
       "    .dataframe tbody tr th {\n",
       "        vertical-align: top;\n",
       "    }\n",
       "\n",
       "    .dataframe thead th {\n",
       "        text-align: right;\n",
       "    }\n",
       "</style>\n",
       "<table border=\"1\" class=\"dataframe\">\n",
       "  <thead>\n",
       "    <tr style=\"text-align: right;\">\n",
       "      <th></th>\n",
       "      <th>imdb_id</th>\n",
       "      <th>budget</th>\n",
       "      <th>revenue</th>\n",
       "      <th>original_title</th>\n",
       "      <th>cast</th>\n",
       "      <th>director</th>\n",
       "      <th>tagline</th>\n",
       "      <th>overview</th>\n",
       "      <th>runtime</th>\n",
       "      <th>genres</th>\n",
       "      <th>production_companies</th>\n",
       "      <th>release_date</th>\n",
       "      <th>vote_average</th>\n",
       "      <th>release_year</th>\n",
       "      <th>profit</th>\n",
       "      <th>release_month</th>\n",
       "      <th>title_length</th>\n",
       "      <th>overview_length</th>\n",
       "      <th>pairs</th>\n",
       "    </tr>\n",
       "  </thead>\n",
       "  <tbody>\n",
       "    <tr>\n",
       "      <th>768</th>\n",
       "      <td>tt1449283</td>\n",
       "      <td>30000000</td>\n",
       "      <td>14460000</td>\n",
       "      <td>Winnie the Pooh</td>\n",
       "      <td>[Bud Luckey, Craig Ferguson, Jim Cummings, Jim...</td>\n",
       "      <td>[Stephen Anderson, Don Hall]</td>\n",
       "      <td>Oh Pooh.</td>\n",
       "      <td>During an ordinary day in Hundred Acre Wood, W...</td>\n",
       "      <td>63</td>\n",
       "      <td>[Animation, Family]</td>\n",
       "      <td>[Walt Disney Pictures, Walt Disney Animation S...</td>\n",
       "      <td>2011-04-13</td>\n",
       "      <td>6.8</td>\n",
       "      <td>2011</td>\n",
       "      <td>-15540000</td>\n",
       "      <td>4</td>\n",
       "      <td>15</td>\n",
       "      <td>52</td>\n",
       "      <td>[(Bud Luckey, Craig Ferguson), (Bud Luckey, Ji...</td>\n",
       "    </tr>\n",
       "  </tbody>\n",
       "</table>\n",
       "</div>"
      ],
      "text/plain": [
       "       imdb_id    budget   revenue   original_title  \\\n",
       "768  tt1449283  30000000  14460000  Winnie the Pooh   \n",
       "\n",
       "                                                  cast  \\\n",
       "768  [Bud Luckey, Craig Ferguson, Jim Cummings, Jim...   \n",
       "\n",
       "                         director   tagline  \\\n",
       "768  [Stephen Anderson, Don Hall]  Oh Pooh.   \n",
       "\n",
       "                                              overview  runtime  \\\n",
       "768  During an ordinary day in Hundred Acre Wood, W...       63   \n",
       "\n",
       "                  genres                               production_companies  \\\n",
       "768  [Animation, Family]  [Walt Disney Pictures, Walt Disney Animation S...   \n",
       "\n",
       "    release_date  vote_average  release_year    profit  release_month  \\\n",
       "768   2011-04-13           6.8          2011 -15540000              4   \n",
       "\n",
       "     title_length  overview_length  \\\n",
       "768            15               52   \n",
       "\n",
       "                                                 pairs  \n",
       "768  [(Bud Luckey, Craig Ferguson), (Bud Luckey, Ji...  "
      ]
     },
     "execution_count": 130,
     "metadata": {},
     "output_type": "execute_result"
    }
   ],
   "source": [
    "data[data.runtime == data.runtime.min()]"
   ]
  },
  {
   "cell_type": "markdown",
   "metadata": {
    "colab_type": "text",
    "id": "TfQbxbfNVp-p"
   },
   "source": [
    "# 4. Какова средняя длительность фильмов?\n",
    "### What is the average movie length?"
   ]
  },
  {
   "cell_type": "code",
   "execution_count": 131,
   "metadata": {},
   "outputs": [],
   "source": [
    "answers['4'] = 110"
   ]
  },
  {
   "cell_type": "code",
   "execution_count": 132,
   "metadata": {
    "colab": {},
    "colab_type": "code",
    "id": "5K6dKZYVVp-q",
    "scrolled": true
   },
   "outputs": [
    {
     "data": {
      "text/plain": [
       "110"
      ]
     },
     "execution_count": 132,
     "metadata": {},
     "output_type": "execute_result"
    }
   ],
   "source": [
    "round(data.runtime.mean())"
   ]
  },
  {
   "cell_type": "markdown",
   "metadata": {
    "colab_type": "text",
    "id": "r5TvbnT_Vp-u"
   },
   "source": [
    "# 5. Каково медианное значение длительности фильмов? \n",
    "### What is the meadian movie length?"
   ]
  },
  {
   "cell_type": "code",
   "execution_count": 133,
   "metadata": {},
   "outputs": [],
   "source": [
    "answers['5'] = 107"
   ]
  },
  {
   "cell_type": "code",
   "execution_count": 134,
   "metadata": {
    "colab": {},
    "colab_type": "code",
    "id": "iBROplKnVp-v",
    "scrolled": true
   },
   "outputs": [
    {
     "data": {
      "text/plain": [
       "107"
      ]
     },
     "execution_count": 134,
     "metadata": {},
     "output_type": "execute_result"
    }
   ],
   "source": [
    "round(data.runtime.median())"
   ]
  },
  {
   "cell_type": "markdown",
   "metadata": {
    "colab_type": "text",
    "id": "39P-deDSVp-y"
   },
   "source": [
    "# 6. Какой самый прибыльный фильм?\n",
    "### What is the most profitable movie?"
   ]
  },
  {
   "cell_type": "code",
   "execution_count": 135,
   "metadata": {},
   "outputs": [],
   "source": [
    "answers['6'] = 'Avatar (tt0499549)'"
   ]
  },
  {
   "cell_type": "code",
   "execution_count": 136,
   "metadata": {
    "colab": {},
    "colab_type": "code",
    "id": "UYZh4T9WVp-y",
    "scrolled": true
   },
   "outputs": [
    {
     "data": {
      "text/html": [
       "<div>\n",
       "<style scoped>\n",
       "    .dataframe tbody tr th:only-of-type {\n",
       "        vertical-align: middle;\n",
       "    }\n",
       "\n",
       "    .dataframe tbody tr th {\n",
       "        vertical-align: top;\n",
       "    }\n",
       "\n",
       "    .dataframe thead th {\n",
       "        text-align: right;\n",
       "    }\n",
       "</style>\n",
       "<table border=\"1\" class=\"dataframe\">\n",
       "  <thead>\n",
       "    <tr style=\"text-align: right;\">\n",
       "      <th></th>\n",
       "      <th>imdb_id</th>\n",
       "      <th>budget</th>\n",
       "      <th>revenue</th>\n",
       "      <th>original_title</th>\n",
       "      <th>cast</th>\n",
       "      <th>director</th>\n",
       "      <th>tagline</th>\n",
       "      <th>overview</th>\n",
       "      <th>runtime</th>\n",
       "      <th>genres</th>\n",
       "      <th>production_companies</th>\n",
       "      <th>release_date</th>\n",
       "      <th>vote_average</th>\n",
       "      <th>release_year</th>\n",
       "      <th>profit</th>\n",
       "      <th>release_month</th>\n",
       "      <th>title_length</th>\n",
       "      <th>overview_length</th>\n",
       "      <th>pairs</th>\n",
       "    </tr>\n",
       "  </thead>\n",
       "  <tbody>\n",
       "    <tr>\n",
       "      <th>239</th>\n",
       "      <td>tt0499549</td>\n",
       "      <td>237000000</td>\n",
       "      <td>2781505847</td>\n",
       "      <td>Avatar</td>\n",
       "      <td>[Michelle Rodriguez, Sam Worthington, Sigourne...</td>\n",
       "      <td>[James Cameron]</td>\n",
       "      <td>Enter the World of Pandora.</td>\n",
       "      <td>In the 22nd century, a paraplegic Marine is di...</td>\n",
       "      <td>162</td>\n",
       "      <td>[Action, Adventure, Fantasy, Science Fiction]</td>\n",
       "      <td>[Ingenious Film Partners, Twentieth Century Fo...</td>\n",
       "      <td>2009-12-10</td>\n",
       "      <td>7.1</td>\n",
       "      <td>2009</td>\n",
       "      <td>2544505847</td>\n",
       "      <td>12</td>\n",
       "      <td>6</td>\n",
       "      <td>28</td>\n",
       "      <td>[(Michelle Rodriguez, Sam Worthington), (Miche...</td>\n",
       "    </tr>\n",
       "  </tbody>\n",
       "</table>\n",
       "</div>"
      ],
      "text/plain": [
       "       imdb_id     budget     revenue original_title  \\\n",
       "239  tt0499549  237000000  2781505847         Avatar   \n",
       "\n",
       "                                                  cast         director  \\\n",
       "239  [Michelle Rodriguez, Sam Worthington, Sigourne...  [James Cameron]   \n",
       "\n",
       "                         tagline  \\\n",
       "239  Enter the World of Pandora.   \n",
       "\n",
       "                                              overview  runtime  \\\n",
       "239  In the 22nd century, a paraplegic Marine is di...      162   \n",
       "\n",
       "                                            genres  \\\n",
       "239  [Action, Adventure, Fantasy, Science Fiction]   \n",
       "\n",
       "                                  production_companies release_date  \\\n",
       "239  [Ingenious Film Partners, Twentieth Century Fo...   2009-12-10   \n",
       "\n",
       "     vote_average  release_year      profit  release_month  title_length  \\\n",
       "239           7.1          2009  2544505847             12             6   \n",
       "\n",
       "     overview_length                                              pairs  \n",
       "239               28  [(Michelle Rodriguez, Sam Worthington), (Miche...  "
      ]
     },
     "execution_count": 136,
     "metadata": {},
     "output_type": "execute_result"
    }
   ],
   "source": [
    "data[data.profit == data.profit.max()]"
   ]
  },
  {
   "cell_type": "markdown",
   "metadata": {
    "colab_type": "text",
    "id": "M99JmIX4Vp-2"
   },
   "source": [
    "# 7. Какой фильм самый убыточный? \n",
    "### What is the least profitable movie?"
   ]
  },
  {
   "cell_type": "code",
   "execution_count": 137,
   "metadata": {},
   "outputs": [],
   "source": [
    "answers['7'] = 'The Lone Ranger (tt1210819)'"
   ]
  },
  {
   "cell_type": "code",
   "execution_count": 138,
   "metadata": {
    "colab": {},
    "colab_type": "code",
    "id": "w-D2m4XPVp-3",
    "scrolled": true
   },
   "outputs": [
    {
     "data": {
      "text/html": [
       "<div>\n",
       "<style scoped>\n",
       "    .dataframe tbody tr th:only-of-type {\n",
       "        vertical-align: middle;\n",
       "    }\n",
       "\n",
       "    .dataframe tbody tr th {\n",
       "        vertical-align: top;\n",
       "    }\n",
       "\n",
       "    .dataframe thead th {\n",
       "        text-align: right;\n",
       "    }\n",
       "</style>\n",
       "<table border=\"1\" class=\"dataframe\">\n",
       "  <thead>\n",
       "    <tr style=\"text-align: right;\">\n",
       "      <th></th>\n",
       "      <th>imdb_id</th>\n",
       "      <th>budget</th>\n",
       "      <th>revenue</th>\n",
       "      <th>original_title</th>\n",
       "      <th>cast</th>\n",
       "      <th>director</th>\n",
       "      <th>tagline</th>\n",
       "      <th>overview</th>\n",
       "      <th>runtime</th>\n",
       "      <th>genres</th>\n",
       "      <th>production_companies</th>\n",
       "      <th>release_date</th>\n",
       "      <th>vote_average</th>\n",
       "      <th>release_year</th>\n",
       "      <th>profit</th>\n",
       "      <th>release_month</th>\n",
       "      <th>title_length</th>\n",
       "      <th>overview_length</th>\n",
       "      <th>pairs</th>\n",
       "    </tr>\n",
       "  </thead>\n",
       "  <tbody>\n",
       "    <tr>\n",
       "      <th>1245</th>\n",
       "      <td>tt1210819</td>\n",
       "      <td>255000000</td>\n",
       "      <td>89289910</td>\n",
       "      <td>The Lone Ranger</td>\n",
       "      <td>[Armie Hammer, Helena Bonham Carter, James Bad...</td>\n",
       "      <td>[Gore Verbinski]</td>\n",
       "      <td>Never Take Off the Mask</td>\n",
       "      <td>The Texas Rangers chase down a gang of outlaws...</td>\n",
       "      <td>149</td>\n",
       "      <td>[Action, Adventure, Western]</td>\n",
       "      <td>[Walt Disney Pictures, Jerry Bruckheimer Films...</td>\n",
       "      <td>2013-07-03</td>\n",
       "      <td>6.0</td>\n",
       "      <td>2013</td>\n",
       "      <td>-165710090</td>\n",
       "      <td>7</td>\n",
       "      <td>15</td>\n",
       "      <td>68</td>\n",
       "      <td>[(Armie Hammer, Helena Bonham Carter), (Armie ...</td>\n",
       "    </tr>\n",
       "  </tbody>\n",
       "</table>\n",
       "</div>"
      ],
      "text/plain": [
       "        imdb_id     budget   revenue   original_title  \\\n",
       "1245  tt1210819  255000000  89289910  The Lone Ranger   \n",
       "\n",
       "                                                   cast          director  \\\n",
       "1245  [Armie Hammer, Helena Bonham Carter, James Bad...  [Gore Verbinski]   \n",
       "\n",
       "                      tagline  \\\n",
       "1245  Never Take Off the Mask   \n",
       "\n",
       "                                               overview  runtime  \\\n",
       "1245  The Texas Rangers chase down a gang of outlaws...      149   \n",
       "\n",
       "                            genres  \\\n",
       "1245  [Action, Adventure, Western]   \n",
       "\n",
       "                                   production_companies release_date  \\\n",
       "1245  [Walt Disney Pictures, Jerry Bruckheimer Films...   2013-07-03   \n",
       "\n",
       "      vote_average  release_year     profit  release_month  title_length  \\\n",
       "1245           6.0          2013 -165710090              7            15   \n",
       "\n",
       "      overview_length                                              pairs  \n",
       "1245               68  [(Armie Hammer, Helena Bonham Carter), (Armie ...  "
      ]
     },
     "execution_count": 138,
     "metadata": {},
     "output_type": "execute_result"
    }
   ],
   "source": [
    "data[data.profit == data.profit.min()]"
   ]
  },
  {
   "cell_type": "markdown",
   "metadata": {
    "colab_type": "text",
    "id": "wEOM5ERVVp-6"
   },
   "source": [
    "# 8. У скольких фильмов из датасета объем сборов оказался выше бюджета?\n",
    "### What is the number of movies which made more in the box office than they had for its budget?"
   ]
  },
  {
   "cell_type": "code",
   "execution_count": 139,
   "metadata": {},
   "outputs": [],
   "source": [
    "answers['8'] = 1478"
   ]
  },
  {
   "cell_type": "code",
   "execution_count": 140,
   "metadata": {
    "colab": {},
    "colab_type": "code",
    "id": "y00_7HD6Vp-7",
    "scrolled": true
   },
   "outputs": [
    {
     "data": {
      "text/plain": [
       "1478"
      ]
     },
     "execution_count": 140,
     "metadata": {},
     "output_type": "execute_result"
    }
   ],
   "source": [
    "len(data[data.revenue > data.budget])"
   ]
  },
  {
   "cell_type": "markdown",
   "metadata": {
    "colab_type": "text",
    "id": "xhpspA9KVp_A"
   },
   "source": [
    "# 9. Какой фильм оказался самым кассовым в 2008 году?\n",
    "### Which movie had the biggest box office in 2008?"
   ]
  },
  {
   "cell_type": "code",
   "execution_count": 141,
   "metadata": {},
   "outputs": [],
   "source": [
    "answers['9'] = 'The Dark Knight (tt0468569)'"
   ]
  },
  {
   "cell_type": "code",
   "execution_count": 142,
   "metadata": {
    "colab": {},
    "colab_type": "code",
    "id": "MoUyQr9RVp_B",
    "scrolled": true
   },
   "outputs": [
    {
     "data": {
      "text/html": [
       "<div>\n",
       "<style scoped>\n",
       "    .dataframe tbody tr th:only-of-type {\n",
       "        vertical-align: middle;\n",
       "    }\n",
       "\n",
       "    .dataframe tbody tr th {\n",
       "        vertical-align: top;\n",
       "    }\n",
       "\n",
       "    .dataframe thead th {\n",
       "        text-align: right;\n",
       "    }\n",
       "</style>\n",
       "<table border=\"1\" class=\"dataframe\">\n",
       "  <thead>\n",
       "    <tr style=\"text-align: right;\">\n",
       "      <th></th>\n",
       "      <th>imdb_id</th>\n",
       "      <th>budget</th>\n",
       "      <th>revenue</th>\n",
       "      <th>original_title</th>\n",
       "      <th>cast</th>\n",
       "      <th>director</th>\n",
       "      <th>tagline</th>\n",
       "      <th>overview</th>\n",
       "      <th>runtime</th>\n",
       "      <th>genres</th>\n",
       "      <th>production_companies</th>\n",
       "      <th>release_date</th>\n",
       "      <th>vote_average</th>\n",
       "      <th>release_year</th>\n",
       "      <th>profit</th>\n",
       "      <th>release_month</th>\n",
       "      <th>title_length</th>\n",
       "      <th>overview_length</th>\n",
       "      <th>pairs</th>\n",
       "    </tr>\n",
       "  </thead>\n",
       "  <tbody>\n",
       "    <tr>\n",
       "      <th>599</th>\n",
       "      <td>tt0468569</td>\n",
       "      <td>185000000</td>\n",
       "      <td>1001921825</td>\n",
       "      <td>The Dark Knight</td>\n",
       "      <td>[Aaron Eckhart, Christian Bale, Gary Oldman, H...</td>\n",
       "      <td>[Christopher Nolan]</td>\n",
       "      <td>Why So Serious?</td>\n",
       "      <td>Batman raises the stakes in his war on crime. ...</td>\n",
       "      <td>152</td>\n",
       "      <td>[Drama, Action, Crime, Thriller]</td>\n",
       "      <td>[DC Comics, Legendary Pictures, Warner Bros., ...</td>\n",
       "      <td>2008-07-16</td>\n",
       "      <td>8.1</td>\n",
       "      <td>2008</td>\n",
       "      <td>816921825</td>\n",
       "      <td>7</td>\n",
       "      <td>15</td>\n",
       "      <td>67</td>\n",
       "      <td>[(Aaron Eckhart, Christian Bale), (Aaron Eckha...</td>\n",
       "    </tr>\n",
       "  </tbody>\n",
       "</table>\n",
       "</div>"
      ],
      "text/plain": [
       "       imdb_id     budget     revenue   original_title  \\\n",
       "599  tt0468569  185000000  1001921825  The Dark Knight   \n",
       "\n",
       "                                                  cast             director  \\\n",
       "599  [Aaron Eckhart, Christian Bale, Gary Oldman, H...  [Christopher Nolan]   \n",
       "\n",
       "             tagline                                           overview  \\\n",
       "599  Why So Serious?  Batman raises the stakes in his war on crime. ...   \n",
       "\n",
       "     runtime                            genres  \\\n",
       "599      152  [Drama, Action, Crime, Thriller]   \n",
       "\n",
       "                                  production_companies release_date  \\\n",
       "599  [DC Comics, Legendary Pictures, Warner Bros., ...   2008-07-16   \n",
       "\n",
       "     vote_average  release_year     profit  release_month  title_length  \\\n",
       "599           8.1          2008  816921825              7            15   \n",
       "\n",
       "     overview_length                                              pairs  \n",
       "599               67  [(Aaron Eckhart, Christian Bale), (Aaron Eckha...  "
      ]
     },
     "execution_count": 142,
     "metadata": {},
     "output_type": "execute_result"
    }
   ],
   "source": [
    "data[data.revenue == data[data.release_year == 2008].revenue.max()]"
   ]
  },
  {
   "cell_type": "markdown",
   "metadata": {
    "colab_type": "text",
    "id": "Zi4hDKidVp_F"
   },
   "source": [
    "# 10. Самый убыточный фильм за период с 2012 по 2014 г. (включительно)?\n",
    "### Which movie was the most unprofitable for the period 2012-2014 inclusive?"
   ]
  },
  {
   "cell_type": "code",
   "execution_count": 143,
   "metadata": {},
   "outputs": [],
   "source": [
    "answers['10'] = 'The Lone Ranger (tt1210819)'"
   ]
  },
  {
   "cell_type": "code",
   "execution_count": 144,
   "metadata": {
    "colab": {},
    "colab_type": "code",
    "id": "XqyRmufJVp_F",
    "scrolled": true
   },
   "outputs": [
    {
     "data": {
      "text/html": [
       "<div>\n",
       "<style scoped>\n",
       "    .dataframe tbody tr th:only-of-type {\n",
       "        vertical-align: middle;\n",
       "    }\n",
       "\n",
       "    .dataframe tbody tr th {\n",
       "        vertical-align: top;\n",
       "    }\n",
       "\n",
       "    .dataframe thead th {\n",
       "        text-align: right;\n",
       "    }\n",
       "</style>\n",
       "<table border=\"1\" class=\"dataframe\">\n",
       "  <thead>\n",
       "    <tr style=\"text-align: right;\">\n",
       "      <th></th>\n",
       "      <th>imdb_id</th>\n",
       "      <th>budget</th>\n",
       "      <th>revenue</th>\n",
       "      <th>original_title</th>\n",
       "      <th>cast</th>\n",
       "      <th>director</th>\n",
       "      <th>tagline</th>\n",
       "      <th>overview</th>\n",
       "      <th>runtime</th>\n",
       "      <th>genres</th>\n",
       "      <th>production_companies</th>\n",
       "      <th>release_date</th>\n",
       "      <th>vote_average</th>\n",
       "      <th>release_year</th>\n",
       "      <th>profit</th>\n",
       "      <th>release_month</th>\n",
       "      <th>title_length</th>\n",
       "      <th>overview_length</th>\n",
       "      <th>pairs</th>\n",
       "    </tr>\n",
       "  </thead>\n",
       "  <tbody>\n",
       "    <tr>\n",
       "      <th>1245</th>\n",
       "      <td>tt1210819</td>\n",
       "      <td>255000000</td>\n",
       "      <td>89289910</td>\n",
       "      <td>The Lone Ranger</td>\n",
       "      <td>[Armie Hammer, Helena Bonham Carter, James Bad...</td>\n",
       "      <td>[Gore Verbinski]</td>\n",
       "      <td>Never Take Off the Mask</td>\n",
       "      <td>The Texas Rangers chase down a gang of outlaws...</td>\n",
       "      <td>149</td>\n",
       "      <td>[Action, Adventure, Western]</td>\n",
       "      <td>[Walt Disney Pictures, Jerry Bruckheimer Films...</td>\n",
       "      <td>2013-07-03</td>\n",
       "      <td>6.0</td>\n",
       "      <td>2013</td>\n",
       "      <td>-165710090</td>\n",
       "      <td>7</td>\n",
       "      <td>15</td>\n",
       "      <td>68</td>\n",
       "      <td>[(Armie Hammer, Helena Bonham Carter), (Armie ...</td>\n",
       "    </tr>\n",
       "  </tbody>\n",
       "</table>\n",
       "</div>"
      ],
      "text/plain": [
       "        imdb_id     budget   revenue   original_title  \\\n",
       "1245  tt1210819  255000000  89289910  The Lone Ranger   \n",
       "\n",
       "                                                   cast          director  \\\n",
       "1245  [Armie Hammer, Helena Bonham Carter, James Bad...  [Gore Verbinski]   \n",
       "\n",
       "                      tagline  \\\n",
       "1245  Never Take Off the Mask   \n",
       "\n",
       "                                               overview  runtime  \\\n",
       "1245  The Texas Rangers chase down a gang of outlaws...      149   \n",
       "\n",
       "                            genres  \\\n",
       "1245  [Action, Adventure, Western]   \n",
       "\n",
       "                                   production_companies release_date  \\\n",
       "1245  [Walt Disney Pictures, Jerry Bruckheimer Films...   2013-07-03   \n",
       "\n",
       "      vote_average  release_year     profit  release_month  title_length  \\\n",
       "1245           6.0          2013 -165710090              7            15   \n",
       "\n",
       "      overview_length                                              pairs  \n",
       "1245               68  [(Armie Hammer, Helena Bonham Carter), (Armie ...  "
      ]
     },
     "execution_count": 144,
     "metadata": {},
     "output_type": "execute_result"
    }
   ],
   "source": [
    "data[data.profit == data[(data.release_year > 2011) &\n",
    "                         (data.release_year < 2015)].profit.min()]"
   ]
  },
  {
   "cell_type": "markdown",
   "metadata": {
    "colab_type": "text",
    "id": "EA7Sa9dkVp_I"
   },
   "source": [
    "# 11. Какого жанра фильмов больше всего?\n",
    "### Which genre is the most popular?"
   ]
  },
  {
   "cell_type": "code",
   "execution_count": 145,
   "metadata": {},
   "outputs": [],
   "source": [
    "answers['11'] = 'Drama'"
   ]
  },
  {
   "cell_type": "markdown",
   "metadata": {},
   "source": [
    "VARIANT 1"
   ]
  },
  {
   "cell_type": "code",
   "execution_count": 146,
   "metadata": {
    "colab": {},
    "colab_type": "code",
    "id": "zsJAwJ8QVp_J",
    "scrolled": true
   },
   "outputs": [
    {
     "data": {
      "text/plain": [
       "[('Drama', 782),\n",
       " ('Comedy', 683),\n",
       " ('Thriller', 596),\n",
       " ('Action', 582),\n",
       " ('Adventure', 415)]"
      ]
     },
     "execution_count": 146,
     "metadata": {},
     "output_type": "execute_result"
    }
   ],
   "source": [
    "# Since one movie can have several genres assigned to it,\n",
    "# 'genres' column needs to be exploded.\n",
    "# Five most common genres are displayed to consider\n",
    "# a possibility that several genres have equal frequency.\n",
    "Counter(data.explode('genres')['genres']).most_common(5)"
   ]
  },
  {
   "cell_type": "markdown",
   "metadata": {},
   "source": [
    "VARIANT 2"
   ]
  },
  {
   "cell_type": "code",
   "execution_count": 147,
   "metadata": {},
   "outputs": [
    {
     "data": {
      "text/plain": [
       "Drama        782\n",
       "Comedy       683\n",
       "Thriller     596\n",
       "Action       582\n",
       "Adventure    415\n",
       "Name: genres, dtype: int64"
      ]
     },
     "execution_count": 147,
     "metadata": {},
     "output_type": "execute_result"
    }
   ],
   "source": [
    "# Second option is to use value_counts function instead of Counter tool.\n",
    "data.explode('genres')['genres'].value_counts().head(5)"
   ]
  },
  {
   "cell_type": "markdown",
   "metadata": {
    "colab_type": "text",
    "id": "T9_bPWpkVp_Q"
   },
   "source": [
    "# 12. Фильмы какого жанра чаще всего становятся прибыльными? \n",
    "### Movies of which genre are the most profitable?"
   ]
  },
  {
   "cell_type": "code",
   "execution_count": 148,
   "metadata": {},
   "outputs": [],
   "source": [
    "answers['12'] = 'Drama'"
   ]
  },
  {
   "cell_type": "markdown",
   "metadata": {},
   "source": [
    "VARIANT 1"
   ]
  },
  {
   "cell_type": "code",
   "execution_count": 149,
   "metadata": {
    "scrolled": true
   },
   "outputs": [
    {
     "data": {
      "text/plain": [
       "[('Drama', 560),\n",
       " ('Comedy', 551),\n",
       " ('Thriller', 446),\n",
       " ('Action', 444),\n",
       " ('Adventure', 337)]"
      ]
     },
     "execution_count": 149,
     "metadata": {},
     "output_type": "execute_result"
    }
   ],
   "source": [
    "# Column with genres is exploded, since a movie can be assigned several genres.\n",
    "# Movies with positive profit are considered as profitable.\n",
    "Counter(data[data.profit > 0].explode('genres')['genres']).most_common(5)"
   ]
  },
  {
   "cell_type": "markdown",
   "metadata": {},
   "source": [
    "VARIANT 2"
   ]
  },
  {
   "cell_type": "code",
   "execution_count": 150,
   "metadata": {},
   "outputs": [
    {
     "data": {
      "text/plain": [
       "Drama        560\n",
       "Comedy       551\n",
       "Thriller     446\n",
       "Action       444\n",
       "Adventure    337\n",
       "Name: genres, dtype: int64"
      ]
     },
     "execution_count": 150,
     "metadata": {},
     "output_type": "execute_result"
    }
   ],
   "source": [
    "# Using value_counts function instead of Counter tool\n",
    "data[data.profit > 0].explode('genres')['genres'].value_counts().head(5)"
   ]
  },
  {
   "cell_type": "markdown",
   "metadata": {
    "colab_type": "text",
    "id": "0F23bgsDVp_U"
   },
   "source": [
    "# 13. У какого режиссера самые большие суммарные кассовые сборы?\n",
    "### Who is the highest grossing director?"
   ]
  },
  {
   "cell_type": "code",
   "execution_count": 151,
   "metadata": {},
   "outputs": [],
   "source": [
    "answers['13'] = 'Peter Jackson'"
   ]
  },
  {
   "cell_type": "code",
   "execution_count": 152,
   "metadata": {
    "colab": {},
    "colab_type": "code",
    "id": "K6Z3J8ygVp_X",
    "scrolled": true
   },
   "outputs": [
    {
     "data": {
      "text/plain": [
       "director\n",
       "Peter Jackson        6490593685\n",
       "Christopher Nolan    4167548502\n",
       "David Yates          4154295625\n",
       "Michael Bay          3886938960\n",
       "J.J. Abrams          3579169916\n",
       "Name: revenue, dtype: int64"
      ]
     },
     "execution_count": 152,
     "metadata": {},
     "output_type": "execute_result"
    }
   ],
   "source": [
    "# Column with directors is exploded, since a movie can have several directors.\n",
    "# Summed up revenue, or box office, for all movies shot by each director\n",
    "# is calculated.\n",
    "# Top one in the sorted list is the highest grossing director.\n",
    "data.explode('director').groupby(['director'])[\n",
    "    'revenue'].sum().sort_values(ascending=False).head(5)"
   ]
  },
  {
   "cell_type": "markdown",
   "metadata": {
    "colab_type": "text",
    "id": "PsYC9FgRVp_a"
   },
   "source": [
    "# 14. Какой режисер снял больше всего фильмов в стиле Action?\n",
    "### Which director filmed the largest number of action genre movies?"
   ]
  },
  {
   "cell_type": "code",
   "execution_count": 153,
   "metadata": {},
   "outputs": [],
   "source": [
    "answers['14'] = 'Robert Rodriguez'"
   ]
  },
  {
   "cell_type": "markdown",
   "metadata": {},
   "source": [
    "VARIANT 1"
   ]
  },
  {
   "cell_type": "code",
   "execution_count": 154,
   "metadata": {
    "colab": {},
    "colab_type": "code",
    "id": "wd2M-wHeVp_b",
    "scrolled": true
   },
   "outputs": [
    {
     "data": {
      "text/plain": [
       "[('Robert Rodriguez', 9),\n",
       " ('Michael Bay', 7),\n",
       " ('Paul W.S. Anderson', 7),\n",
       " ('Antoine Fuqua', 6),\n",
       " ('Ridley Scott', 6)]"
      ]
     },
     "execution_count": 154,
     "metadata": {},
     "output_type": "execute_result"
    }
   ],
   "source": [
    "data_dir_genre = data.explode('director').explode(\n",
    "    'genres')  # director-focused datased (one director per line)\n",
    "\n",
    "# Before being sorted by director, dataset is filtered by Action-genre.\n",
    "Counter(data_dir_genre[data_dir_genre['genres']\n",
    "                       == 'Action']['director']).most_common(5)"
   ]
  },
  {
   "cell_type": "markdown",
   "metadata": {},
   "source": [
    "VARIANT 2"
   ]
  },
  {
   "cell_type": "code",
   "execution_count": 155,
   "metadata": {},
   "outputs": [
    {
     "data": {
      "text/plain": [
       "Robert Rodriguez      9\n",
       "Paul W.S. Anderson    7\n",
       "Michael Bay           7\n",
       "Antoine Fuqua         6\n",
       "Ridley Scott          6\n",
       "Name: director, dtype: int64"
      ]
     },
     "execution_count": 155,
     "metadata": {},
     "output_type": "execute_result"
    }
   ],
   "source": [
    "data_dir_genre = data.explode('director').explode(\n",
    "    'genres')  # one director per line\n",
    "\n",
    "# Using value_counts function instead of Counter tool.\n",
    "# (1) Filter by Action genre, (2) sort by director.\n",
    "data_dir_genre.loc[data_dir_genre['genres'] ==\n",
    "                   'Action']['director'].value_counts().head(5)"
   ]
  },
  {
   "cell_type": "markdown",
   "metadata": {
    "colab_type": "text",
    "id": "PQ0KciD7Vp_f"
   },
   "source": [
    "# 15. Фильмы с каким актером принесли самые высокие кассовые сборы в 2012 году? \n",
    "### Who was the highest grossing actor in 2012?"
   ]
  },
  {
   "cell_type": "code",
   "execution_count": 156,
   "metadata": {},
   "outputs": [],
   "source": [
    "answers['15'] = 'Chris Hemsworth'"
   ]
  },
  {
   "cell_type": "code",
   "execution_count": 157,
   "metadata": {},
   "outputs": [
    {
     "data": {
      "text/plain": [
       "cast\n",
       "Chris Hemsworth      2027450773\n",
       "Denis Leary          1629460639\n",
       "Anne Hathaway        1522851057\n",
       "Chris Evans          1519557910\n",
       "Robert Downey Jr.    1519557910\n",
       "Name: revenue, dtype: int64"
      ]
     },
     "execution_count": 157,
     "metadata": {},
     "output_type": "execute_result"
    }
   ],
   "source": [
    "# Cast-focused dataset (one line has one actor) for the year 2012\n",
    "cast_2012 = data.explode('cast')[data.explode('cast')['release_year'] == 2012]\n",
    "\n",
    "# The actor with the highest revenue (box office) is considered\n",
    "# the highest grossing one.\n",
    "cast_2012.groupby(['cast'])['revenue'].sum(\n",
    ").sort_values(ascending=False).head(5)"
   ]
  },
  {
   "cell_type": "markdown",
   "metadata": {
    "colab_type": "text",
    "id": "mWHyyL7QVp_j"
   },
   "source": [
    "# 16. Какой актер снялся в большем количестве высокобюджетных фильмов?\n",
    "### Which actor has starred in the largest number of big budget films?"
   ]
  },
  {
   "cell_type": "code",
   "execution_count": 158,
   "metadata": {},
   "outputs": [],
   "source": [
    "answers['16'] = 'Matt Damon'"
   ]
  },
  {
   "cell_type": "code",
   "execution_count": 159,
   "metadata": {
    "scrolled": true
   },
   "outputs": [
    {
     "data": {
      "text/plain": [
       "Matt Damon           18\n",
       "Adam Sandler         17\n",
       "Angelina Jolie       16\n",
       "Tom Cruise           15\n",
       "Samuel L. Jackson    15\n",
       "Name: cast, dtype: int64"
      ]
     },
     "execution_count": 159,
     "metadata": {},
     "output_type": "execute_result"
    }
   ],
   "source": [
    "# For the purpose of this task, films with budgets higher than\n",
    "# the average one are considered big budget.\n",
    "data.explode('cast')[data.explode('cast')['budget'] >\n",
    "                     data.budget.mean()]['cast'].value_counts().head(5)"
   ]
  },
  {
   "cell_type": "markdown",
   "metadata": {
    "colab_type": "text",
    "id": "NIh6AaW5Vp_n"
   },
   "source": [
    "# 17. В фильмах какого жанра больше всего снимался Nicolas Cage? \n",
    "### What is the top genre for movies with Nicolas Cage?"
   ]
  },
  {
   "cell_type": "code",
   "execution_count": 160,
   "metadata": {},
   "outputs": [],
   "source": [
    "answers['17'] = 'Action'"
   ]
  },
  {
   "cell_type": "code",
   "execution_count": 161,
   "metadata": {
    "colab": {},
    "colab_type": "code",
    "id": "H74SJDIBVp_n"
   },
   "outputs": [
    {
     "data": {
      "text/plain": [
       "Action      17\n",
       "Thriller    15\n",
       "Drama       12\n",
       "Crime       10\n",
       "Fantasy      8\n",
       "Name: genres, dtype: int64"
      ]
     },
     "execution_count": 161,
     "metadata": {},
     "output_type": "execute_result"
    }
   ],
   "source": [
    "# dataset with one actor per line\n",
    "data_cast_genre = data.explode('cast').explode('genres')\n",
    "\n",
    "# New dataset is filtered by Nicolas Cage and sorted by genres.\n",
    "data_cast_genre[data_cast_genre['cast'] ==\n",
    "                'Nicolas Cage']['genres'].value_counts().head(5)"
   ]
  },
  {
   "cell_type": "markdown",
   "metadata": {
    "colab_type": "text",
    "id": "RqOmPRfWVp_q"
   },
   "source": [
    "# 18. Самый убыточный фильм от Paramount Pictures\n",
    "### Which film by Paramount Pictures is the least profitable?"
   ]
  },
  {
   "cell_type": "code",
   "execution_count": 162,
   "metadata": {},
   "outputs": [],
   "source": [
    "answers['18'] = 'K-19: The Widowmaker (tt0267626)'"
   ]
  },
  {
   "cell_type": "code",
   "execution_count": 163,
   "metadata": {
    "colab": {},
    "colab_type": "code",
    "id": "9E_B0Y96Vp_r",
    "scrolled": true
   },
   "outputs": [
    {
     "data": {
      "text/html": [
       "<div>\n",
       "<style scoped>\n",
       "    .dataframe tbody tr th:only-of-type {\n",
       "        vertical-align: middle;\n",
       "    }\n",
       "\n",
       "    .dataframe tbody tr th {\n",
       "        vertical-align: top;\n",
       "    }\n",
       "\n",
       "    .dataframe thead th {\n",
       "        text-align: right;\n",
       "    }\n",
       "</style>\n",
       "<table border=\"1\" class=\"dataframe\">\n",
       "  <thead>\n",
       "    <tr style=\"text-align: right;\">\n",
       "      <th></th>\n",
       "      <th>imdb_id</th>\n",
       "      <th>budget</th>\n",
       "      <th>revenue</th>\n",
       "      <th>original_title</th>\n",
       "      <th>cast</th>\n",
       "      <th>director</th>\n",
       "      <th>tagline</th>\n",
       "      <th>overview</th>\n",
       "      <th>runtime</th>\n",
       "      <th>genres</th>\n",
       "      <th>production_companies</th>\n",
       "      <th>release_date</th>\n",
       "      <th>vote_average</th>\n",
       "      <th>release_year</th>\n",
       "      <th>profit</th>\n",
       "      <th>release_month</th>\n",
       "      <th>title_length</th>\n",
       "      <th>overview_length</th>\n",
       "      <th>pairs</th>\n",
       "    </tr>\n",
       "  </thead>\n",
       "  <tbody>\n",
       "    <tr>\n",
       "      <th>925</th>\n",
       "      <td>tt0267626</td>\n",
       "      <td>100000000</td>\n",
       "      <td>35168966</td>\n",
       "      <td>K-19: The Widowmaker</td>\n",
       "      <td>[Harrison Ford, John Shrapnel, Joss Ackland, L...</td>\n",
       "      <td>[Kathryn Bigelow]</td>\n",
       "      <td>Fate has found its hero.</td>\n",
       "      <td>When Russia's first nuclear submarine malfunct...</td>\n",
       "      <td>138</td>\n",
       "      <td>[Thriller, Drama, History]</td>\n",
       "      <td>Paramount Pictures</td>\n",
       "      <td>2002-07-19</td>\n",
       "      <td>6.0</td>\n",
       "      <td>2002</td>\n",
       "      <td>-64831034</td>\n",
       "      <td>7</td>\n",
       "      <td>20</td>\n",
       "      <td>23</td>\n",
       "      <td>[(Harrison Ford, John Shrapnel), (Harrison For...</td>\n",
       "    </tr>\n",
       "  </tbody>\n",
       "</table>\n",
       "</div>"
      ],
      "text/plain": [
       "       imdb_id     budget   revenue        original_title  \\\n",
       "925  tt0267626  100000000  35168966  K-19: The Widowmaker   \n",
       "\n",
       "                                                  cast           director  \\\n",
       "925  [Harrison Ford, John Shrapnel, Joss Ackland, L...  [Kathryn Bigelow]   \n",
       "\n",
       "                      tagline  \\\n",
       "925  Fate has found its hero.   \n",
       "\n",
       "                                              overview  runtime  \\\n",
       "925  When Russia's first nuclear submarine malfunct...      138   \n",
       "\n",
       "                         genres production_companies release_date  \\\n",
       "925  [Thriller, Drama, History]   Paramount Pictures   2002-07-19   \n",
       "\n",
       "     vote_average  release_year    profit  release_month  title_length  \\\n",
       "925           6.0          2002 -64831034              7            20   \n",
       "\n",
       "     overview_length                                              pairs  \n",
       "925               23  [(Harrison Ford, John Shrapnel), (Harrison For...  "
      ]
     },
     "execution_count": 163,
     "metadata": {},
     "output_type": "execute_result"
    }
   ],
   "source": [
    "# Dataset with one production comany per line is created and\n",
    "# filtered by 'Paramount Pictures'.\n",
    "data_pp = data.explode('production_companies')[data.explode(\n",
    "    'production_companies')['production_companies'] == 'Paramount Pictures']\n",
    "\n",
    "data_pp[data_pp.profit == data_pp.profit.min()]"
   ]
  },
  {
   "cell_type": "markdown",
   "metadata": {
    "colab_type": "text",
    "id": "vS8Ur6ddVp_u"
   },
   "source": [
    "# 19. Какой год стал самым успешным по суммарным кассовым сборам?\n",
    "### Which year yielded the highest revenue?"
   ]
  },
  {
   "cell_type": "code",
   "execution_count": 164,
   "metadata": {},
   "outputs": [],
   "source": [
    "answers['19'] = 2015"
   ]
  },
  {
   "cell_type": "code",
   "execution_count": 165,
   "metadata": {
    "colab": {},
    "colab_type": "code",
    "id": "Dnbt4GdIVp_v"
   },
   "outputs": [
    {
     "data": {
      "text/plain": [
       "release_year\n",
       "2015    25449202382\n",
       "2014    23405862953\n",
       "2013    23213799791\n",
       "2012    23079001687\n",
       "2011    22676791872\n",
       "Name: revenue, dtype: int64"
      ]
     },
     "execution_count": 165,
     "metadata": {},
     "output_type": "execute_result"
    }
   ],
   "source": [
    "# Revenues should be summed up per release year to find the most\n",
    "# successful one.\n",
    "data.groupby(['release_year'])['revenue'].sum(\n",
    ").sort_values(ascending=False).head(5)"
   ]
  },
  {
   "cell_type": "markdown",
   "metadata": {
    "colab_type": "text",
    "id": "JAzJh4QAVp_z"
   },
   "source": [
    "# 20. Какой самый прибыльный год для студии Warner Bros?\n",
    "### Which year was the most profitable for Warner Bros?"
   ]
  },
  {
   "cell_type": "code",
   "execution_count": 166,
   "metadata": {},
   "outputs": [],
   "source": [
    "answers['20'] = 2014"
   ]
  },
  {
   "cell_type": "code",
   "execution_count": 167,
   "metadata": {
    "colab": {},
    "colab_type": "code",
    "id": "wgVu02DEVp_0"
   },
   "outputs": [
    {
     "data": {
      "text/plain": [
       "release_year\n",
       "2014    2292949646\n",
       "2007    2201675217\n",
       "2008    2134595031\n",
       "2010    1974712985\n",
       "2011    1871393682\n",
       "Name: profit, dtype: int64"
      ]
     },
     "execution_count": 167,
     "metadata": {},
     "output_type": "execute_result"
    }
   ],
   "source": [
    "# Since Warner Bros comprises several business entities (like\n",
    "# Warner Bros. Animation or Warner Bros. Pictures), new dataset\n",
    "# includes all films containing 'Warner Bros' in production co. cell.\n",
    "data_wb = data.explode('production_companies')[data.explode(\n",
    "    'production_companies')['production_companies'].str.contains('Warner Bros')]\n",
    "\n",
    "data_wb.groupby(['release_year'])['profit'].sum(\n",
    ").sort_values(ascending=False).head(5)"
   ]
  },
  {
   "cell_type": "code",
   "execution_count": 168,
   "metadata": {},
   "outputs": [
    {
     "data": {
      "text/plain": [
       "array(['Warner Bros.', 'Warner Bros. Animation',\n",
       "       'Warner Bros. Interactive Entertainment', 'Warner Bros. Pictures'],\n",
       "      dtype=object)"
      ]
     },
     "execution_count": 168,
     "metadata": {},
     "output_type": "execute_result"
    }
   ],
   "source": [
    "# for information only, WB entities\n",
    "data_wb.production_companies.unique()"
   ]
  },
  {
   "cell_type": "markdown",
   "metadata": {
    "colab_type": "text",
    "id": "8Im1S2HRVp_4"
   },
   "source": [
    "# 21. В каком месяце за все годы суммарно вышло больше всего фильмов?\n",
    "### Which month has the largest number of movies released?"
   ]
  },
  {
   "cell_type": "code",
   "execution_count": 169,
   "metadata": {},
   "outputs": [],
   "source": [
    "answers['21'] = 9"
   ]
  },
  {
   "cell_type": "code",
   "execution_count": 170,
   "metadata": {},
   "outputs": [
    {
     "data": {
      "text/plain": [
       "9     227\n",
       "12    190\n",
       "10    186\n",
       "8     161\n",
       "3     156\n",
       "Name: release_month, dtype: int64"
      ]
     },
     "execution_count": 170,
     "metadata": {},
     "output_type": "execute_result"
    }
   ],
   "source": [
    "# Release_month column was created from release_date during\n",
    "# data preprocessing.\n",
    "data.release_month.value_counts().head(5)"
   ]
  },
  {
   "cell_type": "markdown",
   "metadata": {
    "colab_type": "text",
    "id": "uAJsZ_NeVp_7"
   },
   "source": [
    "# 22. Сколько суммарно вышло фильмов летом? (за июнь, июль, август)\n",
    "### How many movies were released during summer months (June, July, August)?"
   ]
  },
  {
   "cell_type": "code",
   "execution_count": 171,
   "metadata": {},
   "outputs": [],
   "source": [
    "answers['22'] = 450"
   ]
  },
  {
   "cell_type": "code",
   "execution_count": 172,
   "metadata": {
    "colab": {},
    "colab_type": "code",
    "id": "Aa-hEREoVp_8"
   },
   "outputs": [
    {
     "data": {
      "text/plain": [
       "450"
      ]
     },
     "execution_count": 172,
     "metadata": {},
     "output_type": "execute_result"
    }
   ],
   "source": [
    "# Number of lines is calculated for months 6-8 (Jun-Aug).\n",
    "len(data[(data.release_month == 6) | (\n",
    "    data.release_month == 7) | (data.release_month == 8)])"
   ]
  },
  {
   "cell_type": "markdown",
   "metadata": {
    "colab_type": "text",
    "id": "G94ppOY1VqAA"
   },
   "source": [
    "# 23. Для какого режиссера зима – самое продуктивное время года? \n",
    "### For which director winter is the most productive season?"
   ]
  },
  {
   "cell_type": "code",
   "execution_count": 173,
   "metadata": {},
   "outputs": [],
   "source": [
    "answers['23'] = 'Peter Jackson'"
   ]
  },
  {
   "cell_type": "code",
   "execution_count": 174,
   "metadata": {
    "colab": {},
    "colab_type": "code",
    "id": "RhNTsamuVqAB"
   },
   "outputs": [
    {
     "data": {
      "text/plain": [
       "Peter Jackson        7\n",
       "Steven Soderbergh    6\n",
       "Clint Eastwood       6\n",
       "Nancy Meyers         4\n",
       "Martin Scorsese      4\n",
       "Name: director, dtype: int64"
      ]
     },
     "execution_count": 174,
     "metadata": {},
     "output_type": "execute_result"
    }
   ],
   "source": [
    "data_dir = data.explode('director')  # dataset with one director per line\n",
    "\n",
    "# New dataset is filtered by witer months and sorted by director name.\n",
    "data_dir[(data_dir.release_month == 12) | (data_dir.release_month == 1) | (\n",
    "    data_dir.release_month == 2)]['director'].value_counts().head(5)"
   ]
  },
  {
   "cell_type": "markdown",
   "metadata": {
    "colab_type": "text",
    "id": "RBo0JVjVVqAF"
   },
   "source": [
    "# 24. Какая студия дает самые длинные названия своим фильмам по количеству символов?\n",
    "### Which production company gives its films the longest titles in symbols?"
   ]
  },
  {
   "cell_type": "code",
   "execution_count": 175,
   "metadata": {},
   "outputs": [],
   "source": [
    "answers['24'] = 'Four By Two Productions'"
   ]
  },
  {
   "cell_type": "code",
   "execution_count": 176,
   "metadata": {
    "scrolled": true
   },
   "outputs": [
    {
     "data": {
      "text/plain": [
       "production_companies\n",
       "Four By Two Productions      83.0\n",
       "Jim Henson Company, The      59.0\n",
       "Dos Corazones                47.0\n",
       "Museum Canada Productions    46.0\n",
       "Polsky Films                 46.0\n",
       "Name: title_length, dtype: float64"
      ]
     },
     "execution_count": 176,
     "metadata": {},
     "output_type": "execute_result"
    }
   ],
   "source": [
    "# dataset with one production company per line\n",
    "data_prod_co = data.explode('production_companies')\n",
    "\n",
    "# New column with title length in symbols was created during\n",
    "# data preprocessing.\n",
    "# Sorted average title lengths for each prod co are displayed.\n",
    "data_prod_co.groupby('production_companies')[\n",
    "    'title_length'].mean().sort_values(ascending=False).head(5)"
   ]
  },
  {
   "cell_type": "markdown",
   "metadata": {
    "colab_type": "text",
    "id": "9G0hbvR7VqAK"
   },
   "source": [
    "# 25. Описание фильмов какой студии в среднем самые длинные по количеству слов?\n",
    "### Which production company gives its films the longest overview in words?"
   ]
  },
  {
   "cell_type": "code",
   "execution_count": 177,
   "metadata": {
    "colab": {},
    "colab_type": "code",
    "id": "Ge2GsLNxVqAK",
    "scrolled": false
   },
   "outputs": [],
   "source": [
    "answers['25'] = 'Midnight Picture Show'"
   ]
  },
  {
   "cell_type": "code",
   "execution_count": 178,
   "metadata": {},
   "outputs": [
    {
     "data": {
      "text/plain": [
       "production_companies\n",
       "Midnight Picture Show               175.0\n",
       "Room 9 Entertainment                161.0\n",
       "98 MPH Productions                  159.0\n",
       "Heineken Branded Entertainment      159.0\n",
       "Brookwell-McNamara Entertainment    156.0\n",
       "Name: overview_length, dtype: float64"
      ]
     },
     "execution_count": 178,
     "metadata": {},
     "output_type": "execute_result"
    }
   ],
   "source": [
    "# dataset with one production company per line\n",
    "data_prod_co = data.explode('production_companies')\n",
    "\n",
    "# New column with overview length in words was created during\n",
    "# data preprocessing.\n",
    "# Sorted average overview lengths for each prod co are displayed.\n",
    "data_prod_co.groupby('production_companies')[\n",
    "    'overview_length'].mean().sort_values(ascending=False).head(5)"
   ]
  },
  {
   "cell_type": "markdown",
   "metadata": {
    "colab_type": "text",
    "id": "FJ1AFt90VqAP"
   },
   "source": [
    "# 26. Какие фильмы входят в 1 процент лучших по рейтингу? \n",
    "### Which films are in the top 1 percent per average rating?"
   ]
  },
  {
   "cell_type": "code",
   "execution_count": 179,
   "metadata": {},
   "outputs": [],
   "source": [
    "answers['26'] = '1. Inside Out, The Dark Knight, 12 Years a Slave'"
   ]
  },
  {
   "cell_type": "code",
   "execution_count": 180,
   "metadata": {},
   "outputs": [
    {
     "data": {
      "text/html": [
       "<div>\n",
       "<style scoped>\n",
       "    .dataframe tbody tr th:only-of-type {\n",
       "        vertical-align: middle;\n",
       "    }\n",
       "\n",
       "    .dataframe tbody tr th {\n",
       "        vertical-align: top;\n",
       "    }\n",
       "\n",
       "    .dataframe thead th {\n",
       "        text-align: right;\n",
       "    }\n",
       "</style>\n",
       "<table border=\"1\" class=\"dataframe\">\n",
       "  <thead>\n",
       "    <tr style=\"text-align: right;\">\n",
       "      <th></th>\n",
       "      <th>imdb_id</th>\n",
       "      <th>budget</th>\n",
       "      <th>revenue</th>\n",
       "      <th>original_title</th>\n",
       "      <th>cast</th>\n",
       "      <th>director</th>\n",
       "      <th>tagline</th>\n",
       "      <th>overview</th>\n",
       "      <th>runtime</th>\n",
       "      <th>genres</th>\n",
       "      <th>production_companies</th>\n",
       "      <th>release_date</th>\n",
       "      <th>vote_average</th>\n",
       "      <th>release_year</th>\n",
       "      <th>profit</th>\n",
       "      <th>release_month</th>\n",
       "      <th>title_length</th>\n",
       "      <th>overview_length</th>\n",
       "      <th>pairs</th>\n",
       "    </tr>\n",
       "  </thead>\n",
       "  <tbody>\n",
       "    <tr>\n",
       "      <th>599</th>\n",
       "      <td>tt0468569</td>\n",
       "      <td>185000000</td>\n",
       "      <td>1001921825</td>\n",
       "      <td>The Dark Knight</td>\n",
       "      <td>[Aaron Eckhart, Christian Bale, Gary Oldman, H...</td>\n",
       "      <td>[Christopher Nolan]</td>\n",
       "      <td>Why So Serious?</td>\n",
       "      <td>Batman raises the stakes in his war on crime. ...</td>\n",
       "      <td>152</td>\n",
       "      <td>[Drama, Action, Crime, Thriller]</td>\n",
       "      <td>[DC Comics, Legendary Pictures, Warner Bros., ...</td>\n",
       "      <td>2008-07-16</td>\n",
       "      <td>8.1</td>\n",
       "      <td>2008</td>\n",
       "      <td>816921825</td>\n",
       "      <td>7</td>\n",
       "      <td>15</td>\n",
       "      <td>67</td>\n",
       "      <td>[(Aaron Eckhart, Christian Bale), (Aaron Eckha...</td>\n",
       "    </tr>\n",
       "    <tr>\n",
       "      <th>118</th>\n",
       "      <td>tt0816692</td>\n",
       "      <td>165000000</td>\n",
       "      <td>621752480</td>\n",
       "      <td>Interstellar</td>\n",
       "      <td>[Anne Hathaway, Casey Affleck, Jessica Chastai...</td>\n",
       "      <td>[Christopher Nolan]</td>\n",
       "      <td>Mankind was born on Earth. It was never meant ...</td>\n",
       "      <td>Interstellar chronicles the adventures of a gr...</td>\n",
       "      <td>169</td>\n",
       "      <td>[Adventure, Drama, Science Fiction]</td>\n",
       "      <td>[Paramount Pictures, Legendary Pictures, Warne...</td>\n",
       "      <td>2014-11-05</td>\n",
       "      <td>8.0</td>\n",
       "      <td>2014</td>\n",
       "      <td>456752480</td>\n",
       "      <td>11</td>\n",
       "      <td>12</td>\n",
       "      <td>35</td>\n",
       "      <td>[(Anne Hathaway, Casey Affleck), (Anne Hathawa...</td>\n",
       "    </tr>\n",
       "    <tr>\n",
       "      <th>125</th>\n",
       "      <td>tt2084970</td>\n",
       "      <td>14000000</td>\n",
       "      <td>233555708</td>\n",
       "      <td>The Imitation Game</td>\n",
       "      <td>[Allen Leech, Benedict Cumberbatch, Keira Knig...</td>\n",
       "      <td>[Morten Tyldum]</td>\n",
       "      <td>The true enigma was the man who cracked the code.</td>\n",
       "      <td>Based on the real life story of legendary cryp...</td>\n",
       "      <td>113</td>\n",
       "      <td>[History, Drama, Thriller, War]</td>\n",
       "      <td>[Black Bear Pictures, Bristol Automotive]</td>\n",
       "      <td>2014-11-14</td>\n",
       "      <td>8.0</td>\n",
       "      <td>2014</td>\n",
       "      <td>219555708</td>\n",
       "      <td>11</td>\n",
       "      <td>18</td>\n",
       "      <td>46</td>\n",
       "      <td>[(Allen Leech, Benedict Cumberbatch), (Allen L...</td>\n",
       "    </tr>\n",
       "    <tr>\n",
       "      <th>9</th>\n",
       "      <td>tt2096673</td>\n",
       "      <td>175000000</td>\n",
       "      <td>853708609</td>\n",
       "      <td>Inside Out</td>\n",
       "      <td>[Amy Poehler, Bill Hader, Lewis Black, Phyllis...</td>\n",
       "      <td>[Pete Docter]</td>\n",
       "      <td>Meet the little voices inside your head.</td>\n",
       "      <td>Growing up can be a bumpy road, and it's no ex...</td>\n",
       "      <td>94</td>\n",
       "      <td>[Comedy, Animation, Family]</td>\n",
       "      <td>[Walt Disney Pictures, Pixar Animation Studios...</td>\n",
       "      <td>2015-06-09</td>\n",
       "      <td>8.0</td>\n",
       "      <td>2015</td>\n",
       "      <td>678708609</td>\n",
       "      <td>6</td>\n",
       "      <td>10</td>\n",
       "      <td>112</td>\n",
       "      <td>[(Amy Poehler, Bill Hader), (Amy Poehler, Lewi...</td>\n",
       "    </tr>\n",
       "    <tr>\n",
       "      <th>34</th>\n",
       "      <td>tt3170832</td>\n",
       "      <td>6000000</td>\n",
       "      <td>35401758</td>\n",
       "      <td>Room</td>\n",
       "      <td>[Brie Larson, Jacob Tremblay, Joan Allen, Sean...</td>\n",
       "      <td>[Lenny Abrahamson]</td>\n",
       "      <td>Love knows no boundaries</td>\n",
       "      <td>Jack is a young boy of 5 years old who has liv...</td>\n",
       "      <td>117</td>\n",
       "      <td>[Drama, Thriller]</td>\n",
       "      <td>[Element Pictures, No Trace Camping, A24, Dupe...</td>\n",
       "      <td>2015-10-16</td>\n",
       "      <td>8.0</td>\n",
       "      <td>2015</td>\n",
       "      <td>29401758</td>\n",
       "      <td>10</td>\n",
       "      <td>4</td>\n",
       "      <td>49</td>\n",
       "      <td>[(Brie Larson, Jacob Tremblay), (Brie Larson, ...</td>\n",
       "    </tr>\n",
       "    <tr>\n",
       "      <th>1183</th>\n",
       "      <td>tt0993846</td>\n",
       "      <td>100000000</td>\n",
       "      <td>392000694</td>\n",
       "      <td>The Wolf of Wall Street</td>\n",
       "      <td>[Jonah Hill, Kyle Chandler, Leonardo DiCaprio,...</td>\n",
       "      <td>[Martin Scorsese]</td>\n",
       "      <td>EARN. SPEND. PARTY.</td>\n",
       "      <td>A New York stockbroker refuses to cooperate in...</td>\n",
       "      <td>180</td>\n",
       "      <td>[Crime, Drama, Comedy]</td>\n",
       "      <td>[Paramount Pictures, Appian Way, EMJAG Product...</td>\n",
       "      <td>2013-12-25</td>\n",
       "      <td>7.9</td>\n",
       "      <td>2013</td>\n",
       "      <td>292000694</td>\n",
       "      <td>12</td>\n",
       "      <td>23</td>\n",
       "      <td>29</td>\n",
       "      <td>[(Jonah Hill, Kyle Chandler), (Jonah Hill, Leo...</td>\n",
       "    </tr>\n",
       "    <tr>\n",
       "      <th>128</th>\n",
       "      <td>tt2267998</td>\n",
       "      <td>61000000</td>\n",
       "      <td>369330363</td>\n",
       "      <td>Gone Girl</td>\n",
       "      <td>[Ben Affleck, Carrie Coon, Neil Patrick Harris...</td>\n",
       "      <td>[David Fincher]</td>\n",
       "      <td>You don't know what you've got 'til it's...</td>\n",
       "      <td>With his wife's disappearance having become th...</td>\n",
       "      <td>145</td>\n",
       "      <td>[Mystery, Thriller, Drama]</td>\n",
       "      <td>[Twentieth Century Fox Film Corporation, Regen...</td>\n",
       "      <td>2014-10-01</td>\n",
       "      <td>7.9</td>\n",
       "      <td>2014</td>\n",
       "      <td>308330363</td>\n",
       "      <td>10</td>\n",
       "      <td>9</td>\n",
       "      <td>30</td>\n",
       "      <td>[(Ben Affleck, Carrie Coon), (Ben Affleck, Nei...</td>\n",
       "    </tr>\n",
       "    <tr>\n",
       "      <th>1191</th>\n",
       "      <td>tt2024544</td>\n",
       "      <td>20000000</td>\n",
       "      <td>187000000</td>\n",
       "      <td>12 Years a Slave</td>\n",
       "      <td>[Benedict Cumberbatch, Chiwetel Ejiofor, Lupit...</td>\n",
       "      <td>[Steve McQueen]</td>\n",
       "      <td>The extraordinary true story of Solomon Northup</td>\n",
       "      <td>In the pre-Civil War United States, Solomon No...</td>\n",
       "      <td>134</td>\n",
       "      <td>[Drama, History]</td>\n",
       "      <td>[Plan B Entertainment, Regency Enterprises, Ri...</td>\n",
       "      <td>2013-10-18</td>\n",
       "      <td>7.9</td>\n",
       "      <td>2013</td>\n",
       "      <td>167000000</td>\n",
       "      <td>10</td>\n",
       "      <td>16</td>\n",
       "      <td>61</td>\n",
       "      <td>[(Benedict Cumberbatch, Chiwetel Ejiofor), (Be...</td>\n",
       "    </tr>\n",
       "    <tr>\n",
       "      <th>119</th>\n",
       "      <td>tt2015381</td>\n",
       "      <td>170000000</td>\n",
       "      <td>773312399</td>\n",
       "      <td>Guardians of the Galaxy</td>\n",
       "      <td>[Bradley Cooper, Chris Pratt, Dave Bautista, V...</td>\n",
       "      <td>[James Gunn]</td>\n",
       "      <td>All heroes start somewhere.</td>\n",
       "      <td>Light years from Earth, 26 years after being a...</td>\n",
       "      <td>121</td>\n",
       "      <td>[Action, Science Fiction, Adventure]</td>\n",
       "      <td>[Marvel Studios, Moving Picture Company (MPC),...</td>\n",
       "      <td>2014-07-30</td>\n",
       "      <td>7.9</td>\n",
       "      <td>2014</td>\n",
       "      <td>603312399</td>\n",
       "      <td>7</td>\n",
       "      <td>23</td>\n",
       "      <td>28</td>\n",
       "      <td>[(Bradley Cooper, Chris Pratt), (Bradley Coope...</td>\n",
       "    </tr>\n",
       "    <tr>\n",
       "      <th>1081</th>\n",
       "      <td>tt0167260</td>\n",
       "      <td>94000000</td>\n",
       "      <td>1118888979</td>\n",
       "      <td>The Lord of the Rings: The Return of the King</td>\n",
       "      <td>[Elijah Wood, Ian McKellen, Liv Tyler, Orlando...</td>\n",
       "      <td>[Peter Jackson]</td>\n",
       "      <td>The eye of the enemy is moving.</td>\n",
       "      <td>Aragorn is revealed as the heir to the ancient...</td>\n",
       "      <td>201</td>\n",
       "      <td>[Adventure, Fantasy, Action]</td>\n",
       "      <td>[WingNut Films, New Line Cinema]</td>\n",
       "      <td>2003-12-01</td>\n",
       "      <td>7.9</td>\n",
       "      <td>2003</td>\n",
       "      <td>1024888979</td>\n",
       "      <td>12</td>\n",
       "      <td>45</td>\n",
       "      <td>45</td>\n",
       "      <td>[(Elijah Wood, Ian McKellen), (Elijah Wood, Li...</td>\n",
       "    </tr>\n",
       "    <tr>\n",
       "      <th>1800</th>\n",
       "      <td>tt0209144</td>\n",
       "      <td>9000000</td>\n",
       "      <td>39723096</td>\n",
       "      <td>Memento</td>\n",
       "      <td>[Carrie-Anne Moss, Guy Pearce, Joe Pantoliano,...</td>\n",
       "      <td>[Christopher Nolan]</td>\n",
       "      <td>Some memories are best forgotten.</td>\n",
       "      <td>Suffering short-term memory loss after a head ...</td>\n",
       "      <td>113</td>\n",
       "      <td>[Mystery, Thriller]</td>\n",
       "      <td>[Summit Entertainment, Newmarket Capital Group...</td>\n",
       "      <td>2000-10-11</td>\n",
       "      <td>7.9</td>\n",
       "      <td>2000</td>\n",
       "      <td>30723096</td>\n",
       "      <td>10</td>\n",
       "      <td>7</td>\n",
       "      <td>78</td>\n",
       "      <td>[(Carrie-Anne Moss, Guy Pearce), (Carrie-Anne ...</td>\n",
       "    </tr>\n",
       "    <tr>\n",
       "      <th>370</th>\n",
       "      <td>tt1375666</td>\n",
       "      <td>160000000</td>\n",
       "      <td>825500000</td>\n",
       "      <td>Inception</td>\n",
       "      <td>[Ellen Page, Joseph Gordon-Levitt, Ken Watanab...</td>\n",
       "      <td>[Christopher Nolan]</td>\n",
       "      <td>Your mind is the scene of the crime.</td>\n",
       "      <td>Cobb, a skilled thief who commits corporate es...</td>\n",
       "      <td>148</td>\n",
       "      <td>[Action, Thriller, Science Fiction, Mystery, A...</td>\n",
       "      <td>[Legendary Pictures, Warner Bros., Syncopy]</td>\n",
       "      <td>2010-07-14</td>\n",
       "      <td>7.9</td>\n",
       "      <td>2010</td>\n",
       "      <td>665500000</td>\n",
       "      <td>7</td>\n",
       "      <td>9</td>\n",
       "      <td>44</td>\n",
       "      <td>[(Ellen Page, Joseph Gordon-Levitt), (Ellen Pa...</td>\n",
       "    </tr>\n",
       "    <tr>\n",
       "      <th>872</th>\n",
       "      <td>tt0253474</td>\n",
       "      <td>35000000</td>\n",
       "      <td>120072577</td>\n",
       "      <td>The Pianist</td>\n",
       "      <td>[Adrien Brody, Emilia Fox, Frank Finlay, Maure...</td>\n",
       "      <td>[Roman Polanski]</td>\n",
       "      <td>Music was his passion. Survival was his master...</td>\n",
       "      <td>The Pianist is a film adapted from the biograp...</td>\n",
       "      <td>150</td>\n",
       "      <td>[Drama, War]</td>\n",
       "      <td>[Bac Films, Canal+Polska, Heritage Films, Stud...</td>\n",
       "      <td>2002-09-24</td>\n",
       "      <td>7.9</td>\n",
       "      <td>2002</td>\n",
       "      <td>85072577</td>\n",
       "      <td>9</td>\n",
       "      <td>11</td>\n",
       "      <td>39</td>\n",
       "      <td>[(Adrien Brody, Emilia Fox), (Adrien Brody, Fr...</td>\n",
       "    </tr>\n",
       "    <tr>\n",
       "      <th>138</th>\n",
       "      <td>tt2278388</td>\n",
       "      <td>30000000</td>\n",
       "      <td>174600318</td>\n",
       "      <td>The Grand Budapest Hotel</td>\n",
       "      <td>[Adrien Brody, F. Murray Abraham, Mathieu Amal...</td>\n",
       "      <td>[Wes Anderson]</td>\n",
       "      <td>A perfect holiday without leaving home.</td>\n",
       "      <td>The Grand Budapest Hotel tells of a legendary ...</td>\n",
       "      <td>99</td>\n",
       "      <td>[Comedy, Drama]</td>\n",
       "      <td>[Fox Searchlight Pictures, Scott Rudin Product...</td>\n",
       "      <td>2014-02-26</td>\n",
       "      <td>7.9</td>\n",
       "      <td>2014</td>\n",
       "      <td>144600318</td>\n",
       "      <td>2</td>\n",
       "      <td>24</td>\n",
       "      <td>66</td>\n",
       "      <td>[(Adrien Brody, F. Murray Abraham), (Adrien Br...</td>\n",
       "    </tr>\n",
       "    <tr>\n",
       "      <th>1188</th>\n",
       "      <td>tt1798709</td>\n",
       "      <td>23000000</td>\n",
       "      <td>47351251</td>\n",
       "      <td>Her</td>\n",
       "      <td>[Amy Adams, Joaquin Phoenix, Olivia Wilde, Roo...</td>\n",
       "      <td>[Spike Jonze]</td>\n",
       "      <td>A Spike Jonze Love Story</td>\n",
       "      <td>In the not so distant future, Theodore, a lone...</td>\n",
       "      <td>126</td>\n",
       "      <td>[Romance, Science Fiction, Drama]</td>\n",
       "      <td>[Annapurna Pictures]</td>\n",
       "      <td>2013-12-18</td>\n",
       "      <td>7.8</td>\n",
       "      <td>2013</td>\n",
       "      <td>24351251</td>\n",
       "      <td>12</td>\n",
       "      <td>3</td>\n",
       "      <td>65</td>\n",
       "      <td>[(Amy Adams, Joaquin Phoenix), (Amy Adams, Oli...</td>\n",
       "    </tr>\n",
       "    <tr>\n",
       "      <th>28</th>\n",
       "      <td>tt1895587</td>\n",
       "      <td>20000000</td>\n",
       "      <td>88346473</td>\n",
       "      <td>Spotlight</td>\n",
       "      <td>[John Slattery, Liev Schreiber, Mark Ruffalo, ...</td>\n",
       "      <td>[Tom McCarthy]</td>\n",
       "      <td>Break the story. Break the silence.</td>\n",
       "      <td>The true story of how The Boston Globe uncover...</td>\n",
       "      <td>128</td>\n",
       "      <td>[Drama, Thriller, History]</td>\n",
       "      <td>[Participant Media, Open Road Films, Anonymous...</td>\n",
       "      <td>2015-11-06</td>\n",
       "      <td>7.8</td>\n",
       "      <td>2015</td>\n",
       "      <td>68346473</td>\n",
       "      <td>11</td>\n",
       "      <td>9</td>\n",
       "      <td>30</td>\n",
       "      <td>[(John Slattery, Liev Schreiber), (John Slatte...</td>\n",
       "    </tr>\n",
       "    <tr>\n",
       "      <th>124</th>\n",
       "      <td>tt2245084</td>\n",
       "      <td>165000000</td>\n",
       "      <td>652105443</td>\n",
       "      <td>Big Hero 6</td>\n",
       "      <td>[Daniel Henney, Jamie Chung, Ryan Potter, Scot...</td>\n",
       "      <td>[Don Hall, Chris Williams]</td>\n",
       "      <td>From the creators of Wreck-it Ralph and Frozen</td>\n",
       "      <td>The special bond that develops between plus-si...</td>\n",
       "      <td>102</td>\n",
       "      <td>[Adventure, Family, Animation, Action, Comedy]</td>\n",
       "      <td>[Walt Disney Pictures, Walt Disney Animation S...</td>\n",
       "      <td>2014-10-24</td>\n",
       "      <td>7.8</td>\n",
       "      <td>2014</td>\n",
       "      <td>487105443</td>\n",
       "      <td>10</td>\n",
       "      <td>10</td>\n",
       "      <td>29</td>\n",
       "      <td>[(Daniel Henney, Jamie Chung), (Daniel Henney,...</td>\n",
       "    </tr>\n",
       "    <tr>\n",
       "      <th>177</th>\n",
       "      <td>tt2582846</td>\n",
       "      <td>12000000</td>\n",
       "      <td>305151265</td>\n",
       "      <td>The Fault in Our Stars</td>\n",
       "      <td>[Ansel Elgort, Laura Dern, Nat Wolff, Sam Tram...</td>\n",
       "      <td>[Josh Boone]</td>\n",
       "      <td>One Sick Love Story</td>\n",
       "      <td>Despite the tumor-shrinking medical miracle th...</td>\n",
       "      <td>125</td>\n",
       "      <td>[Romance, Drama]</td>\n",
       "      <td>[Fox 2000 Pictures, Temple Hill Entertainment,...</td>\n",
       "      <td>2014-05-16</td>\n",
       "      <td>7.8</td>\n",
       "      <td>2014</td>\n",
       "      <td>293151265</td>\n",
       "      <td>5</td>\n",
       "      <td>22</td>\n",
       "      <td>47</td>\n",
       "      <td>[(Ansel Elgort, Laura Dern), (Ansel Elgort, Na...</td>\n",
       "    </tr>\n",
       "  </tbody>\n",
       "</table>\n",
       "</div>"
      ],
      "text/plain": [
       "        imdb_id     budget     revenue  \\\n",
       "599   tt0468569  185000000  1001921825   \n",
       "118   tt0816692  165000000   621752480   \n",
       "125   tt2084970   14000000   233555708   \n",
       "9     tt2096673  175000000   853708609   \n",
       "34    tt3170832    6000000    35401758   \n",
       "1183  tt0993846  100000000   392000694   \n",
       "128   tt2267998   61000000   369330363   \n",
       "1191  tt2024544   20000000   187000000   \n",
       "119   tt2015381  170000000   773312399   \n",
       "1081  tt0167260   94000000  1118888979   \n",
       "1800  tt0209144    9000000    39723096   \n",
       "370   tt1375666  160000000   825500000   \n",
       "872   tt0253474   35000000   120072577   \n",
       "138   tt2278388   30000000   174600318   \n",
       "1188  tt1798709   23000000    47351251   \n",
       "28    tt1895587   20000000    88346473   \n",
       "124   tt2245084  165000000   652105443   \n",
       "177   tt2582846   12000000   305151265   \n",
       "\n",
       "                                     original_title  \\\n",
       "599                                 The Dark Knight   \n",
       "118                                    Interstellar   \n",
       "125                              The Imitation Game   \n",
       "9                                        Inside Out   \n",
       "34                                             Room   \n",
       "1183                        The Wolf of Wall Street   \n",
       "128                                       Gone Girl   \n",
       "1191                               12 Years a Slave   \n",
       "119                         Guardians of the Galaxy   \n",
       "1081  The Lord of the Rings: The Return of the King   \n",
       "1800                                        Memento   \n",
       "370                                       Inception   \n",
       "872                                     The Pianist   \n",
       "138                        The Grand Budapest Hotel   \n",
       "1188                                            Her   \n",
       "28                                        Spotlight   \n",
       "124                                      Big Hero 6   \n",
       "177                          The Fault in Our Stars   \n",
       "\n",
       "                                                   cast  \\\n",
       "599   [Aaron Eckhart, Christian Bale, Gary Oldman, H...   \n",
       "118   [Anne Hathaway, Casey Affleck, Jessica Chastai...   \n",
       "125   [Allen Leech, Benedict Cumberbatch, Keira Knig...   \n",
       "9     [Amy Poehler, Bill Hader, Lewis Black, Phyllis...   \n",
       "34    [Brie Larson, Jacob Tremblay, Joan Allen, Sean...   \n",
       "1183  [Jonah Hill, Kyle Chandler, Leonardo DiCaprio,...   \n",
       "128   [Ben Affleck, Carrie Coon, Neil Patrick Harris...   \n",
       "1191  [Benedict Cumberbatch, Chiwetel Ejiofor, Lupit...   \n",
       "119   [Bradley Cooper, Chris Pratt, Dave Bautista, V...   \n",
       "1081  [Elijah Wood, Ian McKellen, Liv Tyler, Orlando...   \n",
       "1800  [Carrie-Anne Moss, Guy Pearce, Joe Pantoliano,...   \n",
       "370   [Ellen Page, Joseph Gordon-Levitt, Ken Watanab...   \n",
       "872   [Adrien Brody, Emilia Fox, Frank Finlay, Maure...   \n",
       "138   [Adrien Brody, F. Murray Abraham, Mathieu Amal...   \n",
       "1188  [Amy Adams, Joaquin Phoenix, Olivia Wilde, Roo...   \n",
       "28    [John Slattery, Liev Schreiber, Mark Ruffalo, ...   \n",
       "124   [Daniel Henney, Jamie Chung, Ryan Potter, Scot...   \n",
       "177   [Ansel Elgort, Laura Dern, Nat Wolff, Sam Tram...   \n",
       "\n",
       "                        director  \\\n",
       "599          [Christopher Nolan]   \n",
       "118          [Christopher Nolan]   \n",
       "125              [Morten Tyldum]   \n",
       "9                  [Pete Docter]   \n",
       "34            [Lenny Abrahamson]   \n",
       "1183           [Martin Scorsese]   \n",
       "128              [David Fincher]   \n",
       "1191             [Steve McQueen]   \n",
       "119                 [James Gunn]   \n",
       "1081             [Peter Jackson]   \n",
       "1800         [Christopher Nolan]   \n",
       "370          [Christopher Nolan]   \n",
       "872             [Roman Polanski]   \n",
       "138               [Wes Anderson]   \n",
       "1188               [Spike Jonze]   \n",
       "28                [Tom McCarthy]   \n",
       "124   [Don Hall, Chris Williams]   \n",
       "177                 [Josh Boone]   \n",
       "\n",
       "                                                tagline  \\\n",
       "599                                     Why So Serious?   \n",
       "118   Mankind was born on Earth. It was never meant ...   \n",
       "125   The true enigma was the man who cracked the code.   \n",
       "9              Meet the little voices inside your head.   \n",
       "34                             Love knows no boundaries   \n",
       "1183                                EARN. SPEND. PARTY.   \n",
       "128         You don't know what you've got 'til it's...   \n",
       "1191    The extraordinary true story of Solomon Northup   \n",
       "119                         All heroes start somewhere.   \n",
       "1081                    The eye of the enemy is moving.   \n",
       "1800                  Some memories are best forgotten.   \n",
       "370                Your mind is the scene of the crime.   \n",
       "872   Music was his passion. Survival was his master...   \n",
       "138             A perfect holiday without leaving home.   \n",
       "1188                           A Spike Jonze Love Story   \n",
       "28                  Break the story. Break the silence.   \n",
       "124      From the creators of Wreck-it Ralph and Frozen   \n",
       "177                                 One Sick Love Story   \n",
       "\n",
       "                                               overview  runtime  \\\n",
       "599   Batman raises the stakes in his war on crime. ...      152   \n",
       "118   Interstellar chronicles the adventures of a gr...      169   \n",
       "125   Based on the real life story of legendary cryp...      113   \n",
       "9     Growing up can be a bumpy road, and it's no ex...       94   \n",
       "34    Jack is a young boy of 5 years old who has liv...      117   \n",
       "1183  A New York stockbroker refuses to cooperate in...      180   \n",
       "128   With his wife's disappearance having become th...      145   \n",
       "1191  In the pre-Civil War United States, Solomon No...      134   \n",
       "119   Light years from Earth, 26 years after being a...      121   \n",
       "1081  Aragorn is revealed as the heir to the ancient...      201   \n",
       "1800  Suffering short-term memory loss after a head ...      113   \n",
       "370   Cobb, a skilled thief who commits corporate es...      148   \n",
       "872   The Pianist is a film adapted from the biograp...      150   \n",
       "138   The Grand Budapest Hotel tells of a legendary ...       99   \n",
       "1188  In the not so distant future, Theodore, a lone...      126   \n",
       "28    The true story of how The Boston Globe uncover...      128   \n",
       "124   The special bond that develops between plus-si...      102   \n",
       "177   Despite the tumor-shrinking medical miracle th...      125   \n",
       "\n",
       "                                                 genres  \\\n",
       "599                    [Drama, Action, Crime, Thriller]   \n",
       "118                 [Adventure, Drama, Science Fiction]   \n",
       "125                     [History, Drama, Thriller, War]   \n",
       "9                           [Comedy, Animation, Family]   \n",
       "34                                    [Drama, Thriller]   \n",
       "1183                             [Crime, Drama, Comedy]   \n",
       "128                          [Mystery, Thriller, Drama]   \n",
       "1191                                   [Drama, History]   \n",
       "119                [Action, Science Fiction, Adventure]   \n",
       "1081                       [Adventure, Fantasy, Action]   \n",
       "1800                                [Mystery, Thriller]   \n",
       "370   [Action, Thriller, Science Fiction, Mystery, A...   \n",
       "872                                        [Drama, War]   \n",
       "138                                     [Comedy, Drama]   \n",
       "1188                  [Romance, Science Fiction, Drama]   \n",
       "28                           [Drama, Thriller, History]   \n",
       "124      [Adventure, Family, Animation, Action, Comedy]   \n",
       "177                                    [Romance, Drama]   \n",
       "\n",
       "                                   production_companies release_date  \\\n",
       "599   [DC Comics, Legendary Pictures, Warner Bros., ...   2008-07-16   \n",
       "118   [Paramount Pictures, Legendary Pictures, Warne...   2014-11-05   \n",
       "125           [Black Bear Pictures, Bristol Automotive]   2014-11-14   \n",
       "9     [Walt Disney Pictures, Pixar Animation Studios...   2015-06-09   \n",
       "34    [Element Pictures, No Trace Camping, A24, Dupe...   2015-10-16   \n",
       "1183  [Paramount Pictures, Appian Way, EMJAG Product...   2013-12-25   \n",
       "128   [Twentieth Century Fox Film Corporation, Regen...   2014-10-01   \n",
       "1191  [Plan B Entertainment, Regency Enterprises, Ri...   2013-10-18   \n",
       "119   [Marvel Studios, Moving Picture Company (MPC),...   2014-07-30   \n",
       "1081                   [WingNut Films, New Line Cinema]   2003-12-01   \n",
       "1800  [Summit Entertainment, Newmarket Capital Group...   2000-10-11   \n",
       "370         [Legendary Pictures, Warner Bros., Syncopy]   2010-07-14   \n",
       "872   [Bac Films, Canal+Polska, Heritage Films, Stud...   2002-09-24   \n",
       "138   [Fox Searchlight Pictures, Scott Rudin Product...   2014-02-26   \n",
       "1188                               [Annapurna Pictures]   2013-12-18   \n",
       "28    [Participant Media, Open Road Films, Anonymous...   2015-11-06   \n",
       "124   [Walt Disney Pictures, Walt Disney Animation S...   2014-10-24   \n",
       "177   [Fox 2000 Pictures, Temple Hill Entertainment,...   2014-05-16   \n",
       "\n",
       "      vote_average  release_year      profit  release_month  title_length  \\\n",
       "599            8.1          2008   816921825              7            15   \n",
       "118            8.0          2014   456752480             11            12   \n",
       "125            8.0          2014   219555708             11            18   \n",
       "9              8.0          2015   678708609              6            10   \n",
       "34             8.0          2015    29401758             10             4   \n",
       "1183           7.9          2013   292000694             12            23   \n",
       "128            7.9          2014   308330363             10             9   \n",
       "1191           7.9          2013   167000000             10            16   \n",
       "119            7.9          2014   603312399              7            23   \n",
       "1081           7.9          2003  1024888979             12            45   \n",
       "1800           7.9          2000    30723096             10             7   \n",
       "370            7.9          2010   665500000              7             9   \n",
       "872            7.9          2002    85072577              9            11   \n",
       "138            7.9          2014   144600318              2            24   \n",
       "1188           7.8          2013    24351251             12             3   \n",
       "28             7.8          2015    68346473             11             9   \n",
       "124            7.8          2014   487105443             10            10   \n",
       "177            7.8          2014   293151265              5            22   \n",
       "\n",
       "      overview_length                                              pairs  \n",
       "599                67  [(Aaron Eckhart, Christian Bale), (Aaron Eckha...  \n",
       "118                35  [(Anne Hathaway, Casey Affleck), (Anne Hathawa...  \n",
       "125                46  [(Allen Leech, Benedict Cumberbatch), (Allen L...  \n",
       "9                 112  [(Amy Poehler, Bill Hader), (Amy Poehler, Lewi...  \n",
       "34                 49  [(Brie Larson, Jacob Tremblay), (Brie Larson, ...  \n",
       "1183               29  [(Jonah Hill, Kyle Chandler), (Jonah Hill, Leo...  \n",
       "128                30  [(Ben Affleck, Carrie Coon), (Ben Affleck, Nei...  \n",
       "1191               61  [(Benedict Cumberbatch, Chiwetel Ejiofor), (Be...  \n",
       "119                28  [(Bradley Cooper, Chris Pratt), (Bradley Coope...  \n",
       "1081               45  [(Elijah Wood, Ian McKellen), (Elijah Wood, Li...  \n",
       "1800               78  [(Carrie-Anne Moss, Guy Pearce), (Carrie-Anne ...  \n",
       "370                44  [(Ellen Page, Joseph Gordon-Levitt), (Ellen Pa...  \n",
       "872                39  [(Adrien Brody, Emilia Fox), (Adrien Brody, Fr...  \n",
       "138                66  [(Adrien Brody, F. Murray Abraham), (Adrien Br...  \n",
       "1188               65  [(Amy Adams, Joaquin Phoenix), (Amy Adams, Oli...  \n",
       "28                 30  [(John Slattery, Liev Schreiber), (John Slatte...  \n",
       "124                29  [(Daniel Henney, Jamie Chung), (Daniel Henney,...  \n",
       "177                47  [(Ansel Elgort, Laura Dern), (Ansel Elgort, Na...  "
      ]
     },
     "execution_count": 180,
     "metadata": {},
     "output_type": "execute_result"
    }
   ],
   "source": [
    "# (1) sort by vote_average column;\n",
    "# (2) divide the number of all films by 100 to display the top one percent\n",
    "data.sort_values('vote_average', ascending=False).head(int(len(data)/100))"
   ]
  },
  {
   "cell_type": "markdown",
   "metadata": {
    "colab_type": "text",
    "id": "MdXsUXbCVqAV"
   },
   "source": [
    "# 27. Какие актеры чаще всего снимаются в одном фильме вместе?\n",
    "### Which actors star in same movies most often? "
   ]
  },
  {
   "cell_type": "code",
   "execution_count": 181,
   "metadata": {},
   "outputs": [],
   "source": [
    "answers['27'] = 'Daniel Radcliffe & Rupert Grint / Daniel Radcliffe & Emma Watson / Emma Watson & Rupert Grint'"
   ]
  },
  {
   "cell_type": "code",
   "execution_count": 182,
   "metadata": {
    "scrolled": true
   },
   "outputs": [
    {
     "data": {
      "text/plain": [
       "[(('Daniel Radcliffe', 'Emma Watson'), 8),\n",
       " (('Daniel Radcliffe', 'Rupert Grint'), 8),\n",
       " (('Emma Watson', 'Rupert Grint'), 8),\n",
       " (('Ben Stiller', 'Owen Wilson'), 6),\n",
       " (('Helena Bonham Carter', 'Johnny Depp'), 6)]"
      ]
     },
     "execution_count": 182,
     "metadata": {},
     "output_type": "execute_result"
    }
   ],
   "source": [
    "# Actors in cast column were sorted in alphabetical order during data\n",
    "# preprocessing to avoid duplications.\n",
    "# Pairs of actors from respective column (with pairs of actors for each film),\n",
    "# created during data preprocessing, are sorted by frequency.\n",
    "\n",
    "Counter(data.explode('pairs')['pairs']).most_common(5)"
   ]
  },
  {
   "cell_type": "markdown",
   "metadata": {
    "colab_type": "text",
    "id": "U0nONFnGVqAX"
   },
   "source": [
    "# Submission"
   ]
  },
  {
   "cell_type": "code",
   "execution_count": 183,
   "metadata": {
    "colab": {},
    "colab_type": "code",
    "id": "IfcaRO9-VqAX",
    "outputId": "0f132912-32bb-4196-c98c-abfbc4ad5a5f",
    "scrolled": true
   },
   "outputs": [
    {
     "data": {
      "text/plain": [
       "{'1': 'Pirates of the Caribbean: On Stranger Tides (tt1298650)',\n",
       " '2': 'Gods and Generals (tt0279111)',\n",
       " '3': 'Winnie the Pooh (tt1449283)',\n",
       " '4': 110,\n",
       " '5': 107,\n",
       " '6': 'Avatar (tt0499549)',\n",
       " '7': 'The Lone Ranger (tt1210819)',\n",
       " '8': 1478,\n",
       " '9': 'The Dark Knight (tt0468569)',\n",
       " '10': 'The Lone Ranger (tt1210819)',\n",
       " '11': 'Drama',\n",
       " '12': 'Drama',\n",
       " '13': 'Peter Jackson',\n",
       " '14': 'Robert Rodriguez',\n",
       " '15': 'Chris Hemsworth',\n",
       " '16': 'Matt Damon',\n",
       " '17': 'Action',\n",
       " '18': 'K-19: The Widowmaker (tt0267626)',\n",
       " '19': 2015,\n",
       " '20': 2014,\n",
       " '21': 9,\n",
       " '22': 450,\n",
       " '23': 'Peter Jackson',\n",
       " '24': 'Four By Two Productions',\n",
       " '25': 'Midnight Picture Show',\n",
       " '26': '1. Inside Out, The Dark Knight, 12 Years a Slave',\n",
       " '27': 'Daniel Radcliffe & Rupert Grint / Daniel Radcliffe & Emma Watson / Emma Watson & Rupert Grint'}"
      ]
     },
     "execution_count": 183,
     "metadata": {},
     "output_type": "execute_result"
    }
   ],
   "source": [
    "answers"
   ]
  },
  {
   "cell_type": "code",
   "execution_count": 184,
   "metadata": {
    "colab": {},
    "colab_type": "code",
    "id": "SiRmHPl8VqAd"
   },
   "outputs": [
    {
     "data": {
      "text/plain": [
       "27"
      ]
     },
     "execution_count": 184,
     "metadata": {},
     "output_type": "execute_result"
    }
   ],
   "source": [
    "len(answers)"
   ]
  },
  {
   "cell_type": "code",
   "execution_count": null,
   "metadata": {
    "colab": {},
    "colab_type": "code",
    "id": "uCfuTkRbVqAg"
   },
   "outputs": [],
   "source": []
  },
  {
   "cell_type": "code",
   "execution_count": null,
   "metadata": {
    "colab": {},
    "colab_type": "code",
    "id": "Vwx3NrkSVqAl"
   },
   "outputs": [],
   "source": []
  }
 ],
 "metadata": {
  "colab": {
   "name": "Copy of [SF-DST] Movies IMBD v4.1 TEMPLATE.ipynb",
   "provenance": []
  },
  "kernelspec": {
   "display_name": "Python 3",
   "language": "python",
   "name": "python3"
  },
  "language_info": {
   "codemirror_mode": {
    "name": "ipython",
    "version": 3
   },
   "file_extension": ".py",
   "mimetype": "text/x-python",
   "name": "python",
   "nbconvert_exporter": "python",
   "pygments_lexer": "ipython3",
   "version": "3.8.5"
  },
  "varInspector": {
   "cols": {
    "lenName": 16,
    "lenType": 16,
    "lenVar": 40
   },
   "kernels_config": {
    "python": {
     "delete_cmd_postfix": "",
     "delete_cmd_prefix": "del ",
     "library": "var_list.py",
     "varRefreshCmd": "print(var_dic_list())"
    },
    "r": {
     "delete_cmd_postfix": ") ",
     "delete_cmd_prefix": "rm(",
     "library": "var_list.r",
     "varRefreshCmd": "cat(var_dic_list()) "
    }
   },
   "types_to_exclude": [
    "module",
    "function",
    "builtin_function_or_method",
    "instance",
    "_Feature"
   ],
   "window_display": false
  }
 },
 "nbformat": 4,
 "nbformat_minor": 1
}
