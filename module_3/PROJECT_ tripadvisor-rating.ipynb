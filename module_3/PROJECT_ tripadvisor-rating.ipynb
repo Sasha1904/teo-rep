{
 "cells": [
  {
   "cell_type": "markdown",
   "metadata": {},
   "source": [
    "# Predict TripAdvisor Rating\n",
    "\n",
    "prepared by: Khudyakova Alexandra (Худякова Александра)\n",
    "\n",
    "- link to kaggle competition: https://www.kaggle.com/c/sf-dst-restaurant-rating/\n",
    "- link to my [this] notebook on kaggle: https://www.kaggle.com/alexandrakhudyakova/sf-tripadvisor-rating-v2-7-khudyakova/"
   ]
  },
  {
   "cell_type": "markdown",
   "metadata": {},
   "source": [
    "# import"
   ]
  },
  {
   "cell_type": "code",
   "execution_count": 2,
   "metadata": {
    "_cell_guid": "b1076dfc-b9ad-4769-8c92-a6c4dae69d19",
    "_uuid": "8f2839f25d086af736a60e9eeb907d3b93b6e0e5"
   },
   "outputs": [],
   "source": [
    "# This Python 3 environment comes with many helpful analytics libraries installed\n",
    "# It is defined by the kaggle/python docker image: https://github.com/kaggle/docker-python\n",
    "# For example, here's several helpful packages to load in \n",
    "\n",
    "import numpy as np # linear algebra\n",
    "import pandas as pd # data processing, CSV file I/O (e.g. pd.read_csv)\n",
    "import re\n",
    "from itertools import combinations\n",
    "from scipy.stats import ttest_ind\n",
    "\n",
    "import matplotlib.pyplot as plt\n",
    "import seaborn as sns \n",
    "%matplotlib inline\n",
    "\n",
    "nan = np.nan\n",
    "\n",
    "# for splitting our dataset:\n",
    "from sklearn.model_selection import train_test_split"
   ]
  },
  {
   "cell_type": "code",
   "execution_count": 3,
   "metadata": {},
   "outputs": [],
   "source": [
    "# to make results reproducable\n",
    "RANDOM_SEED = 42"
   ]
  },
  {
   "cell_type": "code",
   "execution_count": 4,
   "metadata": {},
   "outputs": [],
   "source": [
    "!pip freeze > requirements.txt"
   ]
  },
  {
   "cell_type": "markdown",
   "metadata": {},
   "source": [
    "# DATA"
   ]
  },
  {
   "cell_type": "code",
   "execution_count": 6,
   "metadata": {
    "_cell_guid": "79c7e3d0-c299-4dcb-8224-4455121ee9b0",
    "_uuid": "d629ff2d2480ee46fbb7e2d37f6b5fab8052498a"
   },
   "outputs": [],
   "source": [
    "df_train = pd.read_csv('main_task.csv')\n",
    "df_test = pd.read_csv('kaggle_task.csv')\n",
    "sample_submission = pd.read_csv('sample_submission.csv')"
   ]
  },
  {
   "cell_type": "code",
   "execution_count": 7,
   "metadata": {},
   "outputs": [
    {
     "name": "stdout",
     "output_type": "stream",
     "text": [
      "<class 'pandas.core.frame.DataFrame'>\n",
      "RangeIndex: 40000 entries, 0 to 39999\n",
      "Data columns (total 10 columns):\n",
      " #   Column             Non-Null Count  Dtype  \n",
      "---  ------             --------------  -----  \n",
      " 0   Restaurant_id      40000 non-null  object \n",
      " 1   City               40000 non-null  object \n",
      " 2   Cuisine Style      30717 non-null  object \n",
      " 3   Ranking            40000 non-null  float64\n",
      " 4   Rating             40000 non-null  float64\n",
      " 5   Price Range        26114 non-null  object \n",
      " 6   Number of Reviews  37457 non-null  float64\n",
      " 7   Reviews            40000 non-null  object \n",
      " 8   URL_TA             40000 non-null  object \n",
      " 9   ID_TA              40000 non-null  object \n",
      "dtypes: float64(3), object(7)\n",
      "memory usage: 3.1+ MB\n"
     ]
    }
   ],
   "source": [
    "df_train.info()"
   ]
  },
  {
   "cell_type": "code",
   "execution_count": 8,
   "metadata": {},
   "outputs": [
    {
     "name": "stdout",
     "output_type": "stream",
     "text": [
      "<class 'pandas.core.frame.DataFrame'>\n",
      "RangeIndex: 10000 entries, 0 to 9999\n",
      "Data columns (total 9 columns):\n",
      " #   Column             Non-Null Count  Dtype  \n",
      "---  ------             --------------  -----  \n",
      " 0   Restaurant_id      10000 non-null  object \n",
      " 1   City               10000 non-null  object \n",
      " 2   Cuisine Style      7693 non-null   object \n",
      " 3   Ranking            10000 non-null  float64\n",
      " 4   Price Range        6525 non-null   object \n",
      " 5   Number of Reviews  9343 non-null   float64\n",
      " 6   Reviews            9998 non-null   object \n",
      " 7   URL_TA             10000 non-null  object \n",
      " 8   ID_TA              10000 non-null  object \n",
      "dtypes: float64(2), object(7)\n",
      "memory usage: 703.2+ KB\n"
     ]
    }
   ],
   "source": [
    "df_test.info()"
   ]
  },
  {
   "cell_type": "code",
   "execution_count": 9,
   "metadata": {},
   "outputs": [
    {
     "name": "stdout",
     "output_type": "stream",
     "text": [
      "<class 'pandas.core.frame.DataFrame'>\n",
      "RangeIndex: 10000 entries, 0 to 9999\n",
      "Data columns (total 2 columns):\n",
      " #   Column         Non-Null Count  Dtype  \n",
      "---  ------         --------------  -----  \n",
      " 0   Restaurant_id  10000 non-null  object \n",
      " 1   Rating         10000 non-null  float64\n",
      "dtypes: float64(1), object(1)\n",
      "memory usage: 156.4+ KB\n"
     ]
    }
   ],
   "source": [
    "sample_submission.info()"
   ]
  },
  {
   "cell_type": "code",
   "execution_count": 10,
   "metadata": {},
   "outputs": [],
   "source": [
    "# for correct feature processing we consolidate train and test features in one dataset\n",
    "df_train['sample'] = 1 # marking train\n",
    "df_test['sample'] = 0 # marking test\n",
    "df_test['Rating'] = 0 # we do not have Rating in test, since we need to predict it, so we fill it with zeros\n",
    "\n",
    "data = df_test.append(df_train, sort=False).reset_index(drop=True) # consolidating in one dataset"
   ]
  },
  {
   "cell_type": "code",
   "execution_count": 11,
   "metadata": {},
   "outputs": [
    {
     "name": "stdout",
     "output_type": "stream",
     "text": [
      "<class 'pandas.core.frame.DataFrame'>\n",
      "RangeIndex: 50000 entries, 0 to 49999\n",
      "Data columns (total 11 columns):\n",
      " #   Column             Non-Null Count  Dtype  \n",
      "---  ------             --------------  -----  \n",
      " 0   Restaurant_id      50000 non-null  object \n",
      " 1   City               50000 non-null  object \n",
      " 2   Cuisine Style      38410 non-null  object \n",
      " 3   Ranking            50000 non-null  float64\n",
      " 4   Price Range        32639 non-null  object \n",
      " 5   Number of Reviews  46800 non-null  float64\n",
      " 6   Reviews            49998 non-null  object \n",
      " 7   URL_TA             50000 non-null  object \n",
      " 8   ID_TA              50000 non-null  object \n",
      " 9   sample             50000 non-null  int64  \n",
      " 10  Rating             50000 non-null  float64\n",
      "dtypes: float64(3), int64(1), object(7)\n",
      "memory usage: 4.2+ MB\n"
     ]
    }
   ],
   "source": [
    "data.info()"
   ]
  },
  {
   "cell_type": "markdown",
   "metadata": {},
   "source": [
    "Initial Features:\n",
    "* City \n",
    "* Cuisine Style\n",
    "* Ranking: Ranking among other restaurants in the city\n",
    "* Price Range\n",
    "* Number of Reviews\n",
    "* Reviews: 2 last reviews with dates\n",
    "* URL_TA: restaurant's page on 'www.tripadvisor.com' \n",
    "* ID_TA: restaurant's ID on TripAdvisor\n",
    "* Rating"
   ]
  },
  {
   "cell_type": "code",
   "execution_count": 12,
   "metadata": {},
   "outputs": [
    {
     "data": {
      "text/html": [
       "<div>\n",
       "<style scoped>\n",
       "    .dataframe tbody tr th:only-of-type {\n",
       "        vertical-align: middle;\n",
       "    }\n",
       "\n",
       "    .dataframe tbody tr th {\n",
       "        vertical-align: top;\n",
       "    }\n",
       "\n",
       "    .dataframe thead th {\n",
       "        text-align: right;\n",
       "    }\n",
       "</style>\n",
       "<table border=\"1\" class=\"dataframe\">\n",
       "  <thead>\n",
       "    <tr style=\"text-align: right;\">\n",
       "      <th></th>\n",
       "      <th>Restaurant_id</th>\n",
       "      <th>City</th>\n",
       "      <th>Cuisine Style</th>\n",
       "      <th>Ranking</th>\n",
       "      <th>Price Range</th>\n",
       "      <th>Number of Reviews</th>\n",
       "      <th>Reviews</th>\n",
       "      <th>URL_TA</th>\n",
       "      <th>ID_TA</th>\n",
       "      <th>sample</th>\n",
       "      <th>Rating</th>\n",
       "    </tr>\n",
       "  </thead>\n",
       "  <tbody>\n",
       "    <tr>\n",
       "      <th>18820</th>\n",
       "      <td>id_1774</td>\n",
       "      <td>Paris</td>\n",
       "      <td>['French', 'European', 'Vegetarian Friendly', ...</td>\n",
       "      <td>1775.0</td>\n",
       "      <td>$$ - $$$</td>\n",
       "      <td>278.0</td>\n",
       "      <td>[['Relaxed Dinner', 'Nice food'], ['11/01/2017...</td>\n",
       "      <td>/Restaurant_Review-g187147-d1035273-Reviews-Le...</td>\n",
       "      <td>d1035273</td>\n",
       "      <td>1</td>\n",
       "      <td>4.0</td>\n",
       "    </tr>\n",
       "    <tr>\n",
       "      <th>4331</th>\n",
       "      <td>id_4331</td>\n",
       "      <td>Hamburg</td>\n",
       "      <td>NaN</td>\n",
       "      <td>2022.0</td>\n",
       "      <td>NaN</td>\n",
       "      <td>NaN</td>\n",
       "      <td>[[], []]</td>\n",
       "      <td>/Restaurant_Review-g187331-d12338007-Reviews-H...</td>\n",
       "      <td>d12338007</td>\n",
       "      <td>0</td>\n",
       "      <td>0.0</td>\n",
       "    </tr>\n",
       "    <tr>\n",
       "      <th>4809</th>\n",
       "      <td>id_4809</td>\n",
       "      <td>Madrid</td>\n",
       "      <td>['Spanish']</td>\n",
       "      <td>8626.0</td>\n",
       "      <td>$$ - $$$</td>\n",
       "      <td>62.0</td>\n",
       "      <td>[['Rip off deluxe !!!! not for foregners ....'...</td>\n",
       "      <td>/Restaurant_Review-g187514-d2182340-Reviews-Ce...</td>\n",
       "      <td>d2182340</td>\n",
       "      <td>0</td>\n",
       "      <td>0.0</td>\n",
       "    </tr>\n",
       "    <tr>\n",
       "      <th>4686</th>\n",
       "      <td>id_4686</td>\n",
       "      <td>London</td>\n",
       "      <td>['Indian', 'Vegetarian Friendly', 'Vegan Optio...</td>\n",
       "      <td>2979.0</td>\n",
       "      <td>$$ - $$$</td>\n",
       "      <td>220.0</td>\n",
       "      <td>[['Cosy &amp; affordable', 'Very good Indian Food'...</td>\n",
       "      <td>/Restaurant_Review-g186338-d1389705-Reviews-Re...</td>\n",
       "      <td>d1389705</td>\n",
       "      <td>0</td>\n",
       "      <td>0.0</td>\n",
       "    </tr>\n",
       "    <tr>\n",
       "      <th>28167</th>\n",
       "      <td>id_2996</td>\n",
       "      <td>Madrid</td>\n",
       "      <td>NaN</td>\n",
       "      <td>2998.0</td>\n",
       "      <td>NaN</td>\n",
       "      <td>43.0</td>\n",
       "      <td>[['Really fast service', 'Basic local bar/rest...</td>\n",
       "      <td>/Restaurant_Review-g187514-d991719-Reviews-Asa...</td>\n",
       "      <td>d991719</td>\n",
       "      <td>1</td>\n",
       "      <td>4.0</td>\n",
       "    </tr>\n",
       "  </tbody>\n",
       "</table>\n",
       "</div>"
      ],
      "text/plain": [
       "      Restaurant_id     City  \\\n",
       "18820       id_1774    Paris   \n",
       "4331        id_4331  Hamburg   \n",
       "4809        id_4809   Madrid   \n",
       "4686        id_4686   London   \n",
       "28167       id_2996   Madrid   \n",
       "\n",
       "                                           Cuisine Style  Ranking Price Range  \\\n",
       "18820  ['French', 'European', 'Vegetarian Friendly', ...   1775.0    $$ - $$$   \n",
       "4331                                                 NaN   2022.0         NaN   \n",
       "4809                                         ['Spanish']   8626.0    $$ - $$$   \n",
       "4686   ['Indian', 'Vegetarian Friendly', 'Vegan Optio...   2979.0    $$ - $$$   \n",
       "28167                                                NaN   2998.0         NaN   \n",
       "\n",
       "       Number of Reviews                                            Reviews  \\\n",
       "18820              278.0  [['Relaxed Dinner', 'Nice food'], ['11/01/2017...   \n",
       "4331                 NaN                                           [[], []]   \n",
       "4809                62.0  [['Rip off deluxe !!!! not for foregners ....'...   \n",
       "4686               220.0  [['Cosy & affordable', 'Very good Indian Food'...   \n",
       "28167               43.0  [['Really fast service', 'Basic local bar/rest...   \n",
       "\n",
       "                                                  URL_TA      ID_TA  sample  \\\n",
       "18820  /Restaurant_Review-g187147-d1035273-Reviews-Le...   d1035273       1   \n",
       "4331   /Restaurant_Review-g187331-d12338007-Reviews-H...  d12338007       0   \n",
       "4809   /Restaurant_Review-g187514-d2182340-Reviews-Ce...   d2182340       0   \n",
       "4686   /Restaurant_Review-g186338-d1389705-Reviews-Re...   d1389705       0   \n",
       "28167  /Restaurant_Review-g187514-d991719-Reviews-Asa...    d991719       1   \n",
       "\n",
       "       Rating  \n",
       "18820     4.0  \n",
       "4331      0.0  \n",
       "4809      0.0  \n",
       "4686      0.0  \n",
       "28167     4.0  "
      ]
     },
     "execution_count": 12,
     "metadata": {},
     "output_type": "execute_result"
    }
   ],
   "source": [
    "data.sample(5)"
   ]
  },
  {
   "cell_type": "code",
   "execution_count": 13,
   "metadata": {},
   "outputs": [
    {
     "data": {
      "text/plain": [
       "\"[['Very good reviews!', 'Fine dining in Hakaniemi'], ['12/05/2017', '10/29/2017']]\""
      ]
     },
     "execution_count": 13,
     "metadata": {},
     "output_type": "execute_result"
    }
   ],
   "source": [
    "data.Reviews[1]"
   ]
  },
  {
   "cell_type": "markdown",
   "metadata": {},
   "source": [
    "Most features require preprocessing"
   ]
  },
  {
   "cell_type": "markdown",
   "metadata": {},
   "source": [
    "## Functions"
   ]
  },
  {
   "cell_type": "code",
   "execution_count": 14,
   "metadata": {},
   "outputs": [],
   "source": [
    "# updating cuisine column to lists\n",
    "def cuisine_to_list(cell):\n",
    "    if type(cell) == str:\n",
    "        cell = cell[1:-1].replace(\"'\", \"\").split(', ')\n",
    "        return cell\n",
    "    \n",
    "    \n",
    "# labelling price ranges\n",
    "def price_to_label(cell):\n",
    "    if type(cell) == str:\n",
    "        if cell == '$':\n",
    "            return 1\n",
    "        if cell == '$$ - $$$':\n",
    "            return 2\n",
    "        if cell == '$$$$':\n",
    "\n",
    "            return 3\n",
    "        \n",
    "# updating reviews column to tuples\n",
    "def format_reviews(cell):\n",
    "    if type(cell) == str:\n",
    "        if cell == '[[], []]':\n",
    "            cell = nan  # we will look at NaN values further\n",
    "        else:\n",
    "            cell = eval(cell.replace(\"], [\", \", \").replace(\"[[\",'').replace(\"]]\",''))\n",
    "        return cell\n",
    "\n",
    "    \n",
    "# filling in NAN cells in number of reviews\n",
    "def fill_number_review(x):\n",
    "    if (pd.isna(x['Number of Reviews'])) and (pd.notna(x['Reviews'])):\n",
    "        if len(x['Reviews']) == 2: ## i.e. only one text and one date\n",
    "            return 1\n",
    "    if (pd.isna(x['Number of Reviews'])) and (pd.isna(x['Reviews'])):\n",
    "        return 0\n",
    "    return x['Number of Reviews']\n",
    "\n",
    "\n",
    "# defining other city\n",
    "def other_city(cell):\n",
    "    if cell not in top_15_cities:\n",
    "        cell = 'Other'\n",
    "    return cell\n",
    "\n",
    "\n",
    "# using reviews column to create columns with texts and dates\n",
    "def review_text(cell):\n",
    "    if cell == 'Not Available':\n",
    "        return cell\n",
    "    if len(cell) == 2:\n",
    "        return cell[0]\n",
    "    if len(cell) == 4:\n",
    "        return list(cell[:2])\n",
    "\n",
    "    \n",
    "def review_date1(cell):\n",
    "    if cell == 'Not Available' or len(cell) == 2:\n",
    "        return pd.to_datetime(np.nan)\n",
    "    if len(cell) == 4:\n",
    "        return pd.to_datetime(cell[2]).date()\n",
    "    \n",
    "    \n",
    "def review_date2(cell):\n",
    "    if cell == 'Not Available':\n",
    "        return pd.to_datetime(np.nan)\n",
    "    if len(cell) == 2:\n",
    "        return pd.to_datetime(cell[1]).date()\n",
    "    if len(cell) == 4:\n",
    "        return pd.to_datetime(cell[3]).date()\n",
    "\n",
    "    \n",
    "# labelling time periods\n",
    "def date_diff_label(days):\n",
    "    if days <= 7:\n",
    "        return 1\n",
    "    if 7 < days <= 30:\n",
    "        return 2\n",
    "    if 30 < days <= 180:\n",
    "        return 3\n",
    "    if 180 < days <= 365:\n",
    "            return 4\n",
    "    if days > 365:\n",
    "        return 5\n",
    "\n",
    "    \n",
    "# defining top cuisine styles\n",
    "def top_cuisine(cell):\n",
    "    new_cuisine_list = []\n",
    "    if cell == 'Other':\n",
    "        new_cuisine_list.append(cell)\n",
    "    for cuisine in cell:\n",
    "        if cuisine  in top_15_cuisines:\n",
    "            new_cuisine_list.append(cuisine)\n",
    "    return new_cuisine_list    \n",
    "\n",
    "\n",
    "# labelling cuisine styles (for new feature)\n",
    "def vegetarian_friendly(cell):\n",
    "    if 'Vegetarian Friendly' in cell:\n",
    "        return 1\n",
    "    else:\n",
    "        return 0\n",
    "    \n",
    "def european(cell):\n",
    "    if 'European' in cell:\n",
    "        return 1\n",
    "    else:\n",
    "        return 0\n",
    "\n",
    "def other(cell):\n",
    "    if 'Other' in cell:\n",
    "        return 1\n",
    "    else:\n",
    "        return 0\n",
    "    \n",
    "def mediterranean(cell):\n",
    "    if 'Mediterranean' in cell:\n",
    "        return 1\n",
    "    else:\n",
    "        return 0\n",
    "\n",
    "def italian(cell):\n",
    "    if 'Italian' in cell:\n",
    "        return 1\n",
    "    else:\n",
    "        return 0\n",
    "\n",
    "def vegan_options(cell):\n",
    "    if 'Vegan Options' in cell:\n",
    "        return 1\n",
    "    else:\n",
    "        return 0\n",
    "\n",
    "def gluten_free(cell):\n",
    "    if 'Gluten Free Options' in cell:\n",
    "        return 1\n",
    "    else:\n",
    "        return 0\n",
    "\n",
    "def bar(cell):\n",
    "    if 'Bar' in cell:\n",
    "        return 1\n",
    "    else:\n",
    "        return 0\n",
    "\n",
    "def french(cell):\n",
    "    if 'French' in cell:\n",
    "        return 1\n",
    "    else:\n",
    "        return 0\n",
    "\n",
    "def asian(cell):\n",
    "    if 'Asian' in cell:\n",
    "        return 1\n",
    "    else:\n",
    "        return 0\n",
    "\n",
    "def pizza(cell):\n",
    "    if 'Pizza' in cell:\n",
    "        return 1\n",
    "    else:\n",
    "        return 0\n",
    "\n",
    "def spanish(cell):\n",
    "    if 'Spanish' in cell:\n",
    "        return 1\n",
    "    else:\n",
    "        return 0\n",
    "\n",
    "def pub(cell):\n",
    "    if 'Pub' in cell:\n",
    "        return 1\n",
    "    else:\n",
    "        return 0\n",
    "\n",
    "def cafe(cell):\n",
    "    if 'Cafe' in cell:\n",
    "        return 1\n",
    "    else:\n",
    "        return 0\n",
    "\n",
    "def fast_food(cell):\n",
    "    if 'Fast Food' in cell:\n",
    "        return 1\n",
    "    else:\n",
    "        return 0\n",
    "\n",
    "    \n",
    "# creating legend list for our pie chat\n",
    "def pie_legend(x):\n",
    "    if x == 1:\n",
    "        return 'week or less'\n",
    "    if x == 2:\n",
    "        return '1 week - 1 month'\n",
    "    if x == 3:\n",
    "        return '1 month - 6 months'\n",
    "    if x == 4:\n",
    "        return '6 months - 1 year'\n",
    "    if x == 5:\n",
    "        return 'more than a year'"
   ]
  },
  {
   "cell_type": "markdown",
   "metadata": {},
   "source": [
    "# Cleaning and Prepping Data\n"
   ]
  },
  {
   "cell_type": "markdown",
   "metadata": {},
   "source": [
    "## Updating the format"
   ]
  },
  {
   "cell_type": "code",
   "execution_count": 15,
   "metadata": {},
   "outputs": [
    {
     "name": "stdout",
     "output_type": "stream",
     "text": [
      "<class 'pandas.core.frame.DataFrame'>\n",
      "RangeIndex: 50000 entries, 0 to 49999\n",
      "Data columns (total 11 columns):\n",
      " #   Column             Non-Null Count  Dtype  \n",
      "---  ------             --------------  -----  \n",
      " 0   Restaurant_id      50000 non-null  object \n",
      " 1   City               50000 non-null  object \n",
      " 2   Cuisine Style      38410 non-null  object \n",
      " 3   Ranking            50000 non-null  float64\n",
      " 4   Price Range        32639 non-null  object \n",
      " 5   Number of Reviews  46800 non-null  float64\n",
      " 6   Reviews            49998 non-null  object \n",
      " 7   URL_TA             50000 non-null  object \n",
      " 8   ID_TA              50000 non-null  object \n",
      " 9   sample             50000 non-null  int64  \n",
      " 10  Rating             50000 non-null  float64\n",
      "dtypes: float64(3), int64(1), object(7)\n",
      "memory usage: 4.2+ MB\n"
     ]
    }
   ],
   "source": [
    "data.info()"
   ]
  },
  {
   "cell_type": "markdown",
   "metadata": {},
   "source": [
    "### Cuisine Style to list"
   ]
  },
  {
   "cell_type": "code",
   "execution_count": 16,
   "metadata": {},
   "outputs": [
    {
     "data": {
      "text/plain": [
       "str"
      ]
     },
     "execution_count": 16,
     "metadata": {},
     "output_type": "execute_result"
    }
   ],
   "source": [
    "# make cuisine styles => lists\n",
    "type(data['Cuisine Style'][1])"
   ]
  },
  {
   "cell_type": "code",
   "execution_count": 17,
   "metadata": {},
   "outputs": [],
   "source": [
    "data['Cuisine Style'] = data['Cuisine Style'].apply(lambda x: cuisine_to_list(x))"
   ]
  },
  {
   "cell_type": "markdown",
   "metadata": {},
   "source": [
    "### Price Range to labels"
   ]
  },
  {
   "cell_type": "code",
   "execution_count": 18,
   "metadata": {},
   "outputs": [
    {
     "data": {
      "text/plain": [
       "array(['$$ - $$$', '$$$$', '$', nan], dtype=object)"
      ]
     },
     "execution_count": 18,
     "metadata": {},
     "output_type": "execute_result"
    }
   ],
   "source": [
    "data['Price Range'].unique()"
   ]
  },
  {
   "cell_type": "code",
   "execution_count": 19,
   "metadata": {},
   "outputs": [],
   "source": [
    "data['Price Range'] = data['Price Range'].apply(lambda x: price_to_label(x))"
   ]
  },
  {
   "cell_type": "markdown",
   "metadata": {},
   "source": [
    "### Reviews to tuples\n",
    "Column with reviews contains the text of 1-2 latest reviews (if available) and their dates. However the cells are in string format. We will update the format to tuple to make reviews' details callable.\n",
    "\n",
    "Reviews column can contain: a) 2 reviews; b) 1 review; c) blank cell; d) NaN cell"
   ]
  },
  {
   "cell_type": "code",
   "execution_count": 20,
   "metadata": {},
   "outputs": [
    {
     "name": "stdout",
     "output_type": "stream",
     "text": [
      "A:  [['Juicy tender beef steaks!', 'A Real steak joint & they have Wagyu!'], ['12/01/2017', '11/05/2017']]\n",
      "B:  [[\"Nova' Doba\"], ['01/26/2017']]\n",
      "C:  [[], []]\n",
      "D:  nan\n"
     ]
    }
   ],
   "source": [
    "print('A: ', data['Reviews'][333])\n",
    "print('B: ', data['Reviews'][74])\n",
    "print('C: ', data['Reviews'][44246]) \n",
    "print('D: ', data['Reviews'][9608])"
   ]
  },
  {
   "cell_type": "code",
   "execution_count": 21,
   "metadata": {},
   "outputs": [],
   "source": [
    "data['Reviews'] = data['Reviews'].apply(lambda x: format_reviews(x))"
   ]
  },
  {
   "cell_type": "markdown",
   "metadata": {},
   "source": [
    "## Filling in NAN cells\n"
   ]
  },
  {
   "cell_type": "code",
   "execution_count": 22,
   "metadata": {},
   "outputs": [
    {
     "data": {
      "text/plain": [
       "Restaurant_id            0\n",
       "City                     0\n",
       "Cuisine Style        11590\n",
       "Ranking                  0\n",
       "Price Range          17361\n",
       "Number of Reviews     3200\n",
       "Reviews               8114\n",
       "URL_TA                   0\n",
       "ID_TA                    0\n",
       "sample                   0\n",
       "Rating                   0\n",
       "dtype: int64"
      ]
     },
     "execution_count": 22,
     "metadata": {},
     "output_type": "execute_result"
    }
   ],
   "source": [
    "data.isna().sum()"
   ]
  },
  {
   "cell_type": "code",
   "execution_count": 23,
   "metadata": {},
   "outputs": [
    {
     "data": {
      "text/plain": [
       "Restaurant_id        0.00000\n",
       "City                 0.00000\n",
       "Cuisine Style        0.23180\n",
       "Ranking              0.00000\n",
       "Price Range          0.34722\n",
       "Number of Reviews    0.06400\n",
       "Reviews              0.16228\n",
       "URL_TA               0.00000\n",
       "ID_TA                0.00000\n",
       "sample               0.00000\n",
       "Rating               0.00000\n",
       "dtype: float64"
      ]
     },
     "execution_count": 23,
     "metadata": {},
     "output_type": "execute_result"
    }
   ],
   "source": [
    "data.isna().sum() / len(data)"
   ]
  },
  {
   "cell_type": "markdown",
   "metadata": {},
   "source": [
    "There are 4 columns with NAN values: Cuisine Style, Price Range, Number of Reviews, Reviews. We will try to fill in these NAN cells (not drop). But first, we'll create new feature - No reviews."
   ]
  },
  {
   "cell_type": "code",
   "execution_count": 24,
   "metadata": {},
   "outputs": [],
   "source": [
    "data['No Reviews'] = data['Number of Reviews'].isna()"
   ]
  },
  {
   "cell_type": "markdown",
   "metadata": {},
   "source": [
    "### NAN: Cuisine Style\n",
    "If there is no Cuisine Style mentioned, let us replace it with 'Other'"
   ]
  },
  {
   "cell_type": "code",
   "execution_count": 25,
   "metadata": {},
   "outputs": [],
   "source": [
    "data['Cuisine Style'].fillna('Other', inplace=True)"
   ]
  },
  {
   "cell_type": "markdown",
   "metadata": {},
   "source": [
    "### NAN: Price Range\n",
    "If there is no Price Range mentioned, let us replace it with the mode."
   ]
  },
  {
   "cell_type": "code",
   "execution_count": 26,
   "metadata": {},
   "outputs": [
    {
     "data": {
      "text/plain": [
       "City\n",
       "Amsterdam     2.0\n",
       "Athens        2.0\n",
       "Barcelona     2.0\n",
       "Berlin        2.0\n",
       "Bratislava    2.0\n",
       "Brussels      2.0\n",
       "Budapest      2.0\n",
       "Copenhagen    2.0\n",
       "Dublin        2.0\n",
       "Edinburgh     2.0\n",
       "Geneva        2.0\n",
       "Hamburg       2.0\n",
       "Helsinki      2.0\n",
       "Krakow        2.0\n",
       "Lisbon        2.0\n",
       "Ljubljana     2.0\n",
       "London        2.0\n",
       "Luxembourg    2.0\n",
       "Lyon          2.0\n",
       "Madrid        2.0\n",
       "Milan         2.0\n",
       "Munich        2.0\n",
       "Oporto        2.0\n",
       "Oslo          2.0\n",
       "Paris         2.0\n",
       "Prague        2.0\n",
       "Rome          2.0\n",
       "Stockholm     2.0\n",
       "Vienna        2.0\n",
       "Warsaw        2.0\n",
       "Zurich        2.0\n",
       "Name: Price Range, dtype: float64"
      ]
     },
     "execution_count": 26,
     "metadata": {},
     "output_type": "execute_result"
    }
   ],
   "source": [
    "# but first, let us check whether price range mode depends on the city\n",
    "data.groupby('City')['Price Range'].agg(lambda x: x.value_counts().index[0])"
   ]
  },
  {
   "cell_type": "code",
   "execution_count": 27,
   "metadata": {},
   "outputs": [],
   "source": [
    "# all cities' modes are 2 (average price tag), so all missing values can be filled in by 2\n",
    "data['Price Range'].fillna(2, inplace=True)"
   ]
  },
  {
   "cell_type": "markdown",
   "metadata": {},
   "source": [
    "### NAN: Number of Reviews\n",
    "When there is one review in Reviews column, we can assume there is at least one available review and fill in Number of Reviews column with 1, since TripAdvisor does not allow you rate a restaurant without a review. \n",
    "\n",
    "We also can assume that if there are NAN values in both Reviews and Number of Reviews, there has been no reviews for the period taken, so Number of Reviews can be filled in with 0. \n",
    "\n",
    "When there are two reviews available, we will fill NAN with median.\n",
    "\n",
    "We can also check that there is no conflict with non-NAN cells, since there are no lines with number of reviews as 1 (meaning, after we execute our function for filling NAN values in Number of Reviews, there will be no cases when there are two reviews in Reviews column and '1' in Number of Reviews):\n"
   ]
  },
  {
   "cell_type": "code",
   "execution_count": 28,
   "metadata": {},
   "outputs": [
    {
     "data": {
      "text/html": [
       "<div>\n",
       "<style scoped>\n",
       "    .dataframe tbody tr th:only-of-type {\n",
       "        vertical-align: middle;\n",
       "    }\n",
       "\n",
       "    .dataframe tbody tr th {\n",
       "        vertical-align: top;\n",
       "    }\n",
       "\n",
       "    .dataframe thead th {\n",
       "        text-align: right;\n",
       "    }\n",
       "</style>\n",
       "<table border=\"1\" class=\"dataframe\">\n",
       "  <thead>\n",
       "    <tr style=\"text-align: right;\">\n",
       "      <th></th>\n",
       "      <th>Restaurant_id</th>\n",
       "      <th>City</th>\n",
       "      <th>Cuisine Style</th>\n",
       "      <th>Ranking</th>\n",
       "      <th>Price Range</th>\n",
       "      <th>Number of Reviews</th>\n",
       "      <th>Reviews</th>\n",
       "      <th>URL_TA</th>\n",
       "      <th>ID_TA</th>\n",
       "      <th>sample</th>\n",
       "      <th>Rating</th>\n",
       "      <th>No Reviews</th>\n",
       "    </tr>\n",
       "  </thead>\n",
       "  <tbody>\n",
       "  </tbody>\n",
       "</table>\n",
       "</div>"
      ],
      "text/plain": [
       "Empty DataFrame\n",
       "Columns: [Restaurant_id, City, Cuisine Style, Ranking, Price Range, Number of Reviews, Reviews, URL_TA, ID_TA, sample, Rating, No Reviews]\n",
       "Index: []"
      ]
     },
     "execution_count": 28,
     "metadata": {},
     "output_type": "execute_result"
    }
   ],
   "source": [
    "data[data['Number of Reviews'] == 1]"
   ]
  },
  {
   "cell_type": "code",
   "execution_count": 29,
   "metadata": {},
   "outputs": [],
   "source": [
    "median_number_reviews = data['Number of Reviews'].median()\n",
    "data['Number of Reviews'] = data.apply(fill_number_review, axis = 1)"
   ]
  },
  {
   "cell_type": "markdown",
   "metadata": {},
   "source": [
    "### NAN: Reviews\n",
    "Reviews column contains review text and date. We cannot fill NAN cells with any specific value, so we will just mark reviews as Not Available."
   ]
  },
  {
   "cell_type": "code",
   "execution_count": 30,
   "metadata": {},
   "outputs": [],
   "source": [
    "data['Reviews'].fillna('Not Available', inplace=True)"
   ]
  },
  {
   "cell_type": "code",
   "execution_count": 31,
   "metadata": {},
   "outputs": [
    {
     "data": {
      "text/plain": [
       "Restaurant_id        0\n",
       "City                 0\n",
       "Cuisine Style        0\n",
       "Ranking              0\n",
       "Price Range          0\n",
       "Number of Reviews    0\n",
       "Reviews              0\n",
       "URL_TA               0\n",
       "ID_TA                0\n",
       "sample               0\n",
       "Rating               0\n",
       "No Reviews           0\n",
       "dtype: int64"
      ]
     },
     "execution_count": 31,
     "metadata": {},
     "output_type": "execute_result"
    }
   ],
   "source": [
    "# no NAN values left:\n",
    "data.isna().sum()"
   ]
  },
  {
   "cell_type": "markdown",
   "metadata": {},
   "source": [
    "### Feature Engineering\n",
    "\n",
    "We have already applied label encoding to Price Ranges. Let us check how else the features can be updated or modified. \n",
    "\n",
    "Which features are categorical? Number of unique values can be checked. Cuisine Styles are calculated separately since there are lists in cells and we need to explode them."
   ]
  },
  {
   "cell_type": "code",
   "execution_count": 32,
   "metadata": {},
   "outputs": [
    {
     "name": "stdout",
     "output_type": "stream",
     "text": [
      "Restaurant_id        13094\n",
      "City                    31\n",
      "Ranking              12975\n",
      "Price Range              3\n",
      "Number of Reviews     1575\n",
      "Reviews              41857\n",
      "URL_TA               49963\n",
      "ID_TA                49963\n",
      "sample                   2\n",
      "Rating                  10\n",
      "No Reviews               2\n",
      "dtype: int64\n",
      "Cuisine Style 126\n"
     ]
    }
   ],
   "source": [
    "print(data.drop(['Cuisine Style'], axis=1).nunique())\n",
    "print('Cuisine Style',data.explode('Cuisine Style')['Cuisine Style'].nunique())"
   ]
  },
  {
   "cell_type": "markdown",
   "metadata": {},
   "source": [
    "### Repeated IDs (Restaurant_id, URL_TA, ID_TA)\n",
    "\n",
    "Before we start encoding, please look at number of unique values in columns, which are deemed as unique identifiers:\n",
    "* URL_TA and ID_TA both have 49963 unique values while we have 50000 observations. That may indicate duplicates (but only 37).\n",
    "* There are only 13094 Restaurant IDs, which may indicate that restaurant chains (i.e. the same restaurant name in different cities) are present in the dataset."
   ]
  },
  {
   "cell_type": "markdown",
   "metadata": {},
   "source": [
    "If we check records with the same ID_TA or URL_TA, they are mostly identical, however Restaurant IDs and Rankings differ. We will keep them in the dataset."
   ]
  },
  {
   "cell_type": "code",
   "execution_count": 33,
   "metadata": {},
   "outputs": [
    {
     "data": {
      "text/plain": [
       "d11921719    2\n",
       "d8753348     2\n",
       "d7809594     2\n",
       "d11674463    2\n",
       "d10440367    2\n",
       "            ..\n",
       "d6514472     1\n",
       "d3572875     1\n",
       "d4769758     1\n",
       "d10325211    1\n",
       "d7214093     1\n",
       "Name: ID_TA, Length: 49963, dtype: int64"
      ]
     },
     "execution_count": 33,
     "metadata": {},
     "output_type": "execute_result"
    }
   ],
   "source": [
    "data['ID_TA'].value_counts()"
   ]
  },
  {
   "cell_type": "code",
   "execution_count": 34,
   "metadata": {},
   "outputs": [
    {
     "data": {
      "text/html": [
       "<div>\n",
       "<style scoped>\n",
       "    .dataframe tbody tr th:only-of-type {\n",
       "        vertical-align: middle;\n",
       "    }\n",
       "\n",
       "    .dataframe tbody tr th {\n",
       "        vertical-align: top;\n",
       "    }\n",
       "\n",
       "    .dataframe thead th {\n",
       "        text-align: right;\n",
       "    }\n",
       "</style>\n",
       "<table border=\"1\" class=\"dataframe\">\n",
       "  <thead>\n",
       "    <tr style=\"text-align: right;\">\n",
       "      <th></th>\n",
       "      <th>Restaurant_id</th>\n",
       "      <th>City</th>\n",
       "      <th>Cuisine Style</th>\n",
       "      <th>Ranking</th>\n",
       "      <th>Price Range</th>\n",
       "      <th>Number of Reviews</th>\n",
       "      <th>Reviews</th>\n",
       "      <th>URL_TA</th>\n",
       "      <th>ID_TA</th>\n",
       "      <th>sample</th>\n",
       "      <th>Rating</th>\n",
       "      <th>No Reviews</th>\n",
       "    </tr>\n",
       "  </thead>\n",
       "  <tbody>\n",
       "    <tr>\n",
       "      <th>7853</th>\n",
       "      <td>id_7853</td>\n",
       "      <td>Madrid</td>\n",
       "      <td>Other</td>\n",
       "      <td>2931.0</td>\n",
       "      <td>2.0</td>\n",
       "      <td>229.0</td>\n",
       "      <td>(Good Paella, Good enough. Nothing more, 09/20...</td>\n",
       "      <td>/Restaurant_Review-g187514-d1235635-Reviews-Re...</td>\n",
       "      <td>d1235635</td>\n",
       "      <td>0</td>\n",
       "      <td>0.0</td>\n",
       "      <td>False</td>\n",
       "    </tr>\n",
       "    <tr>\n",
       "      <th>46074</th>\n",
       "      <td>id_2973</td>\n",
       "      <td>Madrid</td>\n",
       "      <td>Other</td>\n",
       "      <td>2975.0</td>\n",
       "      <td>2.0</td>\n",
       "      <td>229.0</td>\n",
       "      <td>(Good Paella, Good enough. Nothing more, 09/20...</td>\n",
       "      <td>/Restaurant_Review-g187514-d1235635-Reviews-Re...</td>\n",
       "      <td>d1235635</td>\n",
       "      <td>1</td>\n",
       "      <td>3.5</td>\n",
       "      <td>False</td>\n",
       "    </tr>\n",
       "  </tbody>\n",
       "</table>\n",
       "</div>"
      ],
      "text/plain": [
       "      Restaurant_id    City Cuisine Style  Ranking  Price Range  \\\n",
       "7853        id_7853  Madrid         Other   2931.0          2.0   \n",
       "46074       id_2973  Madrid         Other   2975.0          2.0   \n",
       "\n",
       "       Number of Reviews                                            Reviews  \\\n",
       "7853               229.0  (Good Paella, Good enough. Nothing more, 09/20...   \n",
       "46074              229.0  (Good Paella, Good enough. Nothing more, 09/20...   \n",
       "\n",
       "                                                  URL_TA     ID_TA  sample  \\\n",
       "7853   /Restaurant_Review-g187514-d1235635-Reviews-Re...  d1235635       0   \n",
       "46074  /Restaurant_Review-g187514-d1235635-Reviews-Re...  d1235635       1   \n",
       "\n",
       "       Rating  No Reviews  \n",
       "7853      0.0       False  \n",
       "46074     3.5       False  "
      ]
     },
     "execution_count": 34,
     "metadata": {},
     "output_type": "execute_result"
    }
   ],
   "source": [
    "data[data['ID_TA'] == 'd1235635']"
   ]
  },
  {
   "cell_type": "code",
   "execution_count": 35,
   "metadata": {},
   "outputs": [
    {
     "data": {
      "text/plain": [
       "/Restaurant_Review-g187514-d1235635-Reviews-Restaurante_Arroceria_Puerta_de_Atocha-Madrid.html             2\n",
       "/Restaurant_Review-g187514-d5617412-Reviews-Green_Marta_Iii-Madrid.html                                    2\n",
       "/Restaurant_Review-g187514-d697406-Reviews-Al_Mounia-Madrid.html                                           2\n",
       "/Restaurant_Review-g187514-d12488993-Reviews-Kathmandu_Tandoori_House_Nepali_Indian_Cuisine-Madrid.html    2\n",
       "/Restaurant_Review-g187514-d793170-Reviews-Caripen_Bistro-Madrid.html                                      2\n",
       "                                                                                                          ..\n",
       "/Restaurant_Review-g274707-d11538644-Reviews-Hiro-Prague_Bohemia.html                                      1\n",
       "/Restaurant_Review-g187147-d1334764-Reviews-Nieli-Paris_Ile_de_France.html                                 1\n",
       "/Restaurant_Review-g186338-d4911993-Reviews-Subway-London_England.html                                     1\n",
       "/Restaurant_Review-g187514-d8848749-Reviews-Bar_Celysol-Madrid.html                                        1\n",
       "/Restaurant_Review-g187323-d5824017-Reviews-Barini_NK-Berlin.html                                          1\n",
       "Name: URL_TA, Length: 49963, dtype: int64"
      ]
     },
     "execution_count": 35,
     "metadata": {},
     "output_type": "execute_result"
    }
   ],
   "source": [
    "data['URL_TA'].value_counts()"
   ]
  },
  {
   "cell_type": "code",
   "execution_count": 36,
   "metadata": {},
   "outputs": [
    {
     "data": {
      "text/html": [
       "<div>\n",
       "<style scoped>\n",
       "    .dataframe tbody tr th:only-of-type {\n",
       "        vertical-align: middle;\n",
       "    }\n",
       "\n",
       "    .dataframe tbody tr th {\n",
       "        vertical-align: top;\n",
       "    }\n",
       "\n",
       "    .dataframe thead th {\n",
       "        text-align: right;\n",
       "    }\n",
       "</style>\n",
       "<table border=\"1\" class=\"dataframe\">\n",
       "  <thead>\n",
       "    <tr style=\"text-align: right;\">\n",
       "      <th></th>\n",
       "      <th>Restaurant_id</th>\n",
       "      <th>City</th>\n",
       "      <th>Cuisine Style</th>\n",
       "      <th>Ranking</th>\n",
       "      <th>Price Range</th>\n",
       "      <th>Number of Reviews</th>\n",
       "      <th>Reviews</th>\n",
       "      <th>URL_TA</th>\n",
       "      <th>ID_TA</th>\n",
       "      <th>sample</th>\n",
       "      <th>Rating</th>\n",
       "      <th>No Reviews</th>\n",
       "    </tr>\n",
       "  </thead>\n",
       "  <tbody>\n",
       "    <tr>\n",
       "      <th>23942</th>\n",
       "      <td>id_1103</td>\n",
       "      <td>Madrid</td>\n",
       "      <td>[Spanish]</td>\n",
       "      <td>1104.0</td>\n",
       "      <td>2.0</td>\n",
       "      <td>73.0</td>\n",
       "      <td>(ok for beer, not for dinner, 12/20/2017)</td>\n",
       "      <td>/Restaurant_Review-g187514-d8753348-Reviews-Tr...</td>\n",
       "      <td>d8753348</td>\n",
       "      <td>1</td>\n",
       "      <td>4.5</td>\n",
       "      <td>False</td>\n",
       "    </tr>\n",
       "    <tr>\n",
       "      <th>41238</th>\n",
       "      <td>id_1212</td>\n",
       "      <td>Madrid</td>\n",
       "      <td>[Spanish]</td>\n",
       "      <td>1213.0</td>\n",
       "      <td>2.0</td>\n",
       "      <td>73.0</td>\n",
       "      <td>(ok for beer, not for dinner, 12/20/2017)</td>\n",
       "      <td>/Restaurant_Review-g187514-d8753348-Reviews-Tr...</td>\n",
       "      <td>d8753348</td>\n",
       "      <td>1</td>\n",
       "      <td>4.5</td>\n",
       "      <td>False</td>\n",
       "    </tr>\n",
       "  </tbody>\n",
       "</table>\n",
       "</div>"
      ],
      "text/plain": [
       "      Restaurant_id    City Cuisine Style  Ranking  Price Range  \\\n",
       "23942       id_1103  Madrid     [Spanish]   1104.0          2.0   \n",
       "41238       id_1212  Madrid     [Spanish]   1213.0          2.0   \n",
       "\n",
       "       Number of Reviews                                    Reviews  \\\n",
       "23942               73.0  (ok for beer, not for dinner, 12/20/2017)   \n",
       "41238               73.0  (ok for beer, not for dinner, 12/20/2017)   \n",
       "\n",
       "                                                  URL_TA     ID_TA  sample  \\\n",
       "23942  /Restaurant_Review-g187514-d8753348-Reviews-Tr...  d8753348       1   \n",
       "41238  /Restaurant_Review-g187514-d8753348-Reviews-Tr...  d8753348       1   \n",
       "\n",
       "       Rating  No Reviews  \n",
       "23942     4.5       False  \n",
       "41238     4.5       False  "
      ]
     },
     "execution_count": 36,
     "metadata": {},
     "output_type": "execute_result"
    }
   ],
   "source": [
    "data[data['URL_TA'] == '/Restaurant_Review-g187514-d8753348-Reviews-Tropecientos-Madrid.html']"
   ]
  },
  {
   "cell_type": "markdown",
   "metadata": {},
   "source": [
    "### Chain\n",
    "We will add new feature - Chain with two options: 1 (yes, it is chain a restaurant), 0 (no, it is not)."
   ]
  },
  {
   "cell_type": "code",
   "execution_count": 37,
   "metadata": {},
   "outputs": [],
   "source": [
    "# list with IDs of chain restaurants\n",
    "chain_id = list(data['Restaurant_id'].value_counts()[data['Restaurant_id'].value_counts()>1].index)\n",
    "\n",
    "# new feature \n",
    "data['Chain'] = (data.apply((lambda x: 1 if x['Restaurant_id'] in chain_id else 0), axis = 1))"
   ]
  },
  {
   "cell_type": "markdown",
   "metadata": {},
   "source": [
    "### City\n",
    "Half of the cities present (15 out of 31) represent 4/5 of the dataframe. So we can create new feature to apply one-hot encoding, where other cities are marked as Other."
   ]
  },
  {
   "cell_type": "code",
   "execution_count": 38,
   "metadata": {},
   "outputs": [
    {
     "data": {
      "text/plain": [
       "0.79092"
      ]
     },
     "execution_count": 38,
     "metadata": {},
     "output_type": "execute_result"
    }
   ],
   "source": [
    "top_15_cities = data['City'].value_counts().index[:15]\n",
    "len(data[data['City'].isin(top_15_cities)]) / len(data)"
   ]
  },
  {
   "cell_type": "code",
   "execution_count": 39,
   "metadata": {},
   "outputs": [],
   "source": [
    "data['City Top'] = data['City'].apply(lambda x: other_city(x))\n",
    "data = pd.get_dummies(data, columns=['City Top'])"
   ]
  },
  {
   "cell_type": "markdown",
   "metadata": {},
   "source": [
    "### Reviews: texts and dates\n",
    "In Reviews column we have both text and date of a review. Let us create separate columns for (1) texts, (2) 1st date, (2) 2nd date (all if available). "
   ]
  },
  {
   "cell_type": "code",
   "execution_count": 40,
   "metadata": {},
   "outputs": [],
   "source": [
    "data['Review Texts'] = data['Reviews'].apply(lambda x: review_text(x))\n",
    "data['Date of 1st Review'] = data['Reviews'].apply(lambda x: review_date1(x))\n",
    "data['Date of 2nd Review'] = data['Reviews'].apply(lambda x: review_date2(x))"
   ]
  },
  {
   "cell_type": "markdown",
   "metadata": {},
   "source": [
    "### Time period between reviews\n",
    "We'll create another feature - time period between reviews. First, we'll calculate the difference in days, then assign labels:\n",
    "* '1' week or less\n",
    "* '2' 1 week - 1 month\n",
    "* '3' 1 month - 6 months\n",
    "* '4' 6 months - 1 year\n",
    "* '5' more than a year\n",
    "\n",
    "We will also mark 'more than a year' all those observations where only one or no review is available."
   ]
  },
  {
   "cell_type": "code",
   "execution_count": 41,
   "metadata": {},
   "outputs": [],
   "source": [
    "# calculate time difference, apply labelling, fill NA values with 5 (more than a year)\n",
    "data['Date difference'] = (abs(data['Date of 1st Review'] - data['Date of 2nd Review']\n",
    "                               ).dt.days).apply(lambda x: date_diff_label(x)).fillna(5)"
   ]
  },
  {
   "cell_type": "markdown",
   "metadata": {},
   "source": [
    "### Price Range\n",
    "We'll apply one-hot encoding to price ranges as well."
   ]
  },
  {
   "cell_type": "code",
   "execution_count": 42,
   "metadata": {},
   "outputs": [
    {
     "name": "stdout",
     "output_type": "stream",
     "text": [
      "<class 'pandas.core.frame.DataFrame'>\n",
      "RangeIndex: 50000 entries, 0 to 49999\n",
      "Data columns (total 33 columns):\n",
      " #   Column              Non-Null Count  Dtype  \n",
      "---  ------              --------------  -----  \n",
      " 0   Restaurant_id       50000 non-null  object \n",
      " 1   City                50000 non-null  object \n",
      " 2   Cuisine Style       50000 non-null  object \n",
      " 3   Ranking             50000 non-null  float64\n",
      " 4   Price Range         50000 non-null  float64\n",
      " 5   Number of Reviews   50000 non-null  float64\n",
      " 6   Reviews             50000 non-null  object \n",
      " 7   URL_TA              50000 non-null  object \n",
      " 8   ID_TA               50000 non-null  object \n",
      " 9   sample              50000 non-null  int64  \n",
      " 10  Rating              50000 non-null  float64\n",
      " 11  No Reviews          50000 non-null  bool   \n",
      " 12  Chain               50000 non-null  int64  \n",
      " 13  City Top_Amsterdam  50000 non-null  uint8  \n",
      " 14  City Top_Barcelona  50000 non-null  uint8  \n",
      " 15  City Top_Berlin     50000 non-null  uint8  \n",
      " 16  City Top_Brussels   50000 non-null  uint8  \n",
      " 17  City Top_Hamburg    50000 non-null  uint8  \n",
      " 18  City Top_Lisbon     50000 non-null  uint8  \n",
      " 19  City Top_London     50000 non-null  uint8  \n",
      " 20  City Top_Lyon       50000 non-null  uint8  \n",
      " 21  City Top_Madrid     50000 non-null  uint8  \n",
      " 22  City Top_Milan      50000 non-null  uint8  \n",
      " 23  City Top_Munich     50000 non-null  uint8  \n",
      " 24  City Top_Other      50000 non-null  uint8  \n",
      " 25  City Top_Paris      50000 non-null  uint8  \n",
      " 26  City Top_Prague     50000 non-null  uint8  \n",
      " 27  City Top_Rome       50000 non-null  uint8  \n",
      " 28  City Top_Vienna     50000 non-null  uint8  \n",
      " 29  Review Texts        50000 non-null  object \n",
      " 30  Date of 1st Review  36206 non-null  object \n",
      " 31  Date of 2nd Review  41886 non-null  object \n",
      " 32  Date difference     50000 non-null  float64\n",
      "dtypes: bool(1), float64(5), int64(2), object(9), uint8(16)\n",
      "memory usage: 6.9+ MB\n"
     ]
    }
   ],
   "source": [
    "data.info()"
   ]
  },
  {
   "cell_type": "code",
   "execution_count": 43,
   "metadata": {},
   "outputs": [],
   "source": [
    "data['Price Ranges'] = data['Price Range']\n",
    "data = pd.get_dummies(data, columns=['Price Ranges'])"
   ]
  },
  {
   "cell_type": "markdown",
   "metadata": {},
   "source": [
    "### Cuisine Styles\n",
    "There are too many cuisine styles to perform one-hot encoding on them, so we will take out the most common ones (top 30), and label other styles as 'Other' (we also filled in NAN values with 'Other'). We create new column with Top Cuisine Styles (not to loose the initial data on the variety of styles) and then get dummies for it. "
   ]
  },
  {
   "cell_type": "code",
   "execution_count": 44,
   "metadata": {},
   "outputs": [
    {
     "data": {
      "text/plain": [
       "['Vegetarian Friendly',\n",
       " 'European',\n",
       " 'Other',\n",
       " 'Mediterranean',\n",
       " 'Italian',\n",
       " 'Vegan Options',\n",
       " 'Gluten Free Options',\n",
       " 'Bar',\n",
       " 'French',\n",
       " 'Asian',\n",
       " 'Pizza',\n",
       " 'Spanish',\n",
       " 'Pub',\n",
       " 'Cafe',\n",
       " 'Fast Food']"
      ]
     },
     "execution_count": 44,
     "metadata": {},
     "output_type": "execute_result"
    }
   ],
   "source": [
    "top_15_cuisines = list(data.explode('Cuisine Style')['Cuisine Style'].value_counts().index[:15])\n",
    "top_15_cuisines"
   ]
  },
  {
   "cell_type": "code",
   "execution_count": 45,
   "metadata": {},
   "outputs": [],
   "source": [
    "data['Top Cuisine'] = data['Cuisine Style'].apply(lambda x: top_cuisine(x))\n"
   ]
  },
  {
   "cell_type": "code",
   "execution_count": 46,
   "metadata": {},
   "outputs": [],
   "source": [
    "data['Cuisine - Vegetarian Friendly'] = data['Top Cuisine'].apply(lambda x: vegetarian_friendly(x))\n",
    "data['Cuisine - European'] = data['Top Cuisine'].apply(lambda x: european(x))\n",
    "data['Cuisine - Other'] = data['Top Cuisine'].apply(lambda x: other(x))\n",
    "data['Cuisine - Mediterranean'] = data['Top Cuisine'].apply(lambda x: mediterranean(x))\n",
    "data['Cuisine - Italian'] = data['Top Cuisine'].apply(lambda x: italian(x))\n",
    "data['Cuisine - Vegan Options'] = data['Top Cuisine'].apply(lambda x: vegan_options(x))\n",
    "data['Cuisine - Gluten Free Options'] = data['Top Cuisine'].apply(lambda x: gluten_free(x))\n",
    "data['Cuisine - Bar'] = data['Top Cuisine'].apply(lambda x: bar(x))\n",
    "data['Cuisine - French'] = data['Top Cuisine'].apply(lambda x: french(x))\n",
    "data['Cuisine - Asian'] = data['Top Cuisine'].apply(lambda x: asian(x))\n",
    "data['Cuisine - Pizza'] = data['Top Cuisine'].apply(lambda x: pizza(x))\n",
    "data['Cuisine - Spanish'] = data['Top Cuisine'].apply(lambda x: spanish(x))\n",
    "data['Cuisine - Pub'] = data['Top Cuisine'].apply(lambda x: pub(x))\n",
    "data['Cuisine - Cafe'] = data['Top Cuisine'].apply(lambda x: cafe(x))\n",
    "data['Cuisine - Fast Food'] = data['Top Cuisine'].apply(lambda x: fast_food(x))"
   ]
  },
  {
   "cell_type": "code",
   "execution_count": 47,
   "metadata": {},
   "outputs": [
    {
     "data": {
      "text/html": [
       "<div>\n",
       "<style scoped>\n",
       "    .dataframe tbody tr th:only-of-type {\n",
       "        vertical-align: middle;\n",
       "    }\n",
       "\n",
       "    .dataframe tbody tr th {\n",
       "        vertical-align: top;\n",
       "    }\n",
       "\n",
       "    .dataframe thead th {\n",
       "        text-align: right;\n",
       "    }\n",
       "</style>\n",
       "<table border=\"1\" class=\"dataframe\">\n",
       "  <thead>\n",
       "    <tr style=\"text-align: right;\">\n",
       "      <th></th>\n",
       "      <th>Restaurant_id</th>\n",
       "      <th>City</th>\n",
       "      <th>Cuisine Style</th>\n",
       "      <th>Ranking</th>\n",
       "      <th>Price Range</th>\n",
       "      <th>Number of Reviews</th>\n",
       "      <th>Reviews</th>\n",
       "      <th>URL_TA</th>\n",
       "      <th>ID_TA</th>\n",
       "      <th>sample</th>\n",
       "      <th>...</th>\n",
       "      <th>Cuisine - Vegan Options</th>\n",
       "      <th>Cuisine - Gluten Free Options</th>\n",
       "      <th>Cuisine - Bar</th>\n",
       "      <th>Cuisine - French</th>\n",
       "      <th>Cuisine - Asian</th>\n",
       "      <th>Cuisine - Pizza</th>\n",
       "      <th>Cuisine - Spanish</th>\n",
       "      <th>Cuisine - Pub</th>\n",
       "      <th>Cuisine - Cafe</th>\n",
       "      <th>Cuisine - Fast Food</th>\n",
       "    </tr>\n",
       "  </thead>\n",
       "  <tbody>\n",
       "    <tr>\n",
       "      <th>10075</th>\n",
       "      <td>id_1247</td>\n",
       "      <td>Dublin</td>\n",
       "      <td>Other</td>\n",
       "      <td>1250.0</td>\n",
       "      <td>2.0</td>\n",
       "      <td>3.0</td>\n",
       "      <td>(Great service, Perfect breakfast, 04/25/2015,...</td>\n",
       "      <td>/Restaurant_Review-g186605-d7805333-Reviews-Bi...</td>\n",
       "      <td>d7805333</td>\n",
       "      <td>1</td>\n",
       "      <td>...</td>\n",
       "      <td>0</td>\n",
       "      <td>0</td>\n",
       "      <td>0</td>\n",
       "      <td>0</td>\n",
       "      <td>0</td>\n",
       "      <td>0</td>\n",
       "      <td>0</td>\n",
       "      <td>0</td>\n",
       "      <td>0</td>\n",
       "      <td>0</td>\n",
       "    </tr>\n",
       "    <tr>\n",
       "      <th>18574</th>\n",
       "      <td>id_12801</td>\n",
       "      <td>Paris</td>\n",
       "      <td>[French, European]</td>\n",
       "      <td>12803.0</td>\n",
       "      <td>2.0</td>\n",
       "      <td>216.0</td>\n",
       "      <td>(Bad coffee, Good in parts, 07/29/2017, 03/10/...</td>\n",
       "      <td>/Restaurant_Review-g187147-d2507218-Reviews-Br...</td>\n",
       "      <td>d2507218</td>\n",
       "      <td>1</td>\n",
       "      <td>...</td>\n",
       "      <td>0</td>\n",
       "      <td>0</td>\n",
       "      <td>0</td>\n",
       "      <td>1</td>\n",
       "      <td>0</td>\n",
       "      <td>0</td>\n",
       "      <td>0</td>\n",
       "      <td>0</td>\n",
       "      <td>0</td>\n",
       "      <td>0</td>\n",
       "    </tr>\n",
       "    <tr>\n",
       "      <th>15255</th>\n",
       "      <td>id_11303</td>\n",
       "      <td>Paris</td>\n",
       "      <td>[Italian]</td>\n",
       "      <td>11305.0</td>\n",
       "      <td>2.0</td>\n",
       "      <td>8.0</td>\n",
       "      <td>(Very nice!, Italian restaurant, above average...</td>\n",
       "      <td>/Restaurant_Review-g187147-d2225781-Reviews-La...</td>\n",
       "      <td>d2225781</td>\n",
       "      <td>1</td>\n",
       "      <td>...</td>\n",
       "      <td>0</td>\n",
       "      <td>0</td>\n",
       "      <td>0</td>\n",
       "      <td>0</td>\n",
       "      <td>0</td>\n",
       "      <td>0</td>\n",
       "      <td>0</td>\n",
       "      <td>0</td>\n",
       "      <td>0</td>\n",
       "      <td>0</td>\n",
       "    </tr>\n",
       "    <tr>\n",
       "      <th>23659</th>\n",
       "      <td>id_5838</td>\n",
       "      <td>Barcelona</td>\n",
       "      <td>Other</td>\n",
       "      <td>5839.0</td>\n",
       "      <td>2.0</td>\n",
       "      <td>2.0</td>\n",
       "      <td>Not Available</td>\n",
       "      <td>/Restaurant_Review-g187497-d10042463-Reviews-L...</td>\n",
       "      <td>d10042463</td>\n",
       "      <td>1</td>\n",
       "      <td>...</td>\n",
       "      <td>0</td>\n",
       "      <td>0</td>\n",
       "      <td>0</td>\n",
       "      <td>0</td>\n",
       "      <td>0</td>\n",
       "      <td>0</td>\n",
       "      <td>0</td>\n",
       "      <td>0</td>\n",
       "      <td>0</td>\n",
       "      <td>0</td>\n",
       "    </tr>\n",
       "    <tr>\n",
       "      <th>11353</th>\n",
       "      <td>id_1007</td>\n",
       "      <td>Budapest</td>\n",
       "      <td>[International, European, Central European]</td>\n",
       "      <td>1008.0</td>\n",
       "      <td>2.0</td>\n",
       "      <td>32.0</td>\n",
       "      <td>(Breakfast, Near miss, 06/29/2017, 09/14/2017)</td>\n",
       "      <td>/Restaurant_Review-g274887-d3567594-Reviews-G4...</td>\n",
       "      <td>d3567594</td>\n",
       "      <td>1</td>\n",
       "      <td>...</td>\n",
       "      <td>0</td>\n",
       "      <td>0</td>\n",
       "      <td>0</td>\n",
       "      <td>0</td>\n",
       "      <td>0</td>\n",
       "      <td>0</td>\n",
       "      <td>0</td>\n",
       "      <td>0</td>\n",
       "      <td>0</td>\n",
       "      <td>0</td>\n",
       "    </tr>\n",
       "  </tbody>\n",
       "</table>\n",
       "<p>5 rows × 52 columns</p>\n",
       "</div>"
      ],
      "text/plain": [
       "      Restaurant_id       City                                Cuisine Style  \\\n",
       "10075       id_1247     Dublin                                        Other   \n",
       "18574      id_12801      Paris                           [French, European]   \n",
       "15255      id_11303      Paris                                    [Italian]   \n",
       "23659       id_5838  Barcelona                                        Other   \n",
       "11353       id_1007   Budapest  [International, European, Central European]   \n",
       "\n",
       "       Ranking  Price Range  Number of Reviews  \\\n",
       "10075   1250.0          2.0                3.0   \n",
       "18574  12803.0          2.0              216.0   \n",
       "15255  11305.0          2.0                8.0   \n",
       "23659   5839.0          2.0                2.0   \n",
       "11353   1008.0          2.0               32.0   \n",
       "\n",
       "                                                 Reviews  \\\n",
       "10075  (Great service, Perfect breakfast, 04/25/2015,...   \n",
       "18574  (Bad coffee, Good in parts, 07/29/2017, 03/10/...   \n",
       "15255  (Very nice!, Italian restaurant, above average...   \n",
       "23659                                      Not Available   \n",
       "11353     (Breakfast, Near miss, 06/29/2017, 09/14/2017)   \n",
       "\n",
       "                                                  URL_TA      ID_TA  sample  \\\n",
       "10075  /Restaurant_Review-g186605-d7805333-Reviews-Bi...   d7805333       1   \n",
       "18574  /Restaurant_Review-g187147-d2507218-Reviews-Br...   d2507218       1   \n",
       "15255  /Restaurant_Review-g187147-d2225781-Reviews-La...   d2225781       1   \n",
       "23659  /Restaurant_Review-g187497-d10042463-Reviews-L...  d10042463       1   \n",
       "11353  /Restaurant_Review-g274887-d3567594-Reviews-G4...   d3567594       1   \n",
       "\n",
       "       ...  Cuisine - Vegan Options  Cuisine - Gluten Free Options  \\\n",
       "10075  ...                        0                              0   \n",
       "18574  ...                        0                              0   \n",
       "15255  ...                        0                              0   \n",
       "23659  ...                        0                              0   \n",
       "11353  ...                        0                              0   \n",
       "\n",
       "       Cuisine - Bar  Cuisine - French  Cuisine - Asian  Cuisine - Pizza  \\\n",
       "10075              0                 0                0                0   \n",
       "18574              0                 1                0                0   \n",
       "15255              0                 0                0                0   \n",
       "23659              0                 0                0                0   \n",
       "11353              0                 0                0                0   \n",
       "\n",
       "       Cuisine - Spanish  Cuisine - Pub  Cuisine - Cafe  Cuisine - Fast Food  \n",
       "10075                  0              0               0                    0  \n",
       "18574                  0              0               0                    0  \n",
       "15255                  0              0               0                    0  \n",
       "23659                  0              0               0                    0  \n",
       "11353                  0              0               0                    0  \n",
       "\n",
       "[5 rows x 52 columns]"
      ]
     },
     "execution_count": 47,
     "metadata": {},
     "output_type": "execute_result"
    }
   ],
   "source": [
    "data.sample(5)"
   ]
  },
  {
   "cell_type": "markdown",
   "metadata": {},
   "source": [
    "# EDA \n"
   ]
  },
  {
   "cell_type": "code",
   "execution_count": 48,
   "metadata": {},
   "outputs": [
    {
     "name": "stdout",
     "output_type": "stream",
     "text": [
      "<class 'pandas.core.frame.DataFrame'>\n",
      "RangeIndex: 50000 entries, 0 to 49999\n",
      "Data columns (total 52 columns):\n",
      " #   Column                         Non-Null Count  Dtype  \n",
      "---  ------                         --------------  -----  \n",
      " 0   Restaurant_id                  50000 non-null  object \n",
      " 1   City                           50000 non-null  object \n",
      " 2   Cuisine Style                  50000 non-null  object \n",
      " 3   Ranking                        50000 non-null  float64\n",
      " 4   Price Range                    50000 non-null  float64\n",
      " 5   Number of Reviews              50000 non-null  float64\n",
      " 6   Reviews                        50000 non-null  object \n",
      " 7   URL_TA                         50000 non-null  object \n",
      " 8   ID_TA                          50000 non-null  object \n",
      " 9   sample                         50000 non-null  int64  \n",
      " 10  Rating                         50000 non-null  float64\n",
      " 11  No Reviews                     50000 non-null  bool   \n",
      " 12  Chain                          50000 non-null  int64  \n",
      " 13  City Top_Amsterdam             50000 non-null  uint8  \n",
      " 14  City Top_Barcelona             50000 non-null  uint8  \n",
      " 15  City Top_Berlin                50000 non-null  uint8  \n",
      " 16  City Top_Brussels              50000 non-null  uint8  \n",
      " 17  City Top_Hamburg               50000 non-null  uint8  \n",
      " 18  City Top_Lisbon                50000 non-null  uint8  \n",
      " 19  City Top_London                50000 non-null  uint8  \n",
      " 20  City Top_Lyon                  50000 non-null  uint8  \n",
      " 21  City Top_Madrid                50000 non-null  uint8  \n",
      " 22  City Top_Milan                 50000 non-null  uint8  \n",
      " 23  City Top_Munich                50000 non-null  uint8  \n",
      " 24  City Top_Other                 50000 non-null  uint8  \n",
      " 25  City Top_Paris                 50000 non-null  uint8  \n",
      " 26  City Top_Prague                50000 non-null  uint8  \n",
      " 27  City Top_Rome                  50000 non-null  uint8  \n",
      " 28  City Top_Vienna                50000 non-null  uint8  \n",
      " 29  Review Texts                   50000 non-null  object \n",
      " 30  Date of 1st Review             36206 non-null  object \n",
      " 31  Date of 2nd Review             41886 non-null  object \n",
      " 32  Date difference                50000 non-null  float64\n",
      " 33  Price Ranges_1.0               50000 non-null  uint8  \n",
      " 34  Price Ranges_2.0               50000 non-null  uint8  \n",
      " 35  Price Ranges_3.0               50000 non-null  uint8  \n",
      " 36  Top Cuisine                    50000 non-null  object \n",
      " 37  Cuisine - Vegetarian Friendly  50000 non-null  int64  \n",
      " 38  Cuisine - European             50000 non-null  int64  \n",
      " 39  Cuisine - Other                50000 non-null  int64  \n",
      " 40  Cuisine - Mediterranean        50000 non-null  int64  \n",
      " 41  Cuisine - Italian              50000 non-null  int64  \n",
      " 42  Cuisine - Vegan Options        50000 non-null  int64  \n",
      " 43  Cuisine - Gluten Free Options  50000 non-null  int64  \n",
      " 44  Cuisine - Bar                  50000 non-null  int64  \n",
      " 45  Cuisine - French               50000 non-null  int64  \n",
      " 46  Cuisine - Asian                50000 non-null  int64  \n",
      " 47  Cuisine - Pizza                50000 non-null  int64  \n",
      " 48  Cuisine - Spanish              50000 non-null  int64  \n",
      " 49  Cuisine - Pub                  50000 non-null  int64  \n",
      " 50  Cuisine - Cafe                 50000 non-null  int64  \n",
      " 51  Cuisine - Fast Food            50000 non-null  int64  \n",
      "dtypes: bool(1), float64(5), int64(17), object(10), uint8(19)\n",
      "memory usage: 13.2+ MB\n"
     ]
    }
   ],
   "source": [
    "data.info()"
   ]
  },
  {
   "cell_type": "markdown",
   "metadata": {},
   "source": [
    "### Ranking"
   ]
  },
  {
   "cell_type": "code",
   "execution_count": 49,
   "metadata": {},
   "outputs": [
    {
     "data": {
      "text/plain": [
       "<AxesSubplot:>"
      ]
     },
     "execution_count": 49,
     "metadata": {},
     "output_type": "execute_result"
    },
    {
     "data": {
      "image/png": "[encoded data removed]",
      "text/plain": [
       "<Figure size 720x504 with 1 Axes>"
      ]
     },
     "metadata": {
      "needs_background": "light"
     },
     "output_type": "display_data"
    }
   ],
   "source": [
    "plt.rcParams['figure.figsize'] = (10,7)\n",
    "df_train['Ranking'].hist(bins=10)"
   ]
  },
  {
   "cell_type": "markdown",
   "metadata": {},
   "source": [
    "Ranking seems biased"
   ]
  },
  {
   "cell_type": "code",
   "execution_count": 50,
   "metadata": {},
   "outputs": [
    {
     "data": {
      "text/plain": [
       "<AxesSubplot:>"
      ]
     },
     "execution_count": 50,
     "metadata": {},
     "output_type": "execute_result"
    },
    {
     "data": {
      "image/png": "[encoded data removed]",
      "text/plain": [
       "<Figure size 720x504 with 1 Axes>"
      ]
     },
     "metadata": {
      "needs_background": "light"
     },
     "output_type": "display_data"
    }
   ],
   "source": [
    "df_train['City'].value_counts(ascending=True).plot(kind='barh')"
   ]
  },
  {
   "cell_type": "markdown",
   "metadata": {},
   "source": [
    "Let us check the  city with the biggest number of restaurants"
   ]
  },
  {
   "cell_type": "code",
   "execution_count": 51,
   "metadata": {},
   "outputs": [
    {
     "data": {
      "text/plain": [
       "<AxesSubplot:>"
      ]
     },
     "execution_count": 51,
     "metadata": {},
     "output_type": "execute_result"
    },
    {
     "data": {
      "image/png": "[encoded data removed]",
      "text/plain": [
       "<Figure size 720x504 with 1 Axes>"
      ]
     },
     "metadata": {
      "needs_background": "light"
     },
     "output_type": "display_data"
    }
   ],
   "source": [
    "df_train['Ranking'][df_train['City'] =='London'].hist(bins=50)"
   ]
  },
  {
   "cell_type": "code",
   "execution_count": 52,
   "metadata": {},
   "outputs": [
    {
     "data": {
      "image/png": "[encoded data removed]",
      "text/plain": [
       "<Figure size 720x504 with 1 Axes>"
      ]
     },
     "metadata": {
      "needs_background": "light"
     },
     "output_type": "display_data"
    }
   ],
   "source": [
    "# for top cities\n",
    "for x in (df_train['City'].value_counts())[0:10].index:\n",
    "    df_train['Ranking'][df_train['City'] == x].hist(bins=50)\n",
    "plt.show()"
   ]
  },
  {
   "cell_type": "markdown",
   "metadata": {},
   "source": [
    "Thus, we can see that the data is biased due to the fact that big cities have more restaurants. We need to normalize the feature."
   ]
  },
  {
   "cell_type": "code",
   "execution_count": 53,
   "metadata": {},
   "outputs": [],
   "source": [
    "# creating temp dataframe with number of restaurants per city (based on given data)\n",
    "restaurants_per_city = (pd.DataFrame(df_train['City'].value_counts()))\n",
    "restaurants_per_city.columns = ['Number of restaurants']\n",
    "restaurants_per_city['City'] = restaurants_per_city.index"
   ]
  },
  {
   "cell_type": "code",
   "execution_count": 54,
   "metadata": {},
   "outputs": [
    {
     "data": {
      "text/html": [
       "<div>\n",
       "<style scoped>\n",
       "    .dataframe tbody tr th:only-of-type {\n",
       "        vertical-align: middle;\n",
       "    }\n",
       "\n",
       "    .dataframe tbody tr th {\n",
       "        vertical-align: top;\n",
       "    }\n",
       "\n",
       "    .dataframe thead th {\n",
       "        text-align: right;\n",
       "    }\n",
       "</style>\n",
       "<table border=\"1\" class=\"dataframe\">\n",
       "  <thead>\n",
       "    <tr style=\"text-align: right;\">\n",
       "      <th></th>\n",
       "      <th>Restaurant_id</th>\n",
       "      <th>City</th>\n",
       "      <th>Cuisine Style</th>\n",
       "      <th>Ranking</th>\n",
       "      <th>Rating</th>\n",
       "      <th>Price Range</th>\n",
       "      <th>Number of Reviews</th>\n",
       "      <th>Reviews</th>\n",
       "      <th>URL_TA</th>\n",
       "      <th>ID_TA</th>\n",
       "      <th>sample</th>\n",
       "      <th>Number of restaurants</th>\n",
       "    </tr>\n",
       "  </thead>\n",
       "  <tbody>\n",
       "    <tr>\n",
       "      <th>10212</th>\n",
       "      <td>id_5968</td>\n",
       "      <td>London</td>\n",
       "      <td>['Italian', 'Pizza', 'Vegetarian Friendly', 'G...</td>\n",
       "      <td>5977.0</td>\n",
       "      <td>3.5</td>\n",
       "      <td>$$ - $$$</td>\n",
       "      <td>103.0</td>\n",
       "      <td>[['Not bad, better than Zizzi &amp; Carluccio!', '...</td>\n",
       "      <td>/Restaurant_Review-g186338-d734345-Reviews-ASK...</td>\n",
       "      <td>d734345</td>\n",
       "      <td>1</td>\n",
       "      <td>5757</td>\n",
       "    </tr>\n",
       "    <tr>\n",
       "      <th>18978</th>\n",
       "      <td>id_276</td>\n",
       "      <td>Rome</td>\n",
       "      <td>['Italian', 'Mediterranean', 'Vegetarian Frien...</td>\n",
       "      <td>277.0</td>\n",
       "      <td>4.0</td>\n",
       "      <td>$$ - $$$</td>\n",
       "      <td>444.0</td>\n",
       "      <td>[['Lunch near the Vatican', 'Close to the Vati...</td>\n",
       "      <td>/Restaurant_Review-g187791-d1910903-Reviews-Os...</td>\n",
       "      <td>d1910903</td>\n",
       "      <td>1</td>\n",
       "      <td>2078</td>\n",
       "    </tr>\n",
       "    <tr>\n",
       "      <th>8373</th>\n",
       "      <td>id_5813</td>\n",
       "      <td>London</td>\n",
       "      <td>['British', 'Gluten Free Options', 'Vegetarian...</td>\n",
       "      <td>5822.0</td>\n",
       "      <td>4.5</td>\n",
       "      <td>$$ - $$$</td>\n",
       "      <td>73.0</td>\n",
       "      <td>[['Nice food and service', 'Breakfast'], ['10/...</td>\n",
       "      <td>/Restaurant_Review-g186338-d3628752-Reviews-Bo...</td>\n",
       "      <td>d3628752</td>\n",
       "      <td>1</td>\n",
       "      <td>5757</td>\n",
       "    </tr>\n",
       "  </tbody>\n",
       "</table>\n",
       "</div>"
      ],
      "text/plain": [
       "      Restaurant_id    City  \\\n",
       "10212       id_5968  London   \n",
       "18978        id_276    Rome   \n",
       "8373        id_5813  London   \n",
       "\n",
       "                                           Cuisine Style  Ranking  Rating  \\\n",
       "10212  ['Italian', 'Pizza', 'Vegetarian Friendly', 'G...   5977.0     3.5   \n",
       "18978  ['Italian', 'Mediterranean', 'Vegetarian Frien...    277.0     4.0   \n",
       "8373   ['British', 'Gluten Free Options', 'Vegetarian...   5822.0     4.5   \n",
       "\n",
       "      Price Range  Number of Reviews  \\\n",
       "10212    $$ - $$$              103.0   \n",
       "18978    $$ - $$$              444.0   \n",
       "8373     $$ - $$$               73.0   \n",
       "\n",
       "                                                 Reviews  \\\n",
       "10212  [['Not bad, better than Zizzi & Carluccio!', '...   \n",
       "18978  [['Lunch near the Vatican', 'Close to the Vati...   \n",
       "8373   [['Nice food and service', 'Breakfast'], ['10/...   \n",
       "\n",
       "                                                  URL_TA     ID_TA  sample  \\\n",
       "10212  /Restaurant_Review-g186338-d734345-Reviews-ASK...   d734345       1   \n",
       "18978  /Restaurant_Review-g187791-d1910903-Reviews-Os...  d1910903       1   \n",
       "8373   /Restaurant_Review-g186338-d3628752-Reviews-Bo...  d3628752       1   \n",
       "\n",
       "       Number of restaurants  \n",
       "10212                   5757  \n",
       "18978                   2078  \n",
       "8373                    5757  "
      ]
     },
     "execution_count": 54,
     "metadata": {},
     "output_type": "execute_result"
    }
   ],
   "source": [
    "# merging dataframes on City: now we have 'Number of restaurants' column\n",
    "df_train = pd.DataFrame.merge(df_train,restaurants_per_city,on='City')\n",
    "df_train.sample(3)"
   ]
  },
  {
   "cell_type": "markdown",
   "metadata": {},
   "source": [
    "Normalized Ranking (divided by number of restaurants) shows the same distribution as we have per each city."
   ]
  },
  {
   "cell_type": "code",
   "execution_count": 55,
   "metadata": {},
   "outputs": [
    {
     "data": {
      "text/plain": [
       "<AxesSubplot:>"
      ]
     },
     "execution_count": 55,
     "metadata": {},
     "output_type": "execute_result"
    },
    {
     "data": {
      "image/png": "[encoded data removed]",
      "text/plain": [
       "<Figure size 720x504 with 1 Axes>"
      ]
     },
     "metadata": {
      "needs_background": "light"
     },
     "output_type": "display_data"
    }
   ],
   "source": [
    "df_train['Ranking Normalized'] = df_train['Ranking'] / df_train['Number of restaurants']\n",
    "plt.rcParams['figure.figsize'] = (10,7)\n",
    "df_train['Ranking Normalized'].hist(bins=100)"
   ]
  },
  {
   "cell_type": "markdown",
   "metadata": {},
   "source": [
    "### Time between reviews\n"
   ]
  },
  {
   "cell_type": "code",
   "execution_count": 56,
   "metadata": {},
   "outputs": [
    {
     "data": {
      "text/plain": [
       "<matplotlib.legend.Legend at 0x2bd5d64d8b0>"
      ]
     },
     "execution_count": 56,
     "metadata": {},
     "output_type": "execute_result"
    },
    {
     "data": {
      "image/png": "[encoded data removed]",
      "text/plain": [
       "<Figure size 576x432 with 1 Axes>"
      ]
     },
     "metadata": {},
     "output_type": "display_data"
    }
   ],
   "source": [
    "pie_list = list(data['Date difference'].value_counts().index) # to keep the order\n",
    "list(map(pie_legend, pie_list))\n",
    "\n",
    "# creating the chart itself\n",
    "plt.figure(figsize=(8,5))\n",
    "data['Date difference'].value_counts().plot(kind='pie', autopct='%1.1f%%', figsize=(8,6))\n",
    "plt.legend(list(map(pie_legend, pie_list)), loc=\"lower right\")"
   ]
  },
  {
   "cell_type": "markdown",
   "metadata": {},
   "source": [
    "### Target Value Distribution\n",
    "Rating has almost normal distribution; it is negatively-skewed, with its single peak at 4, which seems to be usual for a rating. "
   ]
  },
  {
   "cell_type": "code",
   "execution_count": 57,
   "metadata": {},
   "outputs": [
    {
     "data": {
      "text/plain": [
       "<AxesSubplot:>"
      ]
     },
     "execution_count": 57,
     "metadata": {},
     "output_type": "execute_result"
    },
    {
     "data": {
      "image/png": "[encoded data removed]",
      "text/plain": [
       "<Figure size 720x504 with 1 Axes>"
      ]
     },
     "metadata": {
      "needs_background": "light"
     },
     "output_type": "display_data"
    }
   ],
   "source": [
    "df_train['Rating'].hist(bins=9)"
   ]
  },
  {
   "cell_type": "markdown",
   "metadata": {},
   "source": [
    "### Correlation\n",
    "Since there is only one numeric variable, we will check correlation only with it"
   ]
  },
  {
   "cell_type": "code",
   "execution_count": 58,
   "metadata": {},
   "outputs": [
    {
     "name": "stdout",
     "output_type": "stream",
     "text": [
      "<class 'pandas.core.frame.DataFrame'>\n",
      "RangeIndex: 50000 entries, 0 to 49999\n",
      "Data columns (total 52 columns):\n",
      " #   Column                         Non-Null Count  Dtype  \n",
      "---  ------                         --------------  -----  \n",
      " 0   Restaurant_id                  50000 non-null  object \n",
      " 1   City                           50000 non-null  object \n",
      " 2   Cuisine Style                  50000 non-null  object \n",
      " 3   Ranking                        50000 non-null  float64\n",
      " 4   Price Range                    50000 non-null  float64\n",
      " 5   Number of Reviews              50000 non-null  float64\n",
      " 6   Reviews                        50000 non-null  object \n",
      " 7   URL_TA                         50000 non-null  object \n",
      " 8   ID_TA                          50000 non-null  object \n",
      " 9   sample                         50000 non-null  int64  \n",
      " 10  Rating                         50000 non-null  float64\n",
      " 11  No Reviews                     50000 non-null  bool   \n",
      " 12  Chain                          50000 non-null  int64  \n",
      " 13  City Top_Amsterdam             50000 non-null  uint8  \n",
      " 14  City Top_Barcelona             50000 non-null  uint8  \n",
      " 15  City Top_Berlin                50000 non-null  uint8  \n",
      " 16  City Top_Brussels              50000 non-null  uint8  \n",
      " 17  City Top_Hamburg               50000 non-null  uint8  \n",
      " 18  City Top_Lisbon                50000 non-null  uint8  \n",
      " 19  City Top_London                50000 non-null  uint8  \n",
      " 20  City Top_Lyon                  50000 non-null  uint8  \n",
      " 21  City Top_Madrid                50000 non-null  uint8  \n",
      " 22  City Top_Milan                 50000 non-null  uint8  \n",
      " 23  City Top_Munich                50000 non-null  uint8  \n",
      " 24  City Top_Other                 50000 non-null  uint8  \n",
      " 25  City Top_Paris                 50000 non-null  uint8  \n",
      " 26  City Top_Prague                50000 non-null  uint8  \n",
      " 27  City Top_Rome                  50000 non-null  uint8  \n",
      " 28  City Top_Vienna                50000 non-null  uint8  \n",
      " 29  Review Texts                   50000 non-null  object \n",
      " 30  Date of 1st Review             36206 non-null  object \n",
      " 31  Date of 2nd Review             41886 non-null  object \n",
      " 32  Date difference                50000 non-null  float64\n",
      " 33  Price Ranges_1.0               50000 non-null  uint8  \n",
      " 34  Price Ranges_2.0               50000 non-null  uint8  \n",
      " 35  Price Ranges_3.0               50000 non-null  uint8  \n",
      " 36  Top Cuisine                    50000 non-null  object \n",
      " 37  Cuisine - Vegetarian Friendly  50000 non-null  int64  \n",
      " 38  Cuisine - European             50000 non-null  int64  \n",
      " 39  Cuisine - Other                50000 non-null  int64  \n",
      " 40  Cuisine - Mediterranean        50000 non-null  int64  \n",
      " 41  Cuisine - Italian              50000 non-null  int64  \n",
      " 42  Cuisine - Vegan Options        50000 non-null  int64  \n",
      " 43  Cuisine - Gluten Free Options  50000 non-null  int64  \n",
      " 44  Cuisine - Bar                  50000 non-null  int64  \n",
      " 45  Cuisine - French               50000 non-null  int64  \n",
      " 46  Cuisine - Asian                50000 non-null  int64  \n",
      " 47  Cuisine - Pizza                50000 non-null  int64  \n",
      " 48  Cuisine - Spanish              50000 non-null  int64  \n",
      " 49  Cuisine - Pub                  50000 non-null  int64  \n",
      " 50  Cuisine - Cafe                 50000 non-null  int64  \n",
      " 51  Cuisine - Fast Food            50000 non-null  int64  \n",
      "dtypes: bool(1), float64(5), int64(17), object(10), uint8(19)\n",
      "memory usage: 13.2+ MB\n"
     ]
    }
   ],
   "source": [
    "data.info()"
   ]
  },
  {
   "cell_type": "code",
   "execution_count": 59,
   "metadata": {},
   "outputs": [
    {
     "data": {
      "text/plain": [
       "<AxesSubplot:>"
      ]
     },
     "execution_count": 59,
     "metadata": {},
     "output_type": "execute_result"
    },
    {
     "data": {
      "image/png": "[encoded data removed]",
      "text/plain": [
       "<Figure size 360x288 with 2 Axes>"
      ]
     },
     "metadata": {
      "needs_background": "light"
     },
     "output_type": "display_data"
    }
   ],
   "source": [
    "plt.rcParams['figure.figsize'] = (5,4)\n",
    "sns.heatmap(data[['Ranking', 'Rating']].corr(),)"
   ]
  },
  {
   "cell_type": "markdown",
   "metadata": {},
   "source": [
    "### Categorial variables which affect predicted value"
   ]
  },
  {
   "cell_type": "code",
   "execution_count": 60,
   "metadata": {},
   "outputs": [],
   "source": [
    "df_train = data[data['sample'] == 1]"
   ]
  },
  {
   "cell_type": "code",
   "execution_count": 61,
   "metadata": {},
   "outputs": [
    {
     "name": "stdout",
     "output_type": "stream",
     "text": [
      "<class 'pandas.core.frame.DataFrame'>\n",
      "Int64Index: 40000 entries, 10000 to 49999\n",
      "Data columns (total 52 columns):\n",
      " #   Column                         Non-Null Count  Dtype  \n",
      "---  ------                         --------------  -----  \n",
      " 0   Restaurant_id                  40000 non-null  object \n",
      " 1   City                           40000 non-null  object \n",
      " 2   Cuisine Style                  40000 non-null  object \n",
      " 3   Ranking                        40000 non-null  float64\n",
      " 4   Price Range                    40000 non-null  float64\n",
      " 5   Number of Reviews              40000 non-null  float64\n",
      " 6   Reviews                        40000 non-null  object \n",
      " 7   URL_TA                         40000 non-null  object \n",
      " 8   ID_TA                          40000 non-null  object \n",
      " 9   sample                         40000 non-null  int64  \n",
      " 10  Rating                         40000 non-null  float64\n",
      " 11  No Reviews                     40000 non-null  bool   \n",
      " 12  Chain                          40000 non-null  int64  \n",
      " 13  City Top_Amsterdam             40000 non-null  uint8  \n",
      " 14  City Top_Barcelona             40000 non-null  uint8  \n",
      " 15  City Top_Berlin                40000 non-null  uint8  \n",
      " 16  City Top_Brussels              40000 non-null  uint8  \n",
      " 17  City Top_Hamburg               40000 non-null  uint8  \n",
      " 18  City Top_Lisbon                40000 non-null  uint8  \n",
      " 19  City Top_London                40000 non-null  uint8  \n",
      " 20  City Top_Lyon                  40000 non-null  uint8  \n",
      " 21  City Top_Madrid                40000 non-null  uint8  \n",
      " 22  City Top_Milan                 40000 non-null  uint8  \n",
      " 23  City Top_Munich                40000 non-null  uint8  \n",
      " 24  City Top_Other                 40000 non-null  uint8  \n",
      " 25  City Top_Paris                 40000 non-null  uint8  \n",
      " 26  City Top_Prague                40000 non-null  uint8  \n",
      " 27  City Top_Rome                  40000 non-null  uint8  \n",
      " 28  City Top_Vienna                40000 non-null  uint8  \n",
      " 29  Review Texts                   40000 non-null  object \n",
      " 30  Date of 1st Review             28973 non-null  object \n",
      " 31  Date of 2nd Review             33529 non-null  object \n",
      " 32  Date difference                40000 non-null  float64\n",
      " 33  Price Ranges_1.0               40000 non-null  uint8  \n",
      " 34  Price Ranges_2.0               40000 non-null  uint8  \n",
      " 35  Price Ranges_3.0               40000 non-null  uint8  \n",
      " 36  Top Cuisine                    40000 non-null  object \n",
      " 37  Cuisine - Vegetarian Friendly  40000 non-null  int64  \n",
      " 38  Cuisine - European             40000 non-null  int64  \n",
      " 39  Cuisine - Other                40000 non-null  int64  \n",
      " 40  Cuisine - Mediterranean        40000 non-null  int64  \n",
      " 41  Cuisine - Italian              40000 non-null  int64  \n",
      " 42  Cuisine - Vegan Options        40000 non-null  int64  \n",
      " 43  Cuisine - Gluten Free Options  40000 non-null  int64  \n",
      " 44  Cuisine - Bar                  40000 non-null  int64  \n",
      " 45  Cuisine - French               40000 non-null  int64  \n",
      " 46  Cuisine - Asian                40000 non-null  int64  \n",
      " 47  Cuisine - Pizza                40000 non-null  int64  \n",
      " 48  Cuisine - Spanish              40000 non-null  int64  \n",
      " 49  Cuisine - Pub                  40000 non-null  int64  \n",
      " 50  Cuisine - Cafe                 40000 non-null  int64  \n",
      " 51  Cuisine - Fast Food            40000 non-null  int64  \n",
      "dtypes: bool(1), float64(5), int64(17), object(10), uint8(19)\n",
      "memory usage: 10.8+ MB\n"
     ]
    }
   ],
   "source": [
    "df_train.info()"
   ]
  },
  {
   "cell_type": "code",
   "execution_count": 62,
   "metadata": {},
   "outputs": [],
   "source": [
    "def get_boxplot(column):\n",
    "    fig, ax = plt.subplots(figsize=(10, 4))\n",
    "    sns.boxplot(x=column, y='Rating',\n",
    "                data=df_train.loc[df_train.loc[:, column].isin(\n",
    "                    df_train.loc[:, column].value_counts().index)],\n",
    "                ax=ax)\n",
    "    plt.xticks(rotation=45)\n",
    "    ax.set_title('Boxplot for ' + column)\n",
    "    plt.show()"
   ]
  },
  {
   "cell_type": "code",
   "execution_count": 63,
   "metadata": {},
   "outputs": [
    {
     "data": {
      "image/png": "[encoded data removed]",
      "text/plain": [
       "<Figure size 720x288 with 1 Axes>"
      ]
     },
     "metadata": {
      "needs_background": "light"
     },
     "output_type": "display_data"
    },
    {
     "data": {
      "image/png": "[encoded data removed]",
      "text/plain": [
       "<Figure size 720x288 with 1 Axes>"
      ]
     },
     "metadata": {
      "needs_background": "light"
     },
     "output_type": "display_data"
    },
    {
     "data": {
      "image/png": "[encoded data removed]",
      "text/plain": [
       "<Figure size 720x288 with 1 Axes>"
      ]
     },
     "metadata": {
      "needs_background": "light"
     },
     "output_type": "display_data"
    },
    {
     "data": {
      "image/png": "[encoded data removed]",
      "text/plain": [
       "<Figure size 720x288 with 1 Axes>"
      ]
     },
     "metadata": {
      "needs_background": "light"
     },
     "output_type": "display_data"
    },
    {
     "data": {
      "image/png": "[encoded data removed]",
      "text/plain": [
       "<Figure size 720x288 with 1 Axes>"
      ]
     },
     "metadata": {
      "needs_background": "light"
     },
     "output_type": "display_data"
    },
    {
     "data": {
      "image/png": "[encoded data removed]",
      "text/plain": [
       "<Figure size 720x288 with 1 Axes>"
      ]
     },
     "metadata": {
      "needs_background": "light"
     },
     "output_type": "display_data"
    },
    {
     "data": {
      "image/png": "[encoded data removed]",
      "text/plain": [
       "<Figure size 720x288 with 1 Axes>"
      ]
     },
     "metadata": {
      "needs_background": "light"
     },
     "output_type": "display_data"
    },
    {
     "data": {
      "image/png": "[encoded data removed]",
      "text/plain": [
       "<Figure size 720x288 with 1 Axes>"
      ]
     },
     "metadata": {
      "needs_background": "light"
     },
     "output_type": "display_data"
    },
    {
     "data": {
      "image/png": "[encoded data removed]",
      "text/plain": [
       "<Figure size 720x288 with 1 Axes>"
      ]
     },
     "metadata": {
      "needs_background": "light"
     },
     "output_type": "display_data"
    },
    {
     "data": {
      "image/png": "[encoded data removed]",
      "text/plain": [
       "<Figure size 720x288 with 1 Axes>"
      ]
     },
     "metadata": {
      "needs_background": "light"
     },
     "output_type": "display_data"
    },
    {
     "data": {
      "image/png": "[encoded data removed]",
      "text/plain": [
       "<Figure size 720x288 with 1 Axes>"
      ]
     },
     "metadata": {
      "needs_background": "light"
     },
     "output_type": "display_data"
    },
    {
     "data": {
      "image/png": "[encoded data removed]",
      "text/plain": [
       "<Figure size 720x288 with 1 Axes>"
      ]
     },
     "metadata": {
      "needs_background": "light"
     },
     "output_type": "display_data"
    },
    {
     "data": {
      "image/png": "[encoded data removed]",
      "text/plain": [
       "<Figure size 720x288 with 1 Axes>"
      ]
     },
     "metadata": {
      "needs_background": "light"
     },
     "output_type": "display_data"
    },
    {
     "data": {
      "image/png": "[encoded data removed]",
      "text/plain": [
       "<Figure size 720x288 with 1 Axes>"
      ]
     },
     "metadata": {
      "needs_background": "light"
     },
     "output_type": "display_data"
    },
    {
     "data": {
      "image/png": "[encoded data removed]",
      "text/plain": [
       "<Figure size 720x288 with 1 Axes>"
      ]
     },
     "metadata": {
      "needs_background": "light"
     },
     "output_type": "display_data"
    },
    {
     "data": {
      "image/png": "[encoded data removed]",
      "text/plain": [
       "<Figure size 720x288 with 1 Axes>"
      ]
     },
     "metadata": {
      "needs_background": "light"
     },
     "output_type": "display_data"
    },
    {
     "data": {
      "image/png": "[encoded data removed]",
      "text/plain": [
       "<Figure size 720x288 with 1 Axes>"
      ]
     },
     "metadata": {
      "needs_background": "light"
     },
     "output_type": "display_data"
    },
    {
     "data": {
      "image/png": "[encoded data removed]",
      "text/plain": [
       "<Figure size 720x288 with 1 Axes>"
      ]
     },
     "metadata": {
      "needs_background": "light"
     },
     "output_type": "display_data"
    },
    {
     "data": {
      "image/png": "[encoded data removed]",
      "text/plain": [
       "<Figure size 720x288 with 1 Axes>"
      ]
     },
     "metadata": {
      "needs_background": "light"
     },
     "output_type": "display_data"
    },
    {
     "data": {
      "image/png": "[encoded data removed]",
      "text/plain": [
       "<Figure size 720x288 with 1 Axes>"
      ]
     },
     "metadata": {
      "needs_background": "light"
     },
     "output_type": "display_data"
    },
    {
     "data": {
      "image/png": "[encoded data removed]",
      "text/plain": [
       "<Figure size 720x288 with 1 Axes>"
      ]
     },
     "metadata": {
      "needs_background": "light"
     },
     "output_type": "display_data"
    },
    {
     "data": {
      "image/png": "[encoded data removed]",
      "text/plain": [
       "<Figure size 720x288 with 1 Axes>"
      ]
     },
     "metadata": {
      "needs_background": "light"
     },
     "output_type": "display_data"
    },
    {
     "data": {
      "image/png": "[encoded data removed]",
      "text/plain": [
       "<Figure size 720x288 with 1 Axes>"
      ]
     },
     "metadata": {
      "needs_background": "light"
     },
     "output_type": "display_data"
    },
    {
     "data": {
      "image/png": "[encoded data removed]",
      "text/plain": [
       "<Figure size 720x288 with 1 Axes>"
      ]
     },
     "metadata": {
      "needs_background": "light"
     },
     "output_type": "display_data"
    },
    {
     "data": {
      "image/png": "[encoded data removed]",
      "text/plain": [
       "<Figure size 720x288 with 1 Axes>"
      ]
     },
     "metadata": {
      "needs_background": "light"
     },
     "output_type": "display_data"
    },
    {
     "data": {
      "image/png": "[encoded data removed]",
      "text/plain": [
       "<Figure size 720x288 with 1 Axes>"
      ]
     },
     "metadata": {
      "needs_background": "light"
     },
     "output_type": "display_data"
    },
    {
     "data": {
      "image/png": "[encoded data removed]",
      "text/plain": [
       "<Figure size 720x288 with 1 Axes>"
      ]
     },
     "metadata": {
      "needs_background": "light"
     },
     "output_type": "display_data"
    },
    {
     "data": {
      "image/png": "[encoded data removed]",
      "text/plain": [
       "<Figure size 720x288 with 1 Axes>"
      ]
     },
     "metadata": {
      "needs_background": "light"
     },
     "output_type": "display_data"
    },
    {
     "data": {
      "image/png": "[encoded data removed]",
      "text/plain": [
       "<Figure size 720x288 with 1 Axes>"
      ]
     },
     "metadata": {
      "needs_background": "light"
     },
     "output_type": "display_data"
    },
    {
     "data": {
      "image/png": "[encoded data removed]",
      "text/plain": [
       "<Figure size 720x288 with 1 Axes>"
      ]
     },
     "metadata": {
      "needs_background": "light"
     },
     "output_type": "display_data"
    },
    {
     "data": {
      "image/png": "[encoded data removed]",
      "text/plain": [
       "<Figure size 720x288 with 1 Axes>"
      ]
     },
     "metadata": {
      "needs_background": "light"
     },
     "output_type": "display_data"
    },
    {
     "data": {
      "image/png": "[encoded data removed]",
      "text/plain": [
       "<Figure size 720x288 with 1 Axes>"
      ]
     },
     "metadata": {
      "needs_background": "light"
     },
     "output_type": "display_data"
    },
    {
     "data": {
      "image/png": "[encoded data removed]",
      "text/plain": [
       "<Figure size 720x288 with 1 Axes>"
      ]
     },
     "metadata": {
      "needs_background": "light"
     },
     "output_type": "display_data"
    },
    {
     "data": {
      "image/png": "[encoded data removed]",
      "text/plain": [
       "<Figure size 720x288 with 1 Axes>"
      ]
     },
     "metadata": {
      "needs_background": "light"
     },
     "output_type": "display_data"
    },
    {
     "data": {
      "image/png": "[encoded data removed]",
      "text/plain": [
       "<Figure size 720x288 with 1 Axes>"
      ]
     },
     "metadata": {
      "needs_background": "light"
     },
     "output_type": "display_data"
    },
    {
     "data": {
      "image/png": "[encoded data removed]",
      "text/plain": [
       "<Figure size 720x288 with 1 Axes>"
      ]
     },
     "metadata": {
      "needs_background": "light"
     },
     "output_type": "display_data"
    },
    {
     "data": {
      "image/png": "[encoded data removed]",
      "text/plain": [
       "<Figure size 720x288 with 1 Axes>"
      ]
     },
     "metadata": {
      "needs_background": "light"
     },
     "output_type": "display_data"
    },
    {
     "data": {
      "image/png": "[encoded data removed]",
      "text/plain": [
       "<Figure size 720x288 with 1 Axes>"
      ]
     },
     "metadata": {
      "needs_background": "light"
     },
     "output_type": "display_data"
    },
    {
     "data": {
      "image/png": "[encoded data removed]",
      "text/plain": [
       "<Figure size 720x288 with 1 Axes>"
      ]
     },
     "metadata": {
      "needs_background": "light"
     },
     "output_type": "display_data"
    }
   ],
   "source": [
    "for col in ['City', 'No Reviews', 'Chain', 'Date difference','Price Range', 'Price Ranges_1.0',\n",
    "            'Price Ranges_2.0', 'Price Ranges_3.0', 'City Top_Amsterdam', 'City Top_Barcelona', 'City Top_Berlin',\n",
    "           'City Top_Brussels', 'City Top_Hamburg', 'City Top_Lisbon', 'City Top_London', 'City Top_Lyon', \n",
    "           'City Top_Madrid', 'City Top_Milan', 'City Top_Munich', 'City Top_Other', 'City Top_Paris',\n",
    "           'City Top_Prague', 'City Top_Rome', 'City Top_Vienna', 'Cuisine - Vegetarian Friendly','Cuisine - European',\n",
    "            'Cuisine - Other', 'Cuisine - Mediterranean', 'Cuisine - Italian', 'Cuisine - Vegan Options',\n",
    "           'Cuisine - Gluten Free Options', 'Cuisine - Bar', 'Cuisine - French', 'Cuisine - Asian',\n",
    "           'Cuisine - Pizza', 'Cuisine - Spanish', 'Cuisine - Pub', 'Cuisine - Cafe', 'Cuisine - Fast Food']:\n",
    "    get_boxplot(col)"
   ]
  },
  {
   "cell_type": "markdown",
   "metadata": {},
   "source": [
    "Cat variables affecting target:\n",
    "'City', 'No Reviews', 'Chain', 'Date difference','Price Range', 'Price Ranges_1.0', 'Price Ranges_2.0', 'Price Ranges_3.0',  'City Top_Amsterdam', 'City Top_Berlin',  'City Top_Milan',  'City Top_Rome', 'City Top_Vienna', 'Cuisine - Vegetarian Friendly','Cuisine - European','Cuisine - Mediterranean', 'Cuisine - Vegan Options','Cuisine - Gluten Free Options', \n",
    " \n",
    " \n",
    "Cat variables not affecting target much:\n",
    "'City Top_Brussels','City Top_Barcelona', ,'City Top_Hamburg', 'City Top_Lisbon', 'City Top_London', 'City Top_Lyon', 'City Top_Madrid','City Top_Munich', 'City Top_Other', 'City Top_Paris', 'City Top_Prague', 'Cuisine - Other', 'Cuisine - Italian', 'Cuisine - Bar','Cuisine - French', 'Cuisine - Asian', 'Cuisine - Pizza', 'Cuisine - Spanish', 'Cuisine - Pub', 'Cuisine - Cafe', 'Cuisine - Fast Food'"
   ]
  },
  {
   "cell_type": "code",
   "execution_count": 64,
   "metadata": {},
   "outputs": [],
   "source": [
    "def get_stat_dif(column):\n",
    "    cols = df_train.loc[:, column].value_counts().index[:10]\n",
    "    combinations_all = list(combinations(cols, 2))\n",
    "    for comb in combinations_all:\n",
    "        if ttest_ind(df_train.loc[df_train.loc[:, column] == comb[0], 'Rating'],\n",
    "                     df_train.loc[df_train.loc[:, column] == comb[1], 'Rating']).pvalue \\\n",
    "                <= 0.05/len(combinations_all):\n",
    "            print('Statistically significant difference is found for the column', column)\n",
    "            break"
   ]
  },
  {
   "cell_type": "code",
   "execution_count": 65,
   "metadata": {},
   "outputs": [
    {
     "name": "stdout",
     "output_type": "stream",
     "text": [
      "Statistically significant difference is found for the column City\n",
      "Statistically significant difference is found for the column Chain\n",
      "Statistically significant difference is found for the column Date difference\n",
      "Statistically significant difference is found for the column Price Range\n",
      "Statistically significant difference is found for the column Price Ranges_1.0\n",
      "Statistically significant difference is found for the column Price Ranges_2.0\n",
      "Statistically significant difference is found for the column Price Ranges_3.0\n",
      "Statistically significant difference is found for the column City Top_Amsterdam\n",
      "Statistically significant difference is found for the column City Top_Barcelona\n",
      "Statistically significant difference is found for the column City Top_Berlin\n",
      "Statistically significant difference is found for the column City Top_Brussels\n",
      "Statistically significant difference is found for the column City Top_Lisbon\n",
      "Statistically significant difference is found for the column City Top_London\n",
      "Statistically significant difference is found for the column City Top_Lyon\n",
      "Statistically significant difference is found for the column City Top_Madrid\n",
      "Statistically significant difference is found for the column City Top_Milan\n",
      "Statistically significant difference is found for the column City Top_Munich\n",
      "Statistically significant difference is found for the column City Top_Other\n",
      "Statistically significant difference is found for the column City Top_Paris\n",
      "Statistically significant difference is found for the column City Top_Prague\n",
      "Statistically significant difference is found for the column City Top_Rome\n",
      "Statistically significant difference is found for the column City Top_Vienna\n",
      "Statistically significant difference is found for the column Cuisine - Vegetarian Friendly\n",
      "Statistically significant difference is found for the column Cuisine - European\n",
      "Statistically significant difference is found for the column Cuisine - Other\n",
      "Statistically significant difference is found for the column Cuisine - Mediterranean\n",
      "Statistically significant difference is found for the column Cuisine - Italian\n",
      "Statistically significant difference is found for the column Cuisine - Vegan Options\n",
      "Statistically significant difference is found for the column Cuisine - Gluten Free Options\n",
      "Statistically significant difference is found for the column Cuisine - Bar\n",
      "Statistically significant difference is found for the column Cuisine - French\n",
      "Statistically significant difference is found for the column Cuisine - Pizza\n",
      "Statistically significant difference is found for the column Cuisine - Spanish\n",
      "Statistically significant difference is found for the column Cuisine - Cafe\n",
      "Statistically significant difference is found for the column Cuisine - Fast Food\n"
     ]
    }
   ],
   "source": [
    "for col in ['City','No Reviews', 'Chain', 'Date difference','Price Range', 'Price Ranges_1.0',\n",
    "            'Price Ranges_2.0', 'Price Ranges_3.0', 'City Top_Amsterdam', 'City Top_Barcelona', 'City Top_Berlin',\n",
    "           'City Top_Brussels', 'City Top_Hamburg', 'City Top_Lisbon', 'City Top_London', 'City Top_Lyon', \n",
    "           'City Top_Madrid', 'City Top_Milan', 'City Top_Munich', 'City Top_Other', 'City Top_Paris',\n",
    "           'City Top_Prague', 'City Top_Rome', 'City Top_Vienna', 'Cuisine - Vegetarian Friendly','Cuisine - European',\n",
    "            'Cuisine - Other', 'Cuisine - Mediterranean', 'Cuisine - Italian', 'Cuisine - Vegan Options',\n",
    "           'Cuisine - Gluten Free Options', 'Cuisine - Bar', 'Cuisine - French', 'Cuisine - Asian',\n",
    "           'Cuisine - Pizza', 'Cuisine - Spanish', 'Cuisine - Pub', 'Cuisine - Cafe', 'Cuisine - Fast Food']:\n",
    "    get_stat_dif(col)"
   ]
  },
  {
   "cell_type": "markdown",
   "metadata": {},
   "source": [
    "affect:\n",
    "\n",
    "'City', 'Chain', 'Date difference','Price Range', 'Price Ranges_1.0','Price Ranges_2.0', 'Price Ranges_3.0','City Top_Amsterdam', 'City Top_Barcelona', 'City Top_Berlin','City Top_Brussels','City Top_Lisbon', 'City Top_London',   'City Top_Madrid', 'City Top_Milan', 'City Top_Munich', 'City Top_Other', 'City Top_Paris','City Top_Prague','City Top_Rome', 'City Top_Vienna', 'Cuisine - Vegetarian Friendly','Cuisine - European','Cuisine - Other', 'Cuisine - Mediterranean', 'Cuisine - Italian', 'Cuisine - Vegan Options','Cuisine - Gluten Free Options',  'Cuisine - Bar', 'Cuisine - French','Cuisine - Pizza', 'Cuisine - Spanish','Cuisine - Cafe, 'Cuisine - Fast Food'\n",
    "           \n",
    "do not affect:\n",
    "\n",
    "'No Reviews',  'City Top_Hamburg',  'City Top_Lyon',    , 'Cuisine - Bar', 'Cuisine - French', 'Cuisine - Asian', 'Cuisine - Pub',  \n",
    "\n",
    "\n",
    "\n"
   ]
  },
  {
   "cell_type": "markdown",
   "metadata": {},
   "source": [
    "### Conclusion\n",
    "\n",
    "* Most columns have no missing values, however there are still 4 columns where values are missing, for some of them it is 1/3 of the dataset (Cuisine Style - 23%,Price Range - 35%, Number of Reviews    6%, Reviews - 16%). Since 2/3 or more of cells in these columns have data, all columns were kept.\n",
    "* There is a strong positive correlation between Ranking and Rating, which is obvious and expected.\n",
    "* Per graphic representation, most important information is that pertaining to city, price range, specific menu. Interesting observation is that, on one hand, healthy options are valued (such as vegan/vegeterian/gluten free), on the other hand, pizza and fast food on the menu are also impotant to customers. \n",
    "* Variables proposed to be used in futher analysis: 'Ranking', 'City', 'Chain', 'Date difference','Price Range', 'Price Ranges_1.0','Price Ranges_2.0', 'Price Ranges_3.0','City Top_Amsterdam', 'City Top_Barcelona', 'City Top_Berlin','City Top_Brussels','City Top_Lisbon', 'City Top_London', 'City Top_Madrid', 'City Top_Milan', 'City Top_Munich', 'City Top_Other', 'City Top_Paris','City Top_Prague','City Top_Rome', 'City Top_Vienna', 'Cuisine - Vegetarian Friendly','Cuisine - European','Cuisine - Other', 'Cuisine - Mediterranean', 'Cuisine - Italian', 'Cuisine - Vegan Options','Cuisine - Gluten Free Options', 'Cuisine - Bar', 'Cuisine - French','Cuisine - Pizza', 'Cuisine - Spanish','Cuisine - Cafe, 'Cuisine - Fast Food'"
   ]
  },
  {
   "cell_type": "markdown",
   "metadata": {},
   "source": [
    "# Data Preprocessing\n",
    "Let us make it one big function"
   ]
  },
  {
   "cell_type": "code",
   "execution_count": 67,
   "metadata": {},
   "outputs": [
    {
     "name": "stdout",
     "output_type": "stream",
     "text": [
      "<class 'pandas.core.frame.DataFrame'>\n",
      "RangeIndex: 50000 entries, 0 to 49999\n",
      "Data columns (total 11 columns):\n",
      " #   Column             Non-Null Count  Dtype  \n",
      "---  ------             --------------  -----  \n",
      " 0   Restaurant_id      50000 non-null  object \n",
      " 1   City               50000 non-null  object \n",
      " 2   Cuisine Style      38410 non-null  object \n",
      " 3   Ranking            50000 non-null  float64\n",
      " 4   Price Range        32639 non-null  object \n",
      " 5   Number of Reviews  46800 non-null  float64\n",
      " 6   Reviews            49998 non-null  object \n",
      " 7   URL_TA             50000 non-null  object \n",
      " 8   ID_TA              50000 non-null  object \n",
      " 9   sample             50000 non-null  int64  \n",
      " 10  Rating             50000 non-null  float64\n",
      "dtypes: float64(3), int64(1), object(7)\n",
      "memory usage: 4.2+ MB\n"
     ]
    }
   ],
   "source": [
    "# uploading data again\n",
    "df_train = pd.read_csv('main_task.csv')\n",
    "df_test = pd.read_csv('kaggle_task.csv')\n",
    "df_train['sample'] = 1 \n",
    "df_test['sample'] = 0 \n",
    "df_test['Rating'] = 0 \n",
    "\n",
    "data = df_test.append(df_train, sort=False).reset_index(drop=True) \n",
    "data.info()"
   ]
  },
  {
   "cell_type": "code",
   "execution_count": 68,
   "metadata": {},
   "outputs": [],
   "source": [
    "def preproc_data(df_input):\n",
    "    '''includes several functions to pre-process the predictor data.'''\n",
    "    \n",
    "    df_output = df_input.copy()\n",
    "    \n",
    "    ########## PREPROCESSING ##########\n",
    "    \n",
    "    ### FUNCTIONS ###\n",
    "    \n",
    "    # cuisine column update \n",
    "    def cuisine_to_list(cell):\n",
    "        if type(cell) == str:\n",
    "            cell = cell[1:-1].replace(\"'\", \"\").split(', ')\n",
    "            return cell\n",
    "\n",
    "    # labelling price ranges\n",
    "    def price_to_label(cell):\n",
    "        if type(cell) == str:\n",
    "            if cell == '$':\n",
    "                return 1\n",
    "            if cell == '$$ - $$$':\n",
    "                return 2\n",
    "            if cell == '$$$$':\n",
    "\n",
    "                return 3\n",
    "\n",
    "    # updating reviews column to tuples\n",
    "    def format_reviews(cell):\n",
    "        if type(cell) == str:\n",
    "            if cell == '[[], []]':\n",
    "                cell = nan  # we will look at NaN values further\n",
    "            else:\n",
    "                cell = eval(cell.replace(\"], [\", \", \").replace(\n",
    "                    \"[[\", '').replace(\"]]\", ''))\n",
    "            return cell\n",
    "\n",
    "    # filling in NAN cells in number of reviews\n",
    "    def fill_number_review(x):\n",
    "        if (pd.isna(x['Number of Reviews'])) and (pd.notna(x['Reviews'])):\n",
    "            if len(x['Reviews']) == 2:  # i.e. only one text and one date\n",
    "                return 1\n",
    "            else:\n",
    "                return median_number_reviews\n",
    "        if (pd.isna(x['Number of Reviews'])) and (pd.isna(x['Reviews'])):\n",
    "            return 0\n",
    "        return x['Number of Reviews'] \n",
    "\n",
    "    # defining other city\n",
    "    def other_city(cell):\n",
    "        if cell not in top_15_cities:\n",
    "            cell = 'Other'\n",
    "        return cell\n",
    "\n",
    "    # using reviews column to create columns with texts and dates\n",
    "    def review_text(cell):\n",
    "        if cell == 'Not Available':\n",
    "            return cell\n",
    "        if len(cell) == 2:\n",
    "            return cell[0]\n",
    "        if len(cell) == 4:\n",
    "            return list(cell[:2])\n",
    "\n",
    "    def review_date1(cell):\n",
    "        if cell == 'Not Available' or len(cell) == 2:\n",
    "            return pd.to_datetime(np.nan)\n",
    "        if len(cell) == 4:\n",
    "            return pd.to_datetime(cell[2]).date()\n",
    "\n",
    "    def review_date2(cell):\n",
    "        if cell == 'Not Available':\n",
    "            return pd.to_datetime(np.nan)\n",
    "        if len(cell) == 2:\n",
    "            return pd.to_datetime(cell[1]).date()\n",
    "        if len(cell) == 4:\n",
    "            return pd.to_datetime(cell[3]).date()\n",
    "\n",
    "    # labelling time periods\n",
    "    def date_diff_label(days):\n",
    "        if days <= 7:\n",
    "            return 1\n",
    "        if 7 < days <= 30:\n",
    "            return 2\n",
    "        if 30 < days <= 180:\n",
    "            return 3\n",
    "        if 180 < days <= 365:\n",
    "            return 4\n",
    "        if days > 365:\n",
    "            return 5\n",
    "\n",
    "    # defining top cuisine styles\n",
    "    def top_cuisine(cell):\n",
    "        new_cuisine_list = []\n",
    "        if cell == 'Other':\n",
    "            new_cuisine_list.append(cell)\n",
    "        for cuisine in cell:\n",
    "            if cuisine in top_15_cuisines:\n",
    "                new_cuisine_list.append(cuisine)\n",
    "        return new_cuisine_list\n",
    "\n",
    "    # labelling cuisine styles (for new feature)\n",
    "    def vegetarian_friendly(cell):\n",
    "        if 'Vegetarian Friendly' in cell:\n",
    "            return 1\n",
    "        else:\n",
    "            return 0\n",
    "\n",
    "    def european(cell):\n",
    "        if 'European' in cell:\n",
    "            return 1\n",
    "        else:\n",
    "            return 0\n",
    "\n",
    "    def other(cell):\n",
    "        if 'Other' in cell:\n",
    "            return 1\n",
    "        else:\n",
    "            return 0\n",
    "\n",
    "    def mediterranean(cell):\n",
    "        if 'Mediterranean' in cell:\n",
    "            return 1\n",
    "        else:\n",
    "            return 0\n",
    "\n",
    "    def italian(cell):\n",
    "        if 'Italian' in cell:\n",
    "            return 1\n",
    "        else:\n",
    "            return 0\n",
    "\n",
    "    def vegan_options(cell):\n",
    "        if 'Vegan Options' in cell:\n",
    "            return 1\n",
    "        else:\n",
    "            return 0\n",
    "\n",
    "    def gluten_free(cell):\n",
    "        if 'Gluten Free Options' in cell:\n",
    "            return 1\n",
    "        else:\n",
    "            return 0\n",
    "\n",
    "    def bar(cell):\n",
    "        if 'Bar' in cell:\n",
    "            return 1\n",
    "        else:\n",
    "            return 0\n",
    "\n",
    "    def french(cell):\n",
    "        if 'French' in cell:\n",
    "            return 1\n",
    "        else:\n",
    "            return 0\n",
    "\n",
    "    def asian(cell):\n",
    "        if 'Asian' in cell:\n",
    "            return 1\n",
    "        else:\n",
    "            return 0\n",
    "\n",
    "    def pizza(cell):\n",
    "        if 'Pizza' in cell:\n",
    "            return 1\n",
    "        else:\n",
    "            return 0\n",
    "\n",
    "    def spanish(cell):\n",
    "        if 'Spanish' in cell:\n",
    "            return 1\n",
    "        else:\n",
    "            return 0\n",
    "\n",
    "    def pub(cell):\n",
    "        if 'Pub' in cell:\n",
    "            return 1\n",
    "        else:\n",
    "            return 0\n",
    "\n",
    "    def cafe(cell):\n",
    "        if 'Cafe' in cell:\n",
    "            return 1\n",
    "        else:\n",
    "            return 0\n",
    "\n",
    "    def fast_food(cell):\n",
    "        if 'Fast Food' in cell:\n",
    "            return 1\n",
    "        else:\n",
    "            return 0\n",
    "\n",
    "    # creating legend list for our pie chat\n",
    "    def pie_legend(x):\n",
    "        if x == 1:\n",
    "            return 'week or less'\n",
    "        if x == 2:\n",
    "            return '1 week - 1 month'\n",
    "        if x == 3:\n",
    "            return '1 month - 6 months'\n",
    "        if x == 4:\n",
    "            return '6 months - 1 year'\n",
    "        if x == 5:\n",
    "            return 'more than a year'\n",
    "    \n",
    "    \n",
    "    \n",
    "    ###### Cleaning and Prepping Data ######\n",
    "    \n",
    "    df_output['Cuisine Style'] = df_output['Cuisine Style'].apply(lambda x: cuisine_to_list(x))\n",
    "    df_output['Price Range'] = df_output['Price Range'].apply(lambda x: price_to_label(x))\n",
    "    df_output['Reviews'] = df_output['Reviews'].apply(lambda x: format_reviews(x))\n",
    "    \n",
    "    \n",
    "    \n",
    "    \n",
    "    ###### NAN ###### \n",
    "        \n",
    "    df_output['No Reviews'] = df_output['Number of Reviews'].isna()\n",
    "    df_output['Cuisine Style'].fillna('Other', inplace=True)\n",
    "    df_output['Price Range'].fillna(2, inplace=True)\n",
    "    \n",
    "    df_output['Number of Reviews'] = df_output.apply(fill_number_review, axis = 1)\n",
    "    df_output['Reviews'].fillna('Not Available', inplace=True)\n",
    "     \n",
    "    \n",
    "    ###### NEW FEATURES ######\n",
    "    chain_id = list(df_output['Restaurant_id'].value_counts()[df_output['Restaurant_id'].value_counts()>1].index)\n",
    "    df_output['Chain'] = (df_output.apply((lambda x: 1 if x['Restaurant_id'] in chain_id else 0), axis = 1))\n",
    "    \n",
    "    top_15_cities = df_output['City'].value_counts().index[:15]\n",
    "    df_output['City Top'] = df_output['City'].apply(lambda x: other_city(x))\n",
    "    df_output = pd.get_dummies(df_output, columns=['City Top'])\n",
    "    \n",
    "    df_output['Review Texts'] = df_output['Reviews'].apply(lambda x: review_text(x))\n",
    "    df_output['Date of 1st Review'] = df_output['Reviews'].apply(lambda x: review_date1(x))\n",
    "    df_output['Date of 2nd Review'] = df_output['Reviews'].apply(lambda x: review_date2(x))\n",
    "\n",
    "    df_output['Date difference'] = (abs(df_output['Date of 1st Review'] - df_output['Date of 2nd Review']\n",
    "                               ).dt.days).apply(lambda x: date_diff_label(x)).fillna(5)\n",
    "    \n",
    "    df_output['Price Ranges'] = df_output['Price Range']\n",
    "    df_output = pd.get_dummies(df_output, columns=['Price Ranges'])\n",
    "           \n",
    "    \n",
    "    top_15_cuisines = list(df_output.explode('Cuisine Style')['Cuisine Style'].value_counts().index[:15])\n",
    "    df_output['Top Cuisine'] = df_output['Cuisine Style'].apply(lambda x: top_cuisine(x))\n",
    "    df_output['Cuisine - Vegetarian Friendly'] = df_output['Top Cuisine'].apply(lambda x: vegetarian_friendly(x))\n",
    "    df_output['Cuisine - European'] = df_output['Top Cuisine'].apply(lambda x: european(x))\n",
    "    df_output['Cuisine - Other'] = df_output['Top Cuisine'].apply(lambda x: other(x))\n",
    "    df_output['Cuisine - Mediterranean'] = df_output['Top Cuisine'].apply(lambda x: mediterranean(x))\n",
    "    df_output['Cuisine - Italian'] = df_output['Top Cuisine'].apply(lambda x: italian(x))\n",
    "    df_output['Cuisine - Vegan Options'] = df_output['Top Cuisine'].apply(lambda x: vegan_options(x))\n",
    "    df_output['Cuisine - Gluten Free Options'] = df_output['Top Cuisine'].apply(lambda x: gluten_free(x))\n",
    "    df_output['Cuisine - Bar'] = df_output['Top Cuisine'].apply(lambda x: bar(x))\n",
    "    df_output['Cuisine - French'] = df_output['Top Cuisine'].apply(lambda x: french(x))\n",
    "    df_output['Cuisine - Asian'] = df_output['Top Cuisine'].apply(lambda x: asian(x))\n",
    "    df_output['Cuisine - Pizza'] = df_output['Top Cuisine'].apply(lambda x: pizza(x))\n",
    "    df_output['Cuisine - Spanish'] = df_output['Top Cuisine'].apply(lambda x: spanish(x))\n",
    "    df_output['Cuisine - Pub'] = df_output['Top Cuisine'].apply(lambda x: pub(x))\n",
    "    df_output['Cuisine - Cafe'] = df_output['Top Cuisine'].apply(lambda x: cafe(x))\n",
    "    df_output['Cuisine - Fast Food'] = df_output['Top Cuisine'].apply(lambda x: fast_food(x))\n",
    "    \n",
    "\n",
    "    \n",
    "\n",
    "    # ################### 5. Clean #################################################### \n",
    "    \n",
    "    df_output.drop(['Restaurant_id','ID_TA',  'No Reviews',  'City Top_Hamburg',  'City Top_Lyon',\n",
    "                    'Cuisine - Bar', 'Cuisine - French', 'Cuisine - Asian', 'Cuisine - Pub'\n",
    "                   ], axis = 1, inplace=True)\n",
    "    object_columns = [s for s in df_output.columns if df_output[s].dtypes == 'object']\n",
    "    df_output.drop(object_columns, axis = 1, inplace=True)\n",
    "    \n",
    "    return df_output"
   ]
  },
  {
   "cell_type": "code",
   "execution_count": 69,
   "metadata": {},
   "outputs": [
    {
     "data": {
      "text/html": [
       "<div>\n",
       "<style scoped>\n",
       "    .dataframe tbody tr th:only-of-type {\n",
       "        vertical-align: middle;\n",
       "    }\n",
       "\n",
       "    .dataframe tbody tr th {\n",
       "        vertical-align: top;\n",
       "    }\n",
       "\n",
       "    .dataframe thead th {\n",
       "        text-align: right;\n",
       "    }\n",
       "</style>\n",
       "<table border=\"1\" class=\"dataframe\">\n",
       "  <thead>\n",
       "    <tr style=\"text-align: right;\">\n",
       "      <th></th>\n",
       "      <th>Ranking</th>\n",
       "      <th>Price Range</th>\n",
       "      <th>Number of Reviews</th>\n",
       "      <th>sample</th>\n",
       "      <th>Rating</th>\n",
       "      <th>Chain</th>\n",
       "      <th>City Top_Amsterdam</th>\n",
       "      <th>City Top_Barcelona</th>\n",
       "      <th>City Top_Berlin</th>\n",
       "      <th>City Top_Brussels</th>\n",
       "      <th>...</th>\n",
       "      <th>Cuisine - European</th>\n",
       "      <th>Cuisine - Other</th>\n",
       "      <th>Cuisine - Mediterranean</th>\n",
       "      <th>Cuisine - Italian</th>\n",
       "      <th>Cuisine - Vegan Options</th>\n",
       "      <th>Cuisine - Gluten Free Options</th>\n",
       "      <th>Cuisine - Pizza</th>\n",
       "      <th>Cuisine - Spanish</th>\n",
       "      <th>Cuisine - Cafe</th>\n",
       "      <th>Cuisine - Fast Food</th>\n",
       "    </tr>\n",
       "  </thead>\n",
       "  <tbody>\n",
       "    <tr>\n",
       "      <th>48881</th>\n",
       "      <td>7639.0</td>\n",
       "      <td>2.0</td>\n",
       "      <td>238.0</td>\n",
       "      <td>1</td>\n",
       "      <td>3.5</td>\n",
       "      <td>1</td>\n",
       "      <td>0</td>\n",
       "      <td>0</td>\n",
       "      <td>0</td>\n",
       "      <td>0</td>\n",
       "      <td>...</td>\n",
       "      <td>1</td>\n",
       "      <td>0</td>\n",
       "      <td>0</td>\n",
       "      <td>0</td>\n",
       "      <td>0</td>\n",
       "      <td>0</td>\n",
       "      <td>0</td>\n",
       "      <td>0</td>\n",
       "      <td>1</td>\n",
       "      <td>0</td>\n",
       "    </tr>\n",
       "    <tr>\n",
       "      <th>17421</th>\n",
       "      <td>2090.0</td>\n",
       "      <td>1.0</td>\n",
       "      <td>6.0</td>\n",
       "      <td>1</td>\n",
       "      <td>3.5</td>\n",
       "      <td>1</td>\n",
       "      <td>0</td>\n",
       "      <td>0</td>\n",
       "      <td>0</td>\n",
       "      <td>0</td>\n",
       "      <td>...</td>\n",
       "      <td>1</td>\n",
       "      <td>0</td>\n",
       "      <td>0</td>\n",
       "      <td>0</td>\n",
       "      <td>0</td>\n",
       "      <td>0</td>\n",
       "      <td>0</td>\n",
       "      <td>0</td>\n",
       "      <td>0</td>\n",
       "      <td>0</td>\n",
       "    </tr>\n",
       "    <tr>\n",
       "      <th>41442</th>\n",
       "      <td>5459.0</td>\n",
       "      <td>2.0</td>\n",
       "      <td>8.0</td>\n",
       "      <td>1</td>\n",
       "      <td>4.5</td>\n",
       "      <td>1</td>\n",
       "      <td>0</td>\n",
       "      <td>1</td>\n",
       "      <td>0</td>\n",
       "      <td>0</td>\n",
       "      <td>...</td>\n",
       "      <td>0</td>\n",
       "      <td>0</td>\n",
       "      <td>0</td>\n",
       "      <td>0</td>\n",
       "      <td>0</td>\n",
       "      <td>0</td>\n",
       "      <td>0</td>\n",
       "      <td>0</td>\n",
       "      <td>0</td>\n",
       "      <td>0</td>\n",
       "    </tr>\n",
       "    <tr>\n",
       "      <th>28777</th>\n",
       "      <td>5370.0</td>\n",
       "      <td>2.0</td>\n",
       "      <td>710.0</td>\n",
       "      <td>1</td>\n",
       "      <td>3.0</td>\n",
       "      <td>1</td>\n",
       "      <td>0</td>\n",
       "      <td>0</td>\n",
       "      <td>0</td>\n",
       "      <td>0</td>\n",
       "      <td>...</td>\n",
       "      <td>0</td>\n",
       "      <td>0</td>\n",
       "      <td>1</td>\n",
       "      <td>1</td>\n",
       "      <td>0</td>\n",
       "      <td>0</td>\n",
       "      <td>1</td>\n",
       "      <td>0</td>\n",
       "      <td>0</td>\n",
       "      <td>0</td>\n",
       "    </tr>\n",
       "    <tr>\n",
       "      <th>3628</th>\n",
       "      <td>2258.0</td>\n",
       "      <td>2.0</td>\n",
       "      <td>6.0</td>\n",
       "      <td>0</td>\n",
       "      <td>0.0</td>\n",
       "      <td>1</td>\n",
       "      <td>0</td>\n",
       "      <td>0</td>\n",
       "      <td>0</td>\n",
       "      <td>0</td>\n",
       "      <td>...</td>\n",
       "      <td>0</td>\n",
       "      <td>0</td>\n",
       "      <td>1</td>\n",
       "      <td>0</td>\n",
       "      <td>0</td>\n",
       "      <td>0</td>\n",
       "      <td>0</td>\n",
       "      <td>0</td>\n",
       "      <td>0</td>\n",
       "      <td>0</td>\n",
       "    </tr>\n",
       "    <tr>\n",
       "      <th>2495</th>\n",
       "      <td>14435.0</td>\n",
       "      <td>2.0</td>\n",
       "      <td>8.0</td>\n",
       "      <td>0</td>\n",
       "      <td>0.0</td>\n",
       "      <td>1</td>\n",
       "      <td>0</td>\n",
       "      <td>0</td>\n",
       "      <td>0</td>\n",
       "      <td>0</td>\n",
       "      <td>...</td>\n",
       "      <td>0</td>\n",
       "      <td>0</td>\n",
       "      <td>0</td>\n",
       "      <td>0</td>\n",
       "      <td>0</td>\n",
       "      <td>0</td>\n",
       "      <td>0</td>\n",
       "      <td>0</td>\n",
       "      <td>0</td>\n",
       "      <td>0</td>\n",
       "    </tr>\n",
       "    <tr>\n",
       "      <th>44828</th>\n",
       "      <td>1011.0</td>\n",
       "      <td>2.0</td>\n",
       "      <td>38.0</td>\n",
       "      <td>1</td>\n",
       "      <td>4.5</td>\n",
       "      <td>1</td>\n",
       "      <td>0</td>\n",
       "      <td>0</td>\n",
       "      <td>0</td>\n",
       "      <td>0</td>\n",
       "      <td>...</td>\n",
       "      <td>0</td>\n",
       "      <td>1</td>\n",
       "      <td>0</td>\n",
       "      <td>0</td>\n",
       "      <td>0</td>\n",
       "      <td>0</td>\n",
       "      <td>0</td>\n",
       "      <td>0</td>\n",
       "      <td>0</td>\n",
       "      <td>0</td>\n",
       "    </tr>\n",
       "    <tr>\n",
       "      <th>21691</th>\n",
       "      <td>5357.0</td>\n",
       "      <td>2.0</td>\n",
       "      <td>15.0</td>\n",
       "      <td>1</td>\n",
       "      <td>3.5</td>\n",
       "      <td>1</td>\n",
       "      <td>0</td>\n",
       "      <td>0</td>\n",
       "      <td>0</td>\n",
       "      <td>0</td>\n",
       "      <td>...</td>\n",
       "      <td>0</td>\n",
       "      <td>1</td>\n",
       "      <td>0</td>\n",
       "      <td>0</td>\n",
       "      <td>0</td>\n",
       "      <td>0</td>\n",
       "      <td>0</td>\n",
       "      <td>0</td>\n",
       "      <td>0</td>\n",
       "      <td>0</td>\n",
       "    </tr>\n",
       "    <tr>\n",
       "      <th>34890</th>\n",
       "      <td>7220.0</td>\n",
       "      <td>1.0</td>\n",
       "      <td>4.0</td>\n",
       "      <td>1</td>\n",
       "      <td>4.5</td>\n",
       "      <td>1</td>\n",
       "      <td>0</td>\n",
       "      <td>0</td>\n",
       "      <td>0</td>\n",
       "      <td>0</td>\n",
       "      <td>...</td>\n",
       "      <td>0</td>\n",
       "      <td>0</td>\n",
       "      <td>1</td>\n",
       "      <td>0</td>\n",
       "      <td>0</td>\n",
       "      <td>0</td>\n",
       "      <td>0</td>\n",
       "      <td>0</td>\n",
       "      <td>0</td>\n",
       "      <td>0</td>\n",
       "    </tr>\n",
       "    <tr>\n",
       "      <th>25102</th>\n",
       "      <td>2564.0</td>\n",
       "      <td>2.0</td>\n",
       "      <td>5.0</td>\n",
       "      <td>1</td>\n",
       "      <td>4.0</td>\n",
       "      <td>1</td>\n",
       "      <td>1</td>\n",
       "      <td>0</td>\n",
       "      <td>0</td>\n",
       "      <td>0</td>\n",
       "      <td>...</td>\n",
       "      <td>0</td>\n",
       "      <td>0</td>\n",
       "      <td>0</td>\n",
       "      <td>1</td>\n",
       "      <td>0</td>\n",
       "      <td>0</td>\n",
       "      <td>0</td>\n",
       "      <td>0</td>\n",
       "      <td>0</td>\n",
       "      <td>0</td>\n",
       "    </tr>\n",
       "  </tbody>\n",
       "</table>\n",
       "<p>10 rows × 35 columns</p>\n",
       "</div>"
      ],
      "text/plain": [
       "       Ranking  Price Range  Number of Reviews  sample  Rating  Chain  \\\n",
       "48881   7639.0          2.0              238.0       1     3.5      1   \n",
       "17421   2090.0          1.0                6.0       1     3.5      1   \n",
       "41442   5459.0          2.0                8.0       1     4.5      1   \n",
       "28777   5370.0          2.0              710.0       1     3.0      1   \n",
       "3628    2258.0          2.0                6.0       0     0.0      1   \n",
       "2495   14435.0          2.0                8.0       0     0.0      1   \n",
       "44828   1011.0          2.0               38.0       1     4.5      1   \n",
       "21691   5357.0          2.0               15.0       1     3.5      1   \n",
       "34890   7220.0          1.0                4.0       1     4.5      1   \n",
       "25102   2564.0          2.0                5.0       1     4.0      1   \n",
       "\n",
       "       City Top_Amsterdam  City Top_Barcelona  City Top_Berlin  \\\n",
       "48881                   0                   0                0   \n",
       "17421                   0                   0                0   \n",
       "41442                   0                   1                0   \n",
       "28777                   0                   0                0   \n",
       "3628                    0                   0                0   \n",
       "2495                    0                   0                0   \n",
       "44828                   0                   0                0   \n",
       "21691                   0                   0                0   \n",
       "34890                   0                   0                0   \n",
       "25102                   1                   0                0   \n",
       "\n",
       "       City Top_Brussels  ...  Cuisine - European  Cuisine - Other  \\\n",
       "48881                  0  ...                   1                0   \n",
       "17421                  0  ...                   1                0   \n",
       "41442                  0  ...                   0                0   \n",
       "28777                  0  ...                   0                0   \n",
       "3628                   0  ...                   0                0   \n",
       "2495                   0  ...                   0                0   \n",
       "44828                  0  ...                   0                1   \n",
       "21691                  0  ...                   0                1   \n",
       "34890                  0  ...                   0                0   \n",
       "25102                  0  ...                   0                0   \n",
       "\n",
       "       Cuisine - Mediterranean  Cuisine - Italian  Cuisine - Vegan Options  \\\n",
       "48881                        0                  0                        0   \n",
       "17421                        0                  0                        0   \n",
       "41442                        0                  0                        0   \n",
       "28777                        1                  1                        0   \n",
       "3628                         1                  0                        0   \n",
       "2495                         0                  0                        0   \n",
       "44828                        0                  0                        0   \n",
       "21691                        0                  0                        0   \n",
       "34890                        1                  0                        0   \n",
       "25102                        0                  1                        0   \n",
       "\n",
       "       Cuisine - Gluten Free Options  Cuisine - Pizza  Cuisine - Spanish  \\\n",
       "48881                              0                0                  0   \n",
       "17421                              0                0                  0   \n",
       "41442                              0                0                  0   \n",
       "28777                              0                1                  0   \n",
       "3628                               0                0                  0   \n",
       "2495                               0                0                  0   \n",
       "44828                              0                0                  0   \n",
       "21691                              0                0                  0   \n",
       "34890                              0                0                  0   \n",
       "25102                              0                0                  0   \n",
       "\n",
       "       Cuisine - Cafe  Cuisine - Fast Food  \n",
       "48881               1                    0  \n",
       "17421               0                    0  \n",
       "41442               0                    0  \n",
       "28777               0                    0  \n",
       "3628                0                    0  \n",
       "2495                0                    0  \n",
       "44828               0                    0  \n",
       "21691               0                    0  \n",
       "34890               0                    0  \n",
       "25102               0                    0  \n",
       "\n",
       "[10 rows x 35 columns]"
      ]
     },
     "execution_count": 69,
     "metadata": {},
     "output_type": "execute_result"
    }
   ],
   "source": [
    "df_preproc = preproc_data(data)\n",
    "df_preproc.sample(10)"
   ]
  },
  {
   "cell_type": "code",
   "execution_count": 70,
   "metadata": {},
   "outputs": [
    {
     "name": "stdout",
     "output_type": "stream",
     "text": [
      "<class 'pandas.core.frame.DataFrame'>\n",
      "RangeIndex: 50000 entries, 0 to 49999\n",
      "Data columns (total 35 columns):\n",
      " #   Column                         Non-Null Count  Dtype  \n",
      "---  ------                         --------------  -----  \n",
      " 0   Ranking                        50000 non-null  float64\n",
      " 1   Price Range                    50000 non-null  float64\n",
      " 2   Number of Reviews              50000 non-null  float64\n",
      " 3   sample                         50000 non-null  int64  \n",
      " 4   Rating                         50000 non-null  float64\n",
      " 5   Chain                          50000 non-null  int64  \n",
      " 6   City Top_Amsterdam             50000 non-null  uint8  \n",
      " 7   City Top_Barcelona             50000 non-null  uint8  \n",
      " 8   City Top_Berlin                50000 non-null  uint8  \n",
      " 9   City Top_Brussels              50000 non-null  uint8  \n",
      " 10  City Top_Lisbon                50000 non-null  uint8  \n",
      " 11  City Top_London                50000 non-null  uint8  \n",
      " 12  City Top_Madrid                50000 non-null  uint8  \n",
      " 13  City Top_Milan                 50000 non-null  uint8  \n",
      " 14  City Top_Munich                50000 non-null  uint8  \n",
      " 15  City Top_Other                 50000 non-null  uint8  \n",
      " 16  City Top_Paris                 50000 non-null  uint8  \n",
      " 17  City Top_Prague                50000 non-null  uint8  \n",
      " 18  City Top_Rome                  50000 non-null  uint8  \n",
      " 19  City Top_Vienna                50000 non-null  uint8  \n",
      " 20  Date difference                50000 non-null  float64\n",
      " 21  Price Ranges_1.0               50000 non-null  uint8  \n",
      " 22  Price Ranges_2.0               50000 non-null  uint8  \n",
      " 23  Price Ranges_3.0               50000 non-null  uint8  \n",
      " 24  Cuisine - Vegetarian Friendly  50000 non-null  int64  \n",
      " 25  Cuisine - European             50000 non-null  int64  \n",
      " 26  Cuisine - Other                50000 non-null  int64  \n",
      " 27  Cuisine - Mediterranean        50000 non-null  int64  \n",
      " 28  Cuisine - Italian              50000 non-null  int64  \n",
      " 29  Cuisine - Vegan Options        50000 non-null  int64  \n",
      " 30  Cuisine - Gluten Free Options  50000 non-null  int64  \n",
      " 31  Cuisine - Pizza                50000 non-null  int64  \n",
      " 32  Cuisine - Spanish              50000 non-null  int64  \n",
      " 33  Cuisine - Cafe                 50000 non-null  int64  \n",
      " 34  Cuisine - Fast Food            50000 non-null  int64  \n",
      "dtypes: float64(5), int64(13), uint8(17)\n",
      "memory usage: 7.7 MB\n"
     ]
    }
   ],
   "source": [
    "df_preproc.info()"
   ]
  },
  {
   "cell_type": "code",
   "execution_count": 71,
   "metadata": {},
   "outputs": [],
   "source": [
    "# test part\n",
    "train_data = df_preproc.query('sample == 1').drop(['sample'], axis=1)\n",
    "test_data = df_preproc.query('sample == 0').drop(['sample'], axis=1)\n",
    "\n",
    "y = train_data.Rating.values           \n",
    "X = train_data.drop(['Rating'], axis=1)"
   ]
  },
  {
   "cell_type": "markdown",
   "metadata": {},
   "source": [
    "**Validation**"
   ]
  },
  {
   "cell_type": "code",
   "execution_count": 72,
   "metadata": {},
   "outputs": [],
   "source": [
    "# 20% for validation\n",
    "X_train, X_test, y_train, y_test = train_test_split(X, y, test_size=0.2, random_state=RANDOM_SEED)"
   ]
  },
  {
   "cell_type": "code",
   "execution_count": 73,
   "metadata": {},
   "outputs": [
    {
     "data": {
      "text/plain": [
       "((10000, 34), (40000, 34), (40000, 33), (32000, 33), (8000, 33))"
      ]
     },
     "execution_count": 73,
     "metadata": {},
     "output_type": "execute_result"
    }
   ],
   "source": [
    "# checking\n",
    "test_data.shape, train_data.shape, X.shape, X_train.shape, X_test.shape"
   ]
  },
  {
   "cell_type": "markdown",
   "metadata": {},
   "source": [
    "# Model \n",
    "ML itself"
   ]
  },
  {
   "cell_type": "code",
   "execution_count": 74,
   "metadata": {},
   "outputs": [],
   "source": [
    "from sklearn.ensemble import RandomForestRegressor \n",
    "from sklearn import metrics "
   ]
  },
  {
   "cell_type": "code",
   "execution_count": 75,
   "metadata": {},
   "outputs": [],
   "source": [
    "# creating the model\n",
    "model = RandomForestRegressor(n_estimators=100, verbose=1, n_jobs=-1, random_state=RANDOM_SEED)"
   ]
  },
  {
   "cell_type": "code",
   "execution_count": 76,
   "metadata": {},
   "outputs": [
    {
     "name": "stderr",
     "output_type": "stream",
     "text": [
      "[Parallel(n_jobs=-1)]: Using backend ThreadingBackend with 4 concurrent workers.\n",
      "[Parallel(n_jobs=-1)]: Done  42 tasks      | elapsed:    5.0s\n",
      "[Parallel(n_jobs=-1)]: Done 100 out of 100 | elapsed:   10.7s finished\n",
      "[Parallel(n_jobs=4)]: Using backend ThreadingBackend with 4 concurrent workers.\n",
      "[Parallel(n_jobs=4)]: Done  42 tasks      | elapsed:    0.0s\n",
      "[Parallel(n_jobs=4)]: Done 100 out of 100 | elapsed:    0.1s finished\n"
     ]
    }
   ],
   "source": [
    "# training on test \n",
    "model.fit(X_train, y_train)\n",
    "\n",
    "# forecasting\n",
    "y_pred = model.predict(X_test)"
   ]
  },
  {
   "cell_type": "code",
   "execution_count": 77,
   "metadata": {},
   "outputs": [
    {
     "name": "stdout",
     "output_type": "stream",
     "text": [
      "MAE: 0.2391148125\n"
     ]
    }
   ],
   "source": [
    "# Mean Absolute Error (MAE), a statistical measure of how accurate a forecast system is\n",
    "print('MAE:', metrics.mean_absolute_error(y_test, y_pred))"
   ]
  },
  {
   "cell_type": "code",
   "execution_count": 78,
   "metadata": {},
   "outputs": [
    {
     "data": {
      "text/plain": [
       "<AxesSubplot:>"
      ]
     },
     "execution_count": 78,
     "metadata": {},
     "output_type": "execute_result"
    },
    {
     "data": {
      "image/png": "[encoded data removed]",
      "text/plain": [
       "<Figure size 720x720 with 1 Axes>"
      ]
     },
     "metadata": {
      "needs_background": "light"
     },
     "output_type": "display_data"
    }
   ],
   "source": [
    "# RandomForestRegressor - most important features\n",
    "plt.rcParams['figure.figsize'] = (10,10)\n",
    "feat_importances = pd.Series(model.feature_importances_, index=X.columns)\n",
    "feat_importances.nlargest(15).plot(kind='barh')"
   ]
  },
  {
   "cell_type": "markdown",
   "metadata": {},
   "source": [
    "# Submission\n"
   ]
  },
  {
   "cell_type": "code",
   "execution_count": 79,
   "metadata": {},
   "outputs": [
    {
     "data": {
      "text/html": [
       "<div>\n",
       "<style scoped>\n",
       "    .dataframe tbody tr th:only-of-type {\n",
       "        vertical-align: middle;\n",
       "    }\n",
       "\n",
       "    .dataframe tbody tr th {\n",
       "        vertical-align: top;\n",
       "    }\n",
       "\n",
       "    .dataframe thead th {\n",
       "        text-align: right;\n",
       "    }\n",
       "</style>\n",
       "<table border=\"1\" class=\"dataframe\">\n",
       "  <thead>\n",
       "    <tr style=\"text-align: right;\">\n",
       "      <th></th>\n",
       "      <th>Ranking</th>\n",
       "      <th>Price Range</th>\n",
       "      <th>Number of Reviews</th>\n",
       "      <th>Rating</th>\n",
       "      <th>Chain</th>\n",
       "      <th>City Top_Amsterdam</th>\n",
       "      <th>City Top_Barcelona</th>\n",
       "      <th>City Top_Berlin</th>\n",
       "      <th>City Top_Brussels</th>\n",
       "      <th>City Top_Lisbon</th>\n",
       "      <th>...</th>\n",
       "      <th>Cuisine - European</th>\n",
       "      <th>Cuisine - Other</th>\n",
       "      <th>Cuisine - Mediterranean</th>\n",
       "      <th>Cuisine - Italian</th>\n",
       "      <th>Cuisine - Vegan Options</th>\n",
       "      <th>Cuisine - Gluten Free Options</th>\n",
       "      <th>Cuisine - Pizza</th>\n",
       "      <th>Cuisine - Spanish</th>\n",
       "      <th>Cuisine - Cafe</th>\n",
       "      <th>Cuisine - Fast Food</th>\n",
       "    </tr>\n",
       "  </thead>\n",
       "  <tbody>\n",
       "    <tr>\n",
       "      <th>3719</th>\n",
       "      <td>4539.0</td>\n",
       "      <td>2.0</td>\n",
       "      <td>114.0</td>\n",
       "      <td>0.0</td>\n",
       "      <td>1</td>\n",
       "      <td>0</td>\n",
       "      <td>0</td>\n",
       "      <td>0</td>\n",
       "      <td>0</td>\n",
       "      <td>0</td>\n",
       "      <td>...</td>\n",
       "      <td>0</td>\n",
       "      <td>0</td>\n",
       "      <td>0</td>\n",
       "      <td>0</td>\n",
       "      <td>0</td>\n",
       "      <td>1</td>\n",
       "      <td>0</td>\n",
       "      <td>0</td>\n",
       "      <td>0</td>\n",
       "      <td>0</td>\n",
       "    </tr>\n",
       "    <tr>\n",
       "      <th>2808</th>\n",
       "      <td>827.0</td>\n",
       "      <td>1.0</td>\n",
       "      <td>110.0</td>\n",
       "      <td>0.0</td>\n",
       "      <td>1</td>\n",
       "      <td>0</td>\n",
       "      <td>0</td>\n",
       "      <td>0</td>\n",
       "      <td>0</td>\n",
       "      <td>0</td>\n",
       "      <td>...</td>\n",
       "      <td>0</td>\n",
       "      <td>0</td>\n",
       "      <td>0</td>\n",
       "      <td>0</td>\n",
       "      <td>0</td>\n",
       "      <td>0</td>\n",
       "      <td>0</td>\n",
       "      <td>0</td>\n",
       "      <td>1</td>\n",
       "      <td>0</td>\n",
       "    </tr>\n",
       "    <tr>\n",
       "      <th>3978</th>\n",
       "      <td>807.0</td>\n",
       "      <td>2.0</td>\n",
       "      <td>3.0</td>\n",
       "      <td>0.0</td>\n",
       "      <td>1</td>\n",
       "      <td>0</td>\n",
       "      <td>0</td>\n",
       "      <td>0</td>\n",
       "      <td>0</td>\n",
       "      <td>0</td>\n",
       "      <td>...</td>\n",
       "      <td>1</td>\n",
       "      <td>0</td>\n",
       "      <td>0</td>\n",
       "      <td>0</td>\n",
       "      <td>0</td>\n",
       "      <td>0</td>\n",
       "      <td>0</td>\n",
       "      <td>0</td>\n",
       "      <td>0</td>\n",
       "      <td>0</td>\n",
       "    </tr>\n",
       "    <tr>\n",
       "      <th>2512</th>\n",
       "      <td>5032.0</td>\n",
       "      <td>2.0</td>\n",
       "      <td>32.0</td>\n",
       "      <td>0.0</td>\n",
       "      <td>1</td>\n",
       "      <td>0</td>\n",
       "      <td>0</td>\n",
       "      <td>0</td>\n",
       "      <td>0</td>\n",
       "      <td>0</td>\n",
       "      <td>...</td>\n",
       "      <td>0</td>\n",
       "      <td>1</td>\n",
       "      <td>0</td>\n",
       "      <td>0</td>\n",
       "      <td>0</td>\n",
       "      <td>0</td>\n",
       "      <td>0</td>\n",
       "      <td>0</td>\n",
       "      <td>0</td>\n",
       "      <td>0</td>\n",
       "    </tr>\n",
       "    <tr>\n",
       "      <th>3575</th>\n",
       "      <td>9839.0</td>\n",
       "      <td>2.0</td>\n",
       "      <td>73.0</td>\n",
       "      <td>0.0</td>\n",
       "      <td>1</td>\n",
       "      <td>0</td>\n",
       "      <td>0</td>\n",
       "      <td>0</td>\n",
       "      <td>0</td>\n",
       "      <td>0</td>\n",
       "      <td>...</td>\n",
       "      <td>0</td>\n",
       "      <td>1</td>\n",
       "      <td>0</td>\n",
       "      <td>0</td>\n",
       "      <td>0</td>\n",
       "      <td>0</td>\n",
       "      <td>0</td>\n",
       "      <td>0</td>\n",
       "      <td>0</td>\n",
       "      <td>0</td>\n",
       "    </tr>\n",
       "    <tr>\n",
       "      <th>2967</th>\n",
       "      <td>829.0</td>\n",
       "      <td>2.0</td>\n",
       "      <td>226.0</td>\n",
       "      <td>0.0</td>\n",
       "      <td>1</td>\n",
       "      <td>0</td>\n",
       "      <td>0</td>\n",
       "      <td>0</td>\n",
       "      <td>0</td>\n",
       "      <td>0</td>\n",
       "      <td>...</td>\n",
       "      <td>1</td>\n",
       "      <td>0</td>\n",
       "      <td>0</td>\n",
       "      <td>1</td>\n",
       "      <td>1</td>\n",
       "      <td>1</td>\n",
       "      <td>1</td>\n",
       "      <td>0</td>\n",
       "      <td>0</td>\n",
       "      <td>0</td>\n",
       "    </tr>\n",
       "    <tr>\n",
       "      <th>8967</th>\n",
       "      <td>4745.0</td>\n",
       "      <td>2.0</td>\n",
       "      <td>85.0</td>\n",
       "      <td>0.0</td>\n",
       "      <td>1</td>\n",
       "      <td>0</td>\n",
       "      <td>0</td>\n",
       "      <td>0</td>\n",
       "      <td>0</td>\n",
       "      <td>0</td>\n",
       "      <td>...</td>\n",
       "      <td>0</td>\n",
       "      <td>0</td>\n",
       "      <td>0</td>\n",
       "      <td>0</td>\n",
       "      <td>0</td>\n",
       "      <td>0</td>\n",
       "      <td>0</td>\n",
       "      <td>0</td>\n",
       "      <td>0</td>\n",
       "      <td>0</td>\n",
       "    </tr>\n",
       "    <tr>\n",
       "      <th>2182</th>\n",
       "      <td>966.0</td>\n",
       "      <td>2.0</td>\n",
       "      <td>213.0</td>\n",
       "      <td>0.0</td>\n",
       "      <td>1</td>\n",
       "      <td>0</td>\n",
       "      <td>0</td>\n",
       "      <td>0</td>\n",
       "      <td>0</td>\n",
       "      <td>0</td>\n",
       "      <td>...</td>\n",
       "      <td>1</td>\n",
       "      <td>0</td>\n",
       "      <td>0</td>\n",
       "      <td>0</td>\n",
       "      <td>0</td>\n",
       "      <td>0</td>\n",
       "      <td>0</td>\n",
       "      <td>0</td>\n",
       "      <td>0</td>\n",
       "      <td>0</td>\n",
       "    </tr>\n",
       "    <tr>\n",
       "      <th>5593</th>\n",
       "      <td>7644.0</td>\n",
       "      <td>2.0</td>\n",
       "      <td>42.0</td>\n",
       "      <td>0.0</td>\n",
       "      <td>1</td>\n",
       "      <td>0</td>\n",
       "      <td>0</td>\n",
       "      <td>0</td>\n",
       "      <td>0</td>\n",
       "      <td>0</td>\n",
       "      <td>...</td>\n",
       "      <td>0</td>\n",
       "      <td>1</td>\n",
       "      <td>0</td>\n",
       "      <td>0</td>\n",
       "      <td>0</td>\n",
       "      <td>0</td>\n",
       "      <td>0</td>\n",
       "      <td>0</td>\n",
       "      <td>0</td>\n",
       "      <td>0</td>\n",
       "    </tr>\n",
       "    <tr>\n",
       "      <th>526</th>\n",
       "      <td>8307.0</td>\n",
       "      <td>2.0</td>\n",
       "      <td>24.0</td>\n",
       "      <td>0.0</td>\n",
       "      <td>1</td>\n",
       "      <td>0</td>\n",
       "      <td>0</td>\n",
       "      <td>0</td>\n",
       "      <td>0</td>\n",
       "      <td>0</td>\n",
       "      <td>...</td>\n",
       "      <td>0</td>\n",
       "      <td>1</td>\n",
       "      <td>0</td>\n",
       "      <td>0</td>\n",
       "      <td>0</td>\n",
       "      <td>0</td>\n",
       "      <td>0</td>\n",
       "      <td>0</td>\n",
       "      <td>0</td>\n",
       "      <td>0</td>\n",
       "    </tr>\n",
       "  </tbody>\n",
       "</table>\n",
       "<p>10 rows × 34 columns</p>\n",
       "</div>"
      ],
      "text/plain": [
       "      Ranking  Price Range  Number of Reviews  Rating  Chain  \\\n",
       "3719   4539.0          2.0              114.0     0.0      1   \n",
       "2808    827.0          1.0              110.0     0.0      1   \n",
       "3978    807.0          2.0                3.0     0.0      1   \n",
       "2512   5032.0          2.0               32.0     0.0      1   \n",
       "3575   9839.0          2.0               73.0     0.0      1   \n",
       "2967    829.0          2.0              226.0     0.0      1   \n",
       "8967   4745.0          2.0               85.0     0.0      1   \n",
       "2182    966.0          2.0              213.0     0.0      1   \n",
       "5593   7644.0          2.0               42.0     0.0      1   \n",
       "526    8307.0          2.0               24.0     0.0      1   \n",
       "\n",
       "      City Top_Amsterdam  City Top_Barcelona  City Top_Berlin  \\\n",
       "3719                   0                   0                0   \n",
       "2808                   0                   0                0   \n",
       "3978                   0                   0                0   \n",
       "2512                   0                   0                0   \n",
       "3575                   0                   0                0   \n",
       "2967                   0                   0                0   \n",
       "8967                   0                   0                0   \n",
       "2182                   0                   0                0   \n",
       "5593                   0                   0                0   \n",
       "526                    0                   0                0   \n",
       "\n",
       "      City Top_Brussels  City Top_Lisbon  ...  Cuisine - European  \\\n",
       "3719                  0                0  ...                   0   \n",
       "2808                  0                0  ...                   0   \n",
       "3978                  0                0  ...                   1   \n",
       "2512                  0                0  ...                   0   \n",
       "3575                  0                0  ...                   0   \n",
       "2967                  0                0  ...                   1   \n",
       "8967                  0                0  ...                   0   \n",
       "2182                  0                0  ...                   1   \n",
       "5593                  0                0  ...                   0   \n",
       "526                   0                0  ...                   0   \n",
       "\n",
       "      Cuisine - Other  Cuisine - Mediterranean  Cuisine - Italian  \\\n",
       "3719                0                        0                  0   \n",
       "2808                0                        0                  0   \n",
       "3978                0                        0                  0   \n",
       "2512                1                        0                  0   \n",
       "3575                1                        0                  0   \n",
       "2967                0                        0                  1   \n",
       "8967                0                        0                  0   \n",
       "2182                0                        0                  0   \n",
       "5593                1                        0                  0   \n",
       "526                 1                        0                  0   \n",
       "\n",
       "      Cuisine - Vegan Options  Cuisine - Gluten Free Options  Cuisine - Pizza  \\\n",
       "3719                        0                              1                0   \n",
       "2808                        0                              0                0   \n",
       "3978                        0                              0                0   \n",
       "2512                        0                              0                0   \n",
       "3575                        0                              0                0   \n",
       "2967                        1                              1                1   \n",
       "8967                        0                              0                0   \n",
       "2182                        0                              0                0   \n",
       "5593                        0                              0                0   \n",
       "526                         0                              0                0   \n",
       "\n",
       "      Cuisine - Spanish  Cuisine - Cafe  Cuisine - Fast Food  \n",
       "3719                  0               0                    0  \n",
       "2808                  0               1                    0  \n",
       "3978                  0               0                    0  \n",
       "2512                  0               0                    0  \n",
       "3575                  0               0                    0  \n",
       "2967                  0               0                    0  \n",
       "8967                  0               0                    0  \n",
       "2182                  0               0                    0  \n",
       "5593                  0               0                    0  \n",
       "526                   0               0                    0  \n",
       "\n",
       "[10 rows x 34 columns]"
      ]
     },
     "execution_count": 79,
     "metadata": {},
     "output_type": "execute_result"
    }
   ],
   "source": [
    "test_data.sample(10)"
   ]
  },
  {
   "cell_type": "code",
   "execution_count": 80,
   "metadata": {},
   "outputs": [],
   "source": [
    "test_data = test_data.drop(['Rating'], axis=1)"
   ]
  },
  {
   "cell_type": "code",
   "execution_count": 81,
   "metadata": {},
   "outputs": [
    {
     "data": {
      "text/html": [
       "<div>\n",
       "<style scoped>\n",
       "    .dataframe tbody tr th:only-of-type {\n",
       "        vertical-align: middle;\n",
       "    }\n",
       "\n",
       "    .dataframe tbody tr th {\n",
       "        vertical-align: top;\n",
       "    }\n",
       "\n",
       "    .dataframe thead th {\n",
       "        text-align: right;\n",
       "    }\n",
       "</style>\n",
       "<table border=\"1\" class=\"dataframe\">\n",
       "  <thead>\n",
       "    <tr style=\"text-align: right;\">\n",
       "      <th></th>\n",
       "      <th>Restaurant_id</th>\n",
       "      <th>Rating</th>\n",
       "    </tr>\n",
       "  </thead>\n",
       "  <tbody>\n",
       "    <tr>\n",
       "      <th>0</th>\n",
       "      <td>id_0</td>\n",
       "      <td>2.0</td>\n",
       "    </tr>\n",
       "    <tr>\n",
       "      <th>1</th>\n",
       "      <td>id_1</td>\n",
       "      <td>2.5</td>\n",
       "    </tr>\n",
       "    <tr>\n",
       "      <th>2</th>\n",
       "      <td>id_2</td>\n",
       "      <td>4.0</td>\n",
       "    </tr>\n",
       "    <tr>\n",
       "      <th>3</th>\n",
       "      <td>id_3</td>\n",
       "      <td>1.0</td>\n",
       "    </tr>\n",
       "    <tr>\n",
       "      <th>4</th>\n",
       "      <td>id_4</td>\n",
       "      <td>4.0</td>\n",
       "    </tr>\n",
       "    <tr>\n",
       "      <th>...</th>\n",
       "      <td>...</td>\n",
       "      <td>...</td>\n",
       "    </tr>\n",
       "    <tr>\n",
       "      <th>9995</th>\n",
       "      <td>id_9995</td>\n",
       "      <td>3.0</td>\n",
       "    </tr>\n",
       "    <tr>\n",
       "      <th>9996</th>\n",
       "      <td>id_9996</td>\n",
       "      <td>1.5</td>\n",
       "    </tr>\n",
       "    <tr>\n",
       "      <th>9997</th>\n",
       "      <td>id_9997</td>\n",
       "      <td>4.5</td>\n",
       "    </tr>\n",
       "    <tr>\n",
       "      <th>9998</th>\n",
       "      <td>id_9998</td>\n",
       "      <td>1.0</td>\n",
       "    </tr>\n",
       "    <tr>\n",
       "      <th>9999</th>\n",
       "      <td>id_9999</td>\n",
       "      <td>2.5</td>\n",
       "    </tr>\n",
       "  </tbody>\n",
       "</table>\n",
       "<p>10000 rows × 2 columns</p>\n",
       "</div>"
      ],
      "text/plain": [
       "     Restaurant_id  Rating\n",
       "0             id_0     2.0\n",
       "1             id_1     2.5\n",
       "2             id_2     4.0\n",
       "3             id_3     1.0\n",
       "4             id_4     4.0\n",
       "...            ...     ...\n",
       "9995       id_9995     3.0\n",
       "9996       id_9996     1.5\n",
       "9997       id_9997     4.5\n",
       "9998       id_9998     1.0\n",
       "9999       id_9999     2.5\n",
       "\n",
       "[10000 rows x 2 columns]"
      ]
     },
     "execution_count": 81,
     "metadata": {},
     "output_type": "execute_result"
    }
   ],
   "source": [
    "sample_submission"
   ]
  },
  {
   "cell_type": "code",
   "execution_count": 82,
   "metadata": {},
   "outputs": [
    {
     "name": "stderr",
     "output_type": "stream",
     "text": [
      "[Parallel(n_jobs=4)]: Using backend ThreadingBackend with 4 concurrent workers.\n",
      "[Parallel(n_jobs=4)]: Done  42 tasks      | elapsed:    0.0s\n",
      "[Parallel(n_jobs=4)]: Done 100 out of 100 | elapsed:    0.1s finished\n"
     ]
    }
   ],
   "source": [
    "predict_submission = model.predict(test_data)"
   ]
  },
  {
   "cell_type": "code",
   "execution_count": 83,
   "metadata": {},
   "outputs": [
    {
     "data": {
      "text/plain": [
       "array([2.975, 4.395, 3.885, ..., 3.015, 4.5  , 4.28 ])"
      ]
     },
     "execution_count": 83,
     "metadata": {},
     "output_type": "execute_result"
    }
   ],
   "source": [
    "predict_submission"
   ]
  },
  {
   "cell_type": "code",
   "execution_count": 84,
   "metadata": {},
   "outputs": [
    {
     "data": {
      "text/html": [
       "<div>\n",
       "<style scoped>\n",
       "    .dataframe tbody tr th:only-of-type {\n",
       "        vertical-align: middle;\n",
       "    }\n",
       "\n",
       "    .dataframe tbody tr th {\n",
       "        vertical-align: top;\n",
       "    }\n",
       "\n",
       "    .dataframe thead th {\n",
       "        text-align: right;\n",
       "    }\n",
       "</style>\n",
       "<table border=\"1\" class=\"dataframe\">\n",
       "  <thead>\n",
       "    <tr style=\"text-align: right;\">\n",
       "      <th></th>\n",
       "      <th>Restaurant_id</th>\n",
       "      <th>Rating</th>\n",
       "    </tr>\n",
       "  </thead>\n",
       "  <tbody>\n",
       "    <tr>\n",
       "      <th>0</th>\n",
       "      <td>id_0</td>\n",
       "      <td>2.975</td>\n",
       "    </tr>\n",
       "    <tr>\n",
       "      <th>1</th>\n",
       "      <td>id_1</td>\n",
       "      <td>4.395</td>\n",
       "    </tr>\n",
       "    <tr>\n",
       "      <th>2</th>\n",
       "      <td>id_2</td>\n",
       "      <td>3.885</td>\n",
       "    </tr>\n",
       "    <tr>\n",
       "      <th>3</th>\n",
       "      <td>id_3</td>\n",
       "      <td>4.380</td>\n",
       "    </tr>\n",
       "    <tr>\n",
       "      <th>4</th>\n",
       "      <td>id_4</td>\n",
       "      <td>4.470</td>\n",
       "    </tr>\n",
       "    <tr>\n",
       "      <th>5</th>\n",
       "      <td>id_5</td>\n",
       "      <td>4.385</td>\n",
       "    </tr>\n",
       "    <tr>\n",
       "      <th>6</th>\n",
       "      <td>id_6</td>\n",
       "      <td>2.295</td>\n",
       "    </tr>\n",
       "    <tr>\n",
       "      <th>7</th>\n",
       "      <td>id_7</td>\n",
       "      <td>2.755</td>\n",
       "    </tr>\n",
       "    <tr>\n",
       "      <th>8</th>\n",
       "      <td>id_8</td>\n",
       "      <td>4.680</td>\n",
       "    </tr>\n",
       "    <tr>\n",
       "      <th>9</th>\n",
       "      <td>id_9</td>\n",
       "      <td>4.255</td>\n",
       "    </tr>\n",
       "  </tbody>\n",
       "</table>\n",
       "</div>"
      ],
      "text/plain": [
       "  Restaurant_id  Rating\n",
       "0          id_0   2.975\n",
       "1          id_1   4.395\n",
       "2          id_2   3.885\n",
       "3          id_3   4.380\n",
       "4          id_4   4.470\n",
       "5          id_5   4.385\n",
       "6          id_6   2.295\n",
       "7          id_7   2.755\n",
       "8          id_8   4.680\n",
       "9          id_9   4.255"
      ]
     },
     "execution_count": 84,
     "metadata": {},
     "output_type": "execute_result"
    }
   ],
   "source": [
    "sample_submission['Rating'] = predict_submission\n",
    "sample_submission.to_csv('submission.csv', index=False)\n",
    "sample_submission.head(10)"
   ]
  },
  {
   "cell_type": "code",
   "execution_count": null,
   "metadata": {},
   "outputs": [],
   "source": []
  }
 ],
 "metadata": {
  "kernelspec": {
   "display_name": "Python 3",
   "language": "python",
   "name": "python3"
  },
  "language_info": {
   "codemirror_mode": {
    "name": "ipython",
    "version": 3
   },
   "file_extension": ".py",
   "mimetype": "text/x-python",
   "name": "python",
   "nbconvert_exporter": "python",
   "pygments_lexer": "ipython3",
   "version": "3.8.5"
  },
  "varInspector": {
   "cols": {
    "lenName": 16,
    "lenType": 16,
    "lenVar": 40
   },
   "kernels_config": {
    "python": {
     "delete_cmd_postfix": "",
     "delete_cmd_prefix": "del ",
     "library": "var_list.py",
     "varRefreshCmd": "print(var_dic_list())"
    },
    "r": {
     "delete_cmd_postfix": ") ",
     "delete_cmd_prefix": "rm(",
     "library": "var_list.r",
     "varRefreshCmd": "cat(var_dic_list()) "
    }
   },
   "types_to_exclude": [
    "module",
    "function",
    "builtin_function_or_method",
    "instance",
    "_Feature"
   ],
   "window_display": false
  }
 },
 "nbformat": 4,
 "nbformat_minor": 4
}
