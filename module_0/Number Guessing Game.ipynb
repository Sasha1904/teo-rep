{
 "cells": [
  {
   "cell_type": "code",
   "execution_count": 17,
   "metadata": {},
   "outputs": [],
   "source": [
    "import numpy as np\n",
    "''' A random number between 1 and 100 is generated.'''\n",
    "number = np.random.randint(1,101) \n",
    "\n",
    "\n",
    "def game_core_v3(number):\n",
    "    ''' The number is guessed by using binary search.\n",
    "    \n",
    "    It requires 3 steps each time an element is picked up:\n",
    "    1. Calculating midpoint of the range ('mid')\n",
    "    2. Comparing it with the generated number (equal, higher, lower)\n",
    "    3. Redefining the search range ('start' and 'end')\n",
    "    '''\n",
    "    start = 1\n",
    "    end = 100\n",
    "    mid = (start + (end-1)) // 2\n",
    "    guess_count = 1\n",
    "    \n",
    "    # Loop stops when newly calculated midpoint equals the number\n",
    "    # guessed.\n",
    "    while number != mid:\n",
    "        mid = (start + (end-1)) // 2\n",
    "        \n",
    "        if mid > number:\n",
    "            guess_count += 1\n",
    "            end = mid - 1  # E.g. range of (1, 101) becomes (1, 50)\n",
    "        elif mid < number:\n",
    "            guess_count += 1\n",
    "            start = mid + 1  # E.g. range of (1, 50) becomes (26, 50)\n",
    "            \n",
    "    return guess_count\n",
    "\n",
    "\n",
    "def score_game(game_core):\n",
    "    ''' The game is simulated 1000 times to understand how many tries\n",
    "    it takes to guess the number.\n",
    "    \n",
    "    The mean value of guess count is calculated.\n",
    "    '''\n",
    "    count_ls = []\n",
    "    # Setting the SEED to get the random number generator reproduced.\n",
    "    np.random.seed(1)\n",
    "    random_array = np.random.randint(1, 101, size = 1000)\n",
    "    \n",
    "    for number in random_array:\n",
    "        count_ls.append(game_core)\n",
    "        \n",
    "    score = int(np.mean(count_ls))\n",
    "    \n",
    "    return score\n"
   ]
  },
  {
   "cell_type": "code",
   "execution_count": 18,
   "metadata": {},
   "outputs": [
    {
     "data": {
      "text/plain": [
       "7"
      ]
     },
     "execution_count": 18,
     "metadata": {},
     "output_type": "execute_result"
    }
   ],
   "source": [
    "score_game(game_core_v3(number))"
   ]
  },
  {
   "cell_type": "code",
   "execution_count": null,
   "metadata": {},
   "outputs": [],
   "source": []
  }
 ],
 "metadata": {
  "kernelspec": {
   "display_name": "Python 3",
   "language": "python",
   "name": "python3"
  },
  "language_info": {
   "codemirror_mode": {
    "name": "ipython",
    "version": 3
   },
   "file_extension": ".py",
   "mimetype": "text/x-python",
   "name": "python",
   "nbconvert_exporter": "python",
   "pygments_lexer": "ipython3",
   "version": "3.8.3"
  }
 },
 "nbformat": 4,
 "nbformat_minor": 4
}
